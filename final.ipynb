{
  "nbformat": 4,
  "nbformat_minor": 0,
  "metadata": {
    "colab": {
      "provenance": [],
      "include_colab_link": true
    },
    "kernelspec": {
      "name": "python3",
      "display_name": "Python 3"
    },
    "language_info": {
      "name": "python"
    }
  },
  "cells": [
    {
      "cell_type": "markdown",
      "metadata": {
        "id": "view-in-github",
        "colab_type": "text"
      },
      "source": [
        "<a href=\"https://colab.research.google.com/github/yashkumarkalyan/webScrapingScientist/blob/v3/final.ipynb\" target=\"_parent\"><img src=\"https://colab.research.google.com/assets/colab-badge.svg\" alt=\"Open In Colab\"/></a>"
      ]
    },
    {
      "cell_type": "code",
      "source": [
        "!pip install requests"
      ],
      "metadata": {
        "colab": {
          "base_uri": "https://localhost:8080/"
        },
        "id": "VDOEEw1QxFma",
        "outputId": "17d0c568-561f-428d-c9fc-74c57d9a2faa"
      },
      "execution_count": null,
      "outputs": [
        {
          "output_type": "stream",
          "name": "stdout",
          "text": [
            "Requirement already satisfied: requests in /usr/local/lib/python3.10/dist-packages (2.32.3)\n",
            "Requirement already satisfied: charset-normalizer<4,>=2 in /usr/local/lib/python3.10/dist-packages (from requests) (3.3.2)\n",
            "Requirement already satisfied: idna<4,>=2.5 in /usr/local/lib/python3.10/dist-packages (from requests) (3.8)\n",
            "Requirement already satisfied: urllib3<3,>=1.21.1 in /usr/local/lib/python3.10/dist-packages (from requests) (2.0.7)\n",
            "Requirement already satisfied: certifi>=2017.4.17 in /usr/local/lib/python3.10/dist-packages (from requests) (2024.8.30)\n"
          ]
        }
      ]
    },
    {
      "cell_type": "code",
      "source": [
        "import requests\n",
        "from bs4 import BeautifulSoup\n",
        "\n",
        "# URL to scrape\n",
        "url = \"https://en.wikipedia.org/wiki/List_of_physicists\"\n",
        "\n",
        "# Send a GET request to the URL\n",
        "response = requests.get(url)\n",
        "\n",
        "# Parse the HTML content\n",
        "soup = BeautifulSoup(response.content, 'html.parser')\n",
        "\n",
        "# Find the section containing the list of physicists\n",
        "content = soup.find('div', {'class': 'mw-parser-output'})"
      ],
      "metadata": {
        "id": "tyJY_MuH8QcW"
      },
      "execution_count": null,
      "outputs": []
    },
    {
      "cell_type": "code",
      "source": [
        "# Initialize a dictionary to store the links\n",
        "links = {letter: [] for letter in ['A', 'B', 'C', 'D', 'E', 'F']}\n",
        "\n",
        "# Extract and save the links of physicists whose names start with A, B, C, D, E, F\n",
        "for li in content.find_all('li'):\n",
        "    a_tag = li.find('a')\n",
        "    if a_tag:\n",
        "        name = a_tag.get_text()\n",
        "        link = \"https://en.wikipedia.org\" + a_tag['href']\n",
        "        first_letter = name[0]\n",
        "        if first_letter in links and len(links[first_letter]) < 3:\n",
        "            links[first_letter].append(link)\n",
        "\n",
        "# Remove the first link with the letter 'A'\n",
        "if links['A']:\n",
        "    links['A'].pop(0)\n",
        "\n",
        "# Ensure there are 3 names from each letter\n",
        "for li in content.find_all('li'):\n",
        "    a_tag = li.find('a')\n",
        "    if a_tag:\n",
        "        name = a_tag.get_text()\n",
        "        link = \"https://en.wikipedia.org\" + a_tag['href']\n",
        "        first_letter = name[0]\n",
        "        if first_letter in links and len(links[first_letter]) < 3:\n",
        "            links[first_letter].append(link)\n",
        "\n",
        "list12=[]\n",
        "for letter, link_list in links.items():\n",
        "    list12.append(link_list[0])\n",
        "    list12.append(link_list[1])\n",
        "    list12.append(link_list[2])\n",
        "\n",
        "\n",
        "list12[2]=\"https://en.wikipedia.org/wiki/Artem_Alikhanian\"\n",
        "for i in list12:\n",
        "  print(i)"
      ],
      "metadata": {
        "colab": {
          "base_uri": "https://localhost:8080/"
        },
        "id": "SwZXNe_o8c7C",
        "outputId": "46904565-f957-498f-e6d7-2bce59b8ebde"
      },
      "execution_count": null,
      "outputs": [
        {
          "output_type": "stream",
          "name": "stdout",
          "text": [
            "https://en.wikipedia.org/wiki/Aryabhatta\n",
            "https://en.wikipedia.org/wiki/Alexei_Alexeyevich_Abrikosov\n",
            "https://en.wikipedia.org/wiki/Artem_Alikhanian\n",
            "https://en.wikipedia.org/wiki/Boyd_Bartlett\n",
            "https://en.wikipedia.org/wiki/Bertram_Brockhouse\n",
            "https://en.wikipedia.org/wiki/Bimla_Buti\n",
            "https://en.wikipedia.org/wiki/Carl_David_Anderson\n",
            "https://en.wikipedia.org/wiki/Cornelis_Bakker\n",
            "https://en.wikipedia.org/wiki/Charles_Glover_Barkla\n",
            "https://en.wikipedia.org/wiki/Derek_Abbott\n",
            "https://en.wikipedia.org/wiki/David_Z_Albert\n",
            "https://en.wikipedia.org/wiki/David_Awschalom\n",
            "https://en.wikipedia.org/wiki/Ernst_Karl_Abbe\n",
            "https://en.wikipedia.org/wiki/Elephter_Andronikashvili\n",
            "https://en.wikipedia.org/wiki/Edward_Victor_Appleton\n",
            "https://en.wikipedia.org/wiki/Franz_Aepinus\n",
            "https://en.wikipedia.org/wiki/Felicie_Albert\n",
            "https://en.wikipedia.org/wiki/Fran%C3%A7ois_Arago\n"
          ]
        }
      ]
    },
    {
      "cell_type": "code",
      "source": [
        "!pip install langchain-huggingface\n",
        "!pip install huggingface_hub"
      ],
      "metadata": {
        "id": "9F7jNkPqy5ec",
        "colab": {
          "base_uri": "https://localhost:8080/"
        },
        "outputId": "6cee4377-b9ef-4ccf-9711-39001373db02"
      },
      "execution_count": null,
      "outputs": [
        {
          "output_type": "stream",
          "name": "stdout",
          "text": [
            "Collecting langchain-huggingface\n",
            "  Downloading langchain_huggingface-0.1.0-py3-none-any.whl.metadata (1.3 kB)\n",
            "Requirement already satisfied: huggingface-hub>=0.23.0 in /usr/local/lib/python3.10/dist-packages (from langchain-huggingface) (0.24.6)\n",
            "Collecting langchain-core<0.4,>=0.3.0 (from langchain-huggingface)\n",
            "  Downloading langchain_core-0.3.0-py3-none-any.whl.metadata (6.2 kB)\n",
            "Collecting sentence-transformers>=2.6.0 (from langchain-huggingface)\n",
            "  Downloading sentence_transformers-3.1.0-py3-none-any.whl.metadata (23 kB)\n",
            "Requirement already satisfied: tokenizers>=0.19.1 in /usr/local/lib/python3.10/dist-packages (from langchain-huggingface) (0.19.1)\n",
            "Requirement already satisfied: transformers>=4.39.0 in /usr/local/lib/python3.10/dist-packages (from langchain-huggingface) (4.44.2)\n",
            "Requirement already satisfied: filelock in /usr/local/lib/python3.10/dist-packages (from huggingface-hub>=0.23.0->langchain-huggingface) (3.16.0)\n",
            "Requirement already satisfied: fsspec>=2023.5.0 in /usr/local/lib/python3.10/dist-packages (from huggingface-hub>=0.23.0->langchain-huggingface) (2024.6.1)\n",
            "Requirement already satisfied: packaging>=20.9 in /usr/local/lib/python3.10/dist-packages (from huggingface-hub>=0.23.0->langchain-huggingface) (24.1)\n",
            "Requirement already satisfied: pyyaml>=5.1 in /usr/local/lib/python3.10/dist-packages (from huggingface-hub>=0.23.0->langchain-huggingface) (6.0.2)\n",
            "Requirement already satisfied: requests in /usr/local/lib/python3.10/dist-packages (from huggingface-hub>=0.23.0->langchain-huggingface) (2.32.3)\n",
            "Requirement already satisfied: tqdm>=4.42.1 in /usr/local/lib/python3.10/dist-packages (from huggingface-hub>=0.23.0->langchain-huggingface) (4.66.5)\n",
            "Requirement already satisfied: typing-extensions>=3.7.4.3 in /usr/local/lib/python3.10/dist-packages (from huggingface-hub>=0.23.0->langchain-huggingface) (4.12.2)\n",
            "Collecting jsonpatch<2.0,>=1.33 (from langchain-core<0.4,>=0.3.0->langchain-huggingface)\n",
            "  Downloading jsonpatch-1.33-py2.py3-none-any.whl.metadata (3.0 kB)\n",
            "Collecting langsmith<0.2.0,>=0.1.117 (from langchain-core<0.4,>=0.3.0->langchain-huggingface)\n",
            "  Downloading langsmith-0.1.120-py3-none-any.whl.metadata (13 kB)\n",
            "Requirement already satisfied: pydantic<3.0.0,>=2.5.2 in /usr/local/lib/python3.10/dist-packages (from langchain-core<0.4,>=0.3.0->langchain-huggingface) (2.9.1)\n",
            "Collecting tenacity!=8.4.0,<9.0.0,>=8.1.0 (from langchain-core<0.4,>=0.3.0->langchain-huggingface)\n",
            "  Downloading tenacity-8.5.0-py3-none-any.whl.metadata (1.2 kB)\n",
            "Requirement already satisfied: torch>=1.11.0 in /usr/local/lib/python3.10/dist-packages (from sentence-transformers>=2.6.0->langchain-huggingface) (2.4.0+cu121)\n",
            "Requirement already satisfied: numpy<2.0.0 in /usr/local/lib/python3.10/dist-packages (from sentence-transformers>=2.6.0->langchain-huggingface) (1.26.4)\n",
            "Requirement already satisfied: scikit-learn in /usr/local/lib/python3.10/dist-packages (from sentence-transformers>=2.6.0->langchain-huggingface) (1.3.2)\n",
            "Requirement already satisfied: scipy in /usr/local/lib/python3.10/dist-packages (from sentence-transformers>=2.6.0->langchain-huggingface) (1.13.1)\n",
            "Requirement already satisfied: Pillow in /usr/local/lib/python3.10/dist-packages (from sentence-transformers>=2.6.0->langchain-huggingface) (9.4.0)\n",
            "Requirement already satisfied: regex!=2019.12.17 in /usr/local/lib/python3.10/dist-packages (from transformers>=4.39.0->langchain-huggingface) (2024.5.15)\n",
            "Requirement already satisfied: safetensors>=0.4.1 in /usr/local/lib/python3.10/dist-packages (from transformers>=4.39.0->langchain-huggingface) (0.4.5)\n",
            "Collecting jsonpointer>=1.9 (from jsonpatch<2.0,>=1.33->langchain-core<0.4,>=0.3.0->langchain-huggingface)\n",
            "  Downloading jsonpointer-3.0.0-py2.py3-none-any.whl.metadata (2.3 kB)\n",
            "Collecting httpx<1,>=0.23.0 (from langsmith<0.2.0,>=0.1.117->langchain-core<0.4,>=0.3.0->langchain-huggingface)\n",
            "  Downloading httpx-0.27.2-py3-none-any.whl.metadata (7.1 kB)\n",
            "Collecting orjson<4.0.0,>=3.9.14 (from langsmith<0.2.0,>=0.1.117->langchain-core<0.4,>=0.3.0->langchain-huggingface)\n",
            "  Downloading orjson-3.10.7-cp310-cp310-manylinux_2_17_x86_64.manylinux2014_x86_64.whl.metadata (50 kB)\n",
            "\u001b[2K     \u001b[90m━━━━━━━━━━━━━━━━━━━━━━━━━━━━━━━━━━━━━━━━\u001b[0m \u001b[32m50.4/50.4 kB\u001b[0m \u001b[31m3.1 MB/s\u001b[0m eta \u001b[36m0:00:00\u001b[0m\n",
            "\u001b[?25hRequirement already satisfied: annotated-types>=0.6.0 in /usr/local/lib/python3.10/dist-packages (from pydantic<3.0.0,>=2.5.2->langchain-core<0.4,>=0.3.0->langchain-huggingface) (0.7.0)\n",
            "Requirement already satisfied: pydantic-core==2.23.3 in /usr/local/lib/python3.10/dist-packages (from pydantic<3.0.0,>=2.5.2->langchain-core<0.4,>=0.3.0->langchain-huggingface) (2.23.3)\n",
            "Requirement already satisfied: charset-normalizer<4,>=2 in /usr/local/lib/python3.10/dist-packages (from requests->huggingface-hub>=0.23.0->langchain-huggingface) (3.3.2)\n",
            "Requirement already satisfied: idna<4,>=2.5 in /usr/local/lib/python3.10/dist-packages (from requests->huggingface-hub>=0.23.0->langchain-huggingface) (3.8)\n",
            "Requirement already satisfied: urllib3<3,>=1.21.1 in /usr/local/lib/python3.10/dist-packages (from requests->huggingface-hub>=0.23.0->langchain-huggingface) (2.0.7)\n",
            "Requirement already satisfied: certifi>=2017.4.17 in /usr/local/lib/python3.10/dist-packages (from requests->huggingface-hub>=0.23.0->langchain-huggingface) (2024.8.30)\n",
            "Requirement already satisfied: sympy in /usr/local/lib/python3.10/dist-packages (from torch>=1.11.0->sentence-transformers>=2.6.0->langchain-huggingface) (1.13.2)\n",
            "Requirement already satisfied: networkx in /usr/local/lib/python3.10/dist-packages (from torch>=1.11.0->sentence-transformers>=2.6.0->langchain-huggingface) (3.3)\n",
            "Requirement already satisfied: jinja2 in /usr/local/lib/python3.10/dist-packages (from torch>=1.11.0->sentence-transformers>=2.6.0->langchain-huggingface) (3.1.4)\n",
            "Requirement already satisfied: joblib>=1.1.1 in /usr/local/lib/python3.10/dist-packages (from scikit-learn->sentence-transformers>=2.6.0->langchain-huggingface) (1.4.2)\n",
            "Requirement already satisfied: threadpoolctl>=2.0.0 in /usr/local/lib/python3.10/dist-packages (from scikit-learn->sentence-transformers>=2.6.0->langchain-huggingface) (3.5.0)\n",
            "Requirement already satisfied: anyio in /usr/local/lib/python3.10/dist-packages (from httpx<1,>=0.23.0->langsmith<0.2.0,>=0.1.117->langchain-core<0.4,>=0.3.0->langchain-huggingface) (3.7.1)\n",
            "Collecting httpcore==1.* (from httpx<1,>=0.23.0->langsmith<0.2.0,>=0.1.117->langchain-core<0.4,>=0.3.0->langchain-huggingface)\n",
            "  Downloading httpcore-1.0.5-py3-none-any.whl.metadata (20 kB)\n",
            "Requirement already satisfied: sniffio in /usr/local/lib/python3.10/dist-packages (from httpx<1,>=0.23.0->langsmith<0.2.0,>=0.1.117->langchain-core<0.4,>=0.3.0->langchain-huggingface) (1.3.1)\n",
            "Collecting h11<0.15,>=0.13 (from httpcore==1.*->httpx<1,>=0.23.0->langsmith<0.2.0,>=0.1.117->langchain-core<0.4,>=0.3.0->langchain-huggingface)\n",
            "  Downloading h11-0.14.0-py3-none-any.whl.metadata (8.2 kB)\n",
            "Requirement already satisfied: MarkupSafe>=2.0 in /usr/local/lib/python3.10/dist-packages (from jinja2->torch>=1.11.0->sentence-transformers>=2.6.0->langchain-huggingface) (2.1.5)\n",
            "Requirement already satisfied: mpmath<1.4,>=1.1.0 in /usr/local/lib/python3.10/dist-packages (from sympy->torch>=1.11.0->sentence-transformers>=2.6.0->langchain-huggingface) (1.3.0)\n",
            "Requirement already satisfied: exceptiongroup in /usr/local/lib/python3.10/dist-packages (from anyio->httpx<1,>=0.23.0->langsmith<0.2.0,>=0.1.117->langchain-core<0.4,>=0.3.0->langchain-huggingface) (1.2.2)\n",
            "Downloading langchain_huggingface-0.1.0-py3-none-any.whl (20 kB)\n",
            "Downloading langchain_core-0.3.0-py3-none-any.whl (405 kB)\n",
            "\u001b[2K   \u001b[90m━━━━━━━━━━━━━━━━━━━━━━━━━━━━━━━━━━━━━━━━\u001b[0m \u001b[32m405.1/405.1 kB\u001b[0m \u001b[31m25.8 MB/s\u001b[0m eta \u001b[36m0:00:00\u001b[0m\n",
            "\u001b[?25hDownloading sentence_transformers-3.1.0-py3-none-any.whl (249 kB)\n",
            "\u001b[2K   \u001b[90m━━━━━━━━━━━━━━━━━━━━━━━━━━━━━━━━━━━━━━━━\u001b[0m \u001b[32m249.1/249.1 kB\u001b[0m \u001b[31m18.4 MB/s\u001b[0m eta \u001b[36m0:00:00\u001b[0m\n",
            "\u001b[?25hDownloading jsonpatch-1.33-py2.py3-none-any.whl (12 kB)\n",
            "Downloading langsmith-0.1.120-py3-none-any.whl (289 kB)\n",
            "\u001b[2K   \u001b[90m━━━━━━━━━━━━━━━━━━━━━━━━━━━━━━━━━━━━━━━━\u001b[0m \u001b[32m289.8/289.8 kB\u001b[0m \u001b[31m19.8 MB/s\u001b[0m eta \u001b[36m0:00:00\u001b[0m\n",
            "\u001b[?25hDownloading tenacity-8.5.0-py3-none-any.whl (28 kB)\n",
            "Downloading httpx-0.27.2-py3-none-any.whl (76 kB)\n",
            "\u001b[2K   \u001b[90m━━━━━━━━━━━━━━━━━━━━━━━━━━━━━━━━━━━━━━━━\u001b[0m \u001b[32m76.4/76.4 kB\u001b[0m \u001b[31m5.8 MB/s\u001b[0m eta \u001b[36m0:00:00\u001b[0m\n",
            "\u001b[?25hDownloading httpcore-1.0.5-py3-none-any.whl (77 kB)\n",
            "\u001b[2K   \u001b[90m━━━━━━━━━━━━━━━━━━━━━━━━━━━━━━━━━━━━━━━━\u001b[0m \u001b[32m77.9/77.9 kB\u001b[0m \u001b[31m6.1 MB/s\u001b[0m eta \u001b[36m0:00:00\u001b[0m\n",
            "\u001b[?25hDownloading jsonpointer-3.0.0-py2.py3-none-any.whl (7.6 kB)\n",
            "Downloading orjson-3.10.7-cp310-cp310-manylinux_2_17_x86_64.manylinux2014_x86_64.whl (141 kB)\n",
            "\u001b[2K   \u001b[90m━━━━━━━━━━━━━━━━━━━━━━━━━━━━━━━━━━━━━━━━\u001b[0m \u001b[32m141.9/141.9 kB\u001b[0m \u001b[31m11.8 MB/s\u001b[0m eta \u001b[36m0:00:00\u001b[0m\n",
            "\u001b[?25hDownloading h11-0.14.0-py3-none-any.whl (58 kB)\n",
            "\u001b[2K   \u001b[90m━━━━━━━━━━━━━━━━━━━━━━━━━━━━━━━━━━━━━━━━\u001b[0m \u001b[32m58.3/58.3 kB\u001b[0m \u001b[31m4.6 MB/s\u001b[0m eta \u001b[36m0:00:00\u001b[0m\n",
            "\u001b[?25hInstalling collected packages: tenacity, orjson, jsonpointer, h11, jsonpatch, httpcore, httpx, langsmith, sentence-transformers, langchain-core, langchain-huggingface\n",
            "  Attempting uninstall: tenacity\n",
            "    Found existing installation: tenacity 9.0.0\n",
            "    Uninstalling tenacity-9.0.0:\n",
            "      Successfully uninstalled tenacity-9.0.0\n",
            "Successfully installed h11-0.14.0 httpcore-1.0.5 httpx-0.27.2 jsonpatch-1.33 jsonpointer-3.0.0 langchain-core-0.3.0 langchain-huggingface-0.1.0 langsmith-0.1.120 orjson-3.10.7 sentence-transformers-3.1.0 tenacity-8.5.0\n",
            "Requirement already satisfied: huggingface_hub in /usr/local/lib/python3.10/dist-packages (0.24.6)\n",
            "Requirement already satisfied: filelock in /usr/local/lib/python3.10/dist-packages (from huggingface_hub) (3.16.0)\n",
            "Requirement already satisfied: fsspec>=2023.5.0 in /usr/local/lib/python3.10/dist-packages (from huggingface_hub) (2024.6.1)\n",
            "Requirement already satisfied: packaging>=20.9 in /usr/local/lib/python3.10/dist-packages (from huggingface_hub) (24.1)\n",
            "Requirement already satisfied: pyyaml>=5.1 in /usr/local/lib/python3.10/dist-packages (from huggingface_hub) (6.0.2)\n",
            "Requirement already satisfied: requests in /usr/local/lib/python3.10/dist-packages (from huggingface_hub) (2.32.3)\n",
            "Requirement already satisfied: tqdm>=4.42.1 in /usr/local/lib/python3.10/dist-packages (from huggingface_hub) (4.66.5)\n",
            "Requirement already satisfied: typing-extensions>=3.7.4.3 in /usr/local/lib/python3.10/dist-packages (from huggingface_hub) (4.12.2)\n",
            "Requirement already satisfied: charset-normalizer<4,>=2 in /usr/local/lib/python3.10/dist-packages (from requests->huggingface_hub) (3.3.2)\n",
            "Requirement already satisfied: idna<4,>=2.5 in /usr/local/lib/python3.10/dist-packages (from requests->huggingface_hub) (3.8)\n",
            "Requirement already satisfied: urllib3<3,>=1.21.1 in /usr/local/lib/python3.10/dist-packages (from requests->huggingface_hub) (2.0.7)\n",
            "Requirement already satisfied: certifi>=2017.4.17 in /usr/local/lib/python3.10/dist-packages (from requests->huggingface_hub) (2024.8.30)\n"
          ]
        }
      ]
    },
    {
      "cell_type": "code",
      "source": [
        "## Environment secret keys\n",
        "from google.colab import userdata\n",
        "sec_key=userdata.get(\"HF_TOKEN\")\n",
        "\n",
        "\n",
        "from langchain_huggingface import HuggingFaceEndpoint\n",
        "\n",
        "import os\n",
        "os.environ[\"HUGGING_FACE\"]=sec_key"
      ],
      "metadata": {
        "id": "j-t5PizBzq7i"
      },
      "execution_count": null,
      "outputs": []
    },
    {
      "cell_type": "code",
      "source": [
        "repo_id=\"mistralai/Mistral-7B-Instruct-v0.3\"\n",
        "llm=HuggingFaceEndpoint(repo_id=repo_id,max_length=10,temperature=0.7,token=sec_key,timeout=300)"
      ],
      "metadata": {
        "colab": {
          "base_uri": "https://localhost:8080/"
        },
        "id": "rvqPTvcq0Cgx",
        "outputId": "6144d281-0607-412c-e4cf-d9ef7ab89ca3"
      },
      "execution_count": null,
      "outputs": [
        {
          "output_type": "stream",
          "name": "stderr",
          "text": [
            "WARNING:langchain_huggingface.llms.huggingface_endpoint:WARNING! max_length is not default parameter.\n",
            "                    max_length was transferred to model_kwargs.\n",
            "                    Please make sure that max_length is what you intended.\n",
            "WARNING:langchain_huggingface.llms.huggingface_endpoint:WARNING! token is not default parameter.\n",
            "                    token was transferred to model_kwargs.\n",
            "                    Please make sure that token is what you intended.\n"
          ]
        }
      ]
    },
    {
      "cell_type": "code",
      "source": [
        "!pip install langchain langchain_community"
      ],
      "metadata": {
        "colab": {
          "base_uri": "https://localhost:8080/"
        },
        "id": "vCOHYQC73xT3",
        "outputId": "3a822e09-977c-4c36-dca5-f5797faaaa4f"
      },
      "execution_count": null,
      "outputs": [
        {
          "output_type": "stream",
          "name": "stdout",
          "text": [
            "Collecting langchain\n",
            "  Downloading langchain-0.3.0-py3-none-any.whl.metadata (7.1 kB)\n",
            "Collecting langchain_community\n",
            "  Downloading langchain_community-0.3.0-py3-none-any.whl.metadata (2.8 kB)\n",
            "Requirement already satisfied: PyYAML>=5.3 in /usr/local/lib/python3.10/dist-packages (from langchain) (6.0.2)\n",
            "Requirement already satisfied: SQLAlchemy<3,>=1.4 in /usr/local/lib/python3.10/dist-packages (from langchain) (2.0.34)\n",
            "Requirement already satisfied: aiohttp<4.0.0,>=3.8.3 in /usr/local/lib/python3.10/dist-packages (from langchain) (3.10.5)\n",
            "Requirement already satisfied: async-timeout<5.0.0,>=4.0.0 in /usr/local/lib/python3.10/dist-packages (from langchain) (4.0.3)\n",
            "Requirement already satisfied: langchain-core<0.4.0,>=0.3.0 in /usr/local/lib/python3.10/dist-packages (from langchain) (0.3.0)\n",
            "Collecting langchain-text-splitters<0.4.0,>=0.3.0 (from langchain)\n",
            "  Downloading langchain_text_splitters-0.3.0-py3-none-any.whl.metadata (2.3 kB)\n",
            "Requirement already satisfied: langsmith<0.2.0,>=0.1.17 in /usr/local/lib/python3.10/dist-packages (from langchain) (0.1.120)\n",
            "Requirement already satisfied: numpy<2,>=1 in /usr/local/lib/python3.10/dist-packages (from langchain) (1.26.4)\n",
            "Requirement already satisfied: pydantic<3.0.0,>=2.7.4 in /usr/local/lib/python3.10/dist-packages (from langchain) (2.9.1)\n",
            "Requirement already satisfied: requests<3,>=2 in /usr/local/lib/python3.10/dist-packages (from langchain) (2.32.3)\n",
            "Requirement already satisfied: tenacity!=8.4.0,<9.0.0,>=8.1.0 in /usr/local/lib/python3.10/dist-packages (from langchain) (8.5.0)\n",
            "Collecting dataclasses-json<0.7,>=0.5.7 (from langchain_community)\n",
            "  Downloading dataclasses_json-0.6.7-py3-none-any.whl.metadata (25 kB)\n",
            "Collecting pydantic-settings<3.0.0,>=2.4.0 (from langchain_community)\n",
            "  Downloading pydantic_settings-2.5.2-py3-none-any.whl.metadata (3.5 kB)\n",
            "Requirement already satisfied: aiohappyeyeballs>=2.3.0 in /usr/local/lib/python3.10/dist-packages (from aiohttp<4.0.0,>=3.8.3->langchain) (2.4.0)\n",
            "Requirement already satisfied: aiosignal>=1.1.2 in /usr/local/lib/python3.10/dist-packages (from aiohttp<4.0.0,>=3.8.3->langchain) (1.3.1)\n",
            "Requirement already satisfied: attrs>=17.3.0 in /usr/local/lib/python3.10/dist-packages (from aiohttp<4.0.0,>=3.8.3->langchain) (24.2.0)\n",
            "Requirement already satisfied: frozenlist>=1.1.1 in /usr/local/lib/python3.10/dist-packages (from aiohttp<4.0.0,>=3.8.3->langchain) (1.4.1)\n",
            "Requirement already satisfied: multidict<7.0,>=4.5 in /usr/local/lib/python3.10/dist-packages (from aiohttp<4.0.0,>=3.8.3->langchain) (6.1.0)\n",
            "Requirement already satisfied: yarl<2.0,>=1.0 in /usr/local/lib/python3.10/dist-packages (from aiohttp<4.0.0,>=3.8.3->langchain) (1.11.1)\n",
            "Collecting marshmallow<4.0.0,>=3.18.0 (from dataclasses-json<0.7,>=0.5.7->langchain_community)\n",
            "  Downloading marshmallow-3.22.0-py3-none-any.whl.metadata (7.2 kB)\n",
            "Collecting typing-inspect<1,>=0.4.0 (from dataclasses-json<0.7,>=0.5.7->langchain_community)\n",
            "  Downloading typing_inspect-0.9.0-py3-none-any.whl.metadata (1.5 kB)\n",
            "Requirement already satisfied: jsonpatch<2.0,>=1.33 in /usr/local/lib/python3.10/dist-packages (from langchain-core<0.4.0,>=0.3.0->langchain) (1.33)\n",
            "Requirement already satisfied: packaging<25,>=23.2 in /usr/local/lib/python3.10/dist-packages (from langchain-core<0.4.0,>=0.3.0->langchain) (24.1)\n",
            "Requirement already satisfied: typing-extensions>=4.7 in /usr/local/lib/python3.10/dist-packages (from langchain-core<0.4.0,>=0.3.0->langchain) (4.12.2)\n",
            "Requirement already satisfied: httpx<1,>=0.23.0 in /usr/local/lib/python3.10/dist-packages (from langsmith<0.2.0,>=0.1.17->langchain) (0.27.2)\n",
            "Requirement already satisfied: orjson<4.0.0,>=3.9.14 in /usr/local/lib/python3.10/dist-packages (from langsmith<0.2.0,>=0.1.17->langchain) (3.10.7)\n",
            "Requirement already satisfied: annotated-types>=0.6.0 in /usr/local/lib/python3.10/dist-packages (from pydantic<3.0.0,>=2.7.4->langchain) (0.7.0)\n",
            "Requirement already satisfied: pydantic-core==2.23.3 in /usr/local/lib/python3.10/dist-packages (from pydantic<3.0.0,>=2.7.4->langchain) (2.23.3)\n",
            "Collecting python-dotenv>=0.21.0 (from pydantic-settings<3.0.0,>=2.4.0->langchain_community)\n",
            "  Downloading python_dotenv-1.0.1-py3-none-any.whl.metadata (23 kB)\n",
            "Requirement already satisfied: charset-normalizer<4,>=2 in /usr/local/lib/python3.10/dist-packages (from requests<3,>=2->langchain) (3.3.2)\n",
            "Requirement already satisfied: idna<4,>=2.5 in /usr/local/lib/python3.10/dist-packages (from requests<3,>=2->langchain) (3.8)\n",
            "Requirement already satisfied: urllib3<3,>=1.21.1 in /usr/local/lib/python3.10/dist-packages (from requests<3,>=2->langchain) (2.0.7)\n",
            "Requirement already satisfied: certifi>=2017.4.17 in /usr/local/lib/python3.10/dist-packages (from requests<3,>=2->langchain) (2024.8.30)\n",
            "Requirement already satisfied: greenlet!=0.4.17 in /usr/local/lib/python3.10/dist-packages (from SQLAlchemy<3,>=1.4->langchain) (3.1.0)\n",
            "Requirement already satisfied: anyio in /usr/local/lib/python3.10/dist-packages (from httpx<1,>=0.23.0->langsmith<0.2.0,>=0.1.17->langchain) (3.7.1)\n",
            "Requirement already satisfied: httpcore==1.* in /usr/local/lib/python3.10/dist-packages (from httpx<1,>=0.23.0->langsmith<0.2.0,>=0.1.17->langchain) (1.0.5)\n",
            "Requirement already satisfied: sniffio in /usr/local/lib/python3.10/dist-packages (from httpx<1,>=0.23.0->langsmith<0.2.0,>=0.1.17->langchain) (1.3.1)\n",
            "Requirement already satisfied: h11<0.15,>=0.13 in /usr/local/lib/python3.10/dist-packages (from httpcore==1.*->httpx<1,>=0.23.0->langsmith<0.2.0,>=0.1.17->langchain) (0.14.0)\n",
            "Requirement already satisfied: jsonpointer>=1.9 in /usr/local/lib/python3.10/dist-packages (from jsonpatch<2.0,>=1.33->langchain-core<0.4.0,>=0.3.0->langchain) (3.0.0)\n",
            "Collecting mypy-extensions>=0.3.0 (from typing-inspect<1,>=0.4.0->dataclasses-json<0.7,>=0.5.7->langchain_community)\n",
            "  Downloading mypy_extensions-1.0.0-py3-none-any.whl.metadata (1.1 kB)\n",
            "Requirement already satisfied: exceptiongroup in /usr/local/lib/python3.10/dist-packages (from anyio->httpx<1,>=0.23.0->langsmith<0.2.0,>=0.1.17->langchain) (1.2.2)\n",
            "Downloading langchain-0.3.0-py3-none-any.whl (1.0 MB)\n",
            "\u001b[2K   \u001b[90m━━━━━━━━━━━━━━━━━━━━━━━━━━━━━━━━━━━━━━━━\u001b[0m \u001b[32m1.0/1.0 MB\u001b[0m \u001b[31m25.4 MB/s\u001b[0m eta \u001b[36m0:00:00\u001b[0m\n",
            "\u001b[?25hDownloading langchain_community-0.3.0-py3-none-any.whl (2.3 MB)\n",
            "\u001b[2K   \u001b[90m━━━━━━━━━━━━━━━━━━━━━━━━━━━━━━━━━━━━━━━━\u001b[0m \u001b[32m2.3/2.3 MB\u001b[0m \u001b[31m63.6 MB/s\u001b[0m eta \u001b[36m0:00:00\u001b[0m\n",
            "\u001b[?25hDownloading dataclasses_json-0.6.7-py3-none-any.whl (28 kB)\n",
            "Downloading langchain_text_splitters-0.3.0-py3-none-any.whl (25 kB)\n",
            "Downloading pydantic_settings-2.5.2-py3-none-any.whl (26 kB)\n",
            "Downloading marshmallow-3.22.0-py3-none-any.whl (49 kB)\n",
            "\u001b[2K   \u001b[90m━━━━━━━━━━━━━━━━━━━━━━━━━━━━━━━━━━━━━━━━\u001b[0m \u001b[32m49.3/49.3 kB\u001b[0m \u001b[31m4.2 MB/s\u001b[0m eta \u001b[36m0:00:00\u001b[0m\n",
            "\u001b[?25hDownloading python_dotenv-1.0.1-py3-none-any.whl (19 kB)\n",
            "Downloading typing_inspect-0.9.0-py3-none-any.whl (8.8 kB)\n",
            "Downloading mypy_extensions-1.0.0-py3-none-any.whl (4.7 kB)\n",
            "Installing collected packages: python-dotenv, mypy-extensions, marshmallow, typing-inspect, pydantic-settings, dataclasses-json, langchain-text-splitters, langchain, langchain_community\n",
            "Successfully installed dataclasses-json-0.6.7 langchain-0.3.0 langchain-text-splitters-0.3.0 langchain_community-0.3.0 marshmallow-3.22.0 mypy-extensions-1.0.0 pydantic-settings-2.5.2 python-dotenv-1.0.1 typing-inspect-0.9.0\n"
          ]
        }
      ]
    },
    {
      "cell_type": "code",
      "source": [
        "from langchain import PromptTemplate, LLMChain"
      ],
      "metadata": {
        "id": "pbVsUV8U-ktm"
      },
      "execution_count": null,
      "outputs": []
    },
    {
      "cell_type": "code",
      "source": [
        "question=\"\"\"You are tasked with scraping data from a Wikipedia page. Given the URL of the Wikipedia page, extract and return the following information in a structured format:\n",
        "\n",
        "Title: The title of the Wikipedia page.\n",
        "Summary: A brief summary or introduction section of the Wikipedia page.\n",
        "works: Scientific field in which that scientist worked.\n",
        "\n",
        "Example Input:\n",
        "URL: https://en.wikipedia.org/wiki/Albert_Einstein\n",
        "Expected Output:\n",
        "{\n",
        "  \"Title\": \"Albert Einstein\",\n",
        "  \"Summary\": \"Albert Einstein was a German-born theoretical physicist who developed the theory of relativity, one of the two pillars of modern physics. His work is also known for its influence on the philosophy of science.\",\n",
        "  \"works\": \"Einstein was a theoretical physicist\"\n",
        "}\n",
        "Only give the output in JSON format.\n",
        "\"\"\"\n",
        "template = \"\"\"Question: {question}\n",
        "url={url}\n",
        "Answer: Let's think step by step.\"\"\"\n",
        "prompt = PromptTemplate(template=template, input_variables=[\"question\",\"url\"])\n",
        "print(prompt)"
      ],
      "metadata": {
        "colab": {
          "base_uri": "https://localhost:8080/"
        },
        "id": "j6DxjyRSsmuI",
        "outputId": "970b8905-68c1-46b3-f167-92f6ccb77402"
      },
      "execution_count": null,
      "outputs": [
        {
          "output_type": "stream",
          "name": "stdout",
          "text": [
            "input_variables=['question', 'url'] input_types={} partial_variables={} template=\"Question: {question}\\nurl={url}\\nAnswer: Let's think step by step.\"\n"
          ]
        }
      ]
    },
    {
      "cell_type": "code",
      "source": [
        "llm_chain=LLMChain(llm=llm,prompt=prompt)\n",
        "fres=[]\n",
        "for i in list12:\n",
        "  result = llm_chain.invoke({\"question\": question, \"url\": f\"{i}\"})\n",
        "  text = result['text']\n",
        "  lines = text.split('\\n')\n",
        "  fres.append(lines[-6:])\n",
        "\n"
      ],
      "metadata": {
        "id": "CMEbjCt5CGQw"
      },
      "execution_count": null,
      "outputs": []
    },
    {
      "cell_type": "code",
      "source": [
        "llm_chain=LLMChain(llm=llm,prompt=prompt)\n",
        "result = llm_chain.invoke({\"question\": question, \"url\": \"https://en.wikipedia.org/wiki/Aryabhata\"})\n",
        "text = result['text']\n",
        "print(result)\n",
        "print(type(result))\n",
        "print(result.keys())\n"
      ],
      "metadata": {
        "colab": {
          "base_uri": "https://localhost:8080/"
        },
        "id": "XTNfFBtawV3C",
        "outputId": "06c42185-50aa-4398-98e0-fc1245801fff"
      },
      "execution_count": null,
      "outputs": [
        {
          "output_type": "stream",
          "name": "stdout",
          "text": [
            "{'question': 'You are tasked with scraping data from a Wikipedia page. Given the URL of the Wikipedia page, extract and return the following information in a structured format:\\n\\nTitle: The title of the Wikipedia page.\\nSummary: A brief summary or introduction section of the Wikipedia page.\\nworks: Scientific field in which that scientist worked.\\n\\nExample Input:\\nURL: https://en.wikipedia.org/wiki/Albert_Einstein\\nExpected Output:\\n{\\n  \"Title\": \"Albert Einstein\",\\n  \"Summary\": \"Albert Einstein was a German-born theoretical physicist who developed the theory of relativity, one of the two pillars of modern physics. His work is also known for its influence on the philosophy of science.\",\\n  \"works\": \"Einstein was a theoretical physicist\"\\n}\\nOnly give the output in JSON format.\\n', 'url': 'https://en.wikipedia.org/wiki/Aryabhata', 'text': '\\n\\nFirst, we\\'ll use BeautifulSoup to parse the HTML of the page. Then, we\\'ll find the title, summary, and works from the parsed HTML.\\n\\n```python\\nfrom bs4 import BeautifulSoup\\nimport requests\\nimport json\\n\\nurl = \"https://en.wikipedia.org/wiki/Aryabhata\"\\n\\nresponse = requests.get(url)\\nsoup = BeautifulSoup(response.text, \"html.parser\")\\n\\ntitle = soup.find(\"h1\", {\"id\": \"firstHeading\"}).text.strip()\\nsummary = soup.find(\"p\", {\"class\": \"lead\"}).text.strip()\\nworks = soup.find(\"span\", {\"id\": \"ca_occupation\"}).text.strip()\\n\\ndata = {\\n    \"Title\": title,\\n    \"Summary\": summary,\\n    \"works\": works\\n}\\n\\nprint(json.dumps(data, indent=2))\\n```\\n\\nWhen you run this script, it will output the following:\\n\\n```\\n{\\n  \"Title\": \"Aryabhata\",\\n  \"Summary\": \"Aryabhata (c. 476 – c. 550 CE) was an Indian mathematician, astronomer, and philosopher who is a key figure in the history of both Hindu mathematics and Indian astronomy.\",\\n  \"works\": \"Aryabhata was a mathematician, astronomer, and philosopher\"\\n}\\n```'}\n",
            "<class 'dict'>\n",
            "dict_keys(['question', 'url', 'text'])\n"
          ]
        }
      ]
    },
    {
      "cell_type": "code",
      "source": [
        "print(fres)"
      ],
      "metadata": {
        "colab": {
          "base_uri": "https://localhost:8080/"
        },
        "id": "h8_VlfuzBHxQ",
        "outputId": "49e62f03-d957-4e5a-82c0-6bb69a73204e"
      },
      "execution_count": null,
      "outputs": [
        {
          "output_type": "stream",
          "name": "stdout",
          "text": [
            "[['```', '', 'Output:', '', '```json', '{\"Title\": \"Aryabhatta\", \"Summary\": \"Aryabhata I was an Indian mathematician, astronomer and engineer who is widely regarded as a founding figure of Indian mathematics.\",'], ['```', '', 'When running the above code, the output will be:', '', '```json', '{\"Title\": \"Alexei Alexeyevich Abrikosov\", \"Summary\": \"Alexei Alexeyevich Abrikosov was a Soviet and American theoretical physicist who made major contributions to the theory of superconductivity.\", \"works\": \"Abrikosov was a theoretical physicist\"}'], ['{', '  \"Title\": \"Artem Alikhanian\",', '  \"Summary\": \"Artem Alikhanian (Armenian: Արտեմ Ալիխանյան, born 1974) is an Armenian physicist who has worked on dark matter, dark energy, and neutrino physics.\",', '  \"works\": \"Physicist\"', '}', '```'], ['', 'The output will be:', '', '```', '{\"Title\": \"Boyd Bartlett\", \"Summary\": \"Boyd Bartlett (born July 24, 1949) is an American actor.\", \"works\": \"Boyd Bartlett is an actor\"}', '```'], ['', 'The output will be:', '', '```', '{\"Title\": \"Bertram Brockhouse\", \"Summary\": \"Bertram Brockhouse was a Canadian physicist who developed neutron diffraction techniques for the study of condensed matter and nuclear physics.\", \"works\": \"Canadian physicist who developed neutron diffraction techniques\"}', '```'], ['', \"title = soup.find('h1', {'id': 'firstHeading'}).text\", \"summary = soup.find('p', {'id': 'bodyContent'}).find_next('p')\", \"table = soup.find('table', {'class': 'wikitable'})\", \"row = table.find('tr')\", \"works = row.find_all('th')[1\"], ['', 'This code will output:', '', '```', '{\"Title\": \"Carl David Anderson\", \"Summary\": \"Carl David Anderson was an American physicist, who shared the Nobel Prize in Physics in 1936 with Vincent Schwarz and Walter Heitler for the discovery of the positron, the antiparticle of the electron.\", \"works\": \"Physicist\"}', '```'], ['{', '  \"Title\": \"Cornelis Bakker\",', '  \"Summary\": \"Cornelis Bakker (1872–1955) was a Dutch civil engineer who specialized in hydraulic engineering. He is known for his contributions to the design and construction of the Afsluitdijk, a large dam in the Netherlands that closed off the IJsselmeer from the North Sea.\",', '  \"works\": \"Civil Engineer who specialized in hydraulic engineering\"', '}', '```'], ['', 'This will print:', '', '```', '{\"Title\": \"Charles Glover Barkla\", \"Summary\": \"Charles Glover Barkla was an Irish physicist who was awarded the Nobel Prize in Physics in 1917 for his discovery of the characteristic X-rays of elements.\", \"works\": \"Barkla was a physicist\"}', '```'], ['When running this code, the output will be:', '', '```json', '{', '  \"Title\": \"Derek Abbott\",', '  \"Summary\": \"Derek Abbott'], ['This code should give you the desired output in the given format:', '', '```', '{\"Title\": \"David Z. Albert\",', ' \"Summary\": \"David Z. Albert is an American philosopher, physicist, and writer. He is the Frederick E. Woodbridge Professor of Philosophy at Columbia University.\",', ' \"works\": \"David Z. Albert is a philosopher, physicist, and writer\"}'], ['```', '', 'When you run the code, it will return the following output:', '', '```json', '{\"Title\": \"David Awschalom\", \"Summary\": \"David Awschalom is an American physicist and'], ['', 'With this code, the output will be:', '', '```json', '{\"Title\": \"Ernst Karl Abbe\", \"Summary\": \"Ernst Karl Abbe was a German optical scientist and industrialist, best known as the founder of the Carl Zeiss company and for his contributions to optical design.\", \"works\": \"Optical scientist and industrialist\"}', '```'], ['{', '  \"Title\": \"Elephter Andronikashvili\",', '  \"Summary\": \"Elephter Andronikashvili (Georgian: ელეფთერ ანდრონიკაშვილი; 28 December 1884 – 28 May 1969) was a Georgian physician and bacteriologist, who is regarded as the founder of medical bacteriology in Georgia.\",', '  \"works\": \"Elephter Andronikashvili was a physician and bacteriologist\"', '}', '```'], ['{', '  \"Title\": \"Edward Victor Appleton\",', '  \"Summary\": \"Edward Victor Appleton was a British radio astronomer and physicist who is best known for his work on the ionosphere, the region of the atmosphere that reflects radio waves.\",', '  \"works\": \"Radio astronomer and physicist\"', '}', '```'], ['```', '', 'This code will produce the following output:', '', '```json', '{\"Title\": \"Franz Aepinus\", \"Summary\": \"Franz Aepinus was a German mathematician and physicist, known for his'], ['    \"works\": works', '}', 'print(json.dumps(output))', '```', '', 'This script will output the information in the requested JSON format.'], ['', 'The output will be:', '', '```json', '{\"Title\": \"Fran├žois Arago\", \"Summary\": \"Fran├žois Arago (14 August 1786 – 2 October 1853) was a French physicist, astronomer, and politician.\", \"works\": \"Personal life Education\"}', '```']]\n"
          ]
        }
      ]
    },
    {
      "cell_type": "code",
      "source": [
        "stri = ''.join(map(str, fres))\n",
        "print(stri)"
      ],
      "metadata": {
        "colab": {
          "base_uri": "https://localhost:8080/"
        },
        "id": "IzKhTZiKYhVU",
        "outputId": "b3a81131-1bb2-4600-b4a6-cf22df88917c"
      },
      "execution_count": null,
      "outputs": [
        {
          "output_type": "stream",
          "name": "stdout",
          "text": [
            "['```', '', 'Output:', '', '```json', '{\"Title\": \"Aryabhatta\", \"Summary\": \"Aryabhata I was an Indian mathematician, astronomer and engineer who is widely regarded as a founding figure of Indian mathematics.\",']['```', '', 'When running the above code, the output will be:', '', '```json', '{\"Title\": \"Alexei Alexeyevich Abrikosov\", \"Summary\": \"Alexei Alexeyevich Abrikosov was a Soviet and American theoretical physicist who made major contributions to the theory of superconductivity.\", \"works\": \"Abrikosov was a theoretical physicist\"}']['{', '  \"Title\": \"Artem Alikhanian\",', '  \"Summary\": \"Artem Alikhanian (Armenian: Արտեմ Ալիխանյան, born 1974) is an Armenian physicist who has worked on dark matter, dark energy, and neutrino physics.\",', '  \"works\": \"Physicist\"', '}', '```']['', 'The output will be:', '', '```', '{\"Title\": \"Boyd Bartlett\", \"Summary\": \"Boyd Bartlett (born July 24, 1949) is an American actor.\", \"works\": \"Boyd Bartlett is an actor\"}', '```']['', 'The output will be:', '', '```', '{\"Title\": \"Bertram Brockhouse\", \"Summary\": \"Bertram Brockhouse was a Canadian physicist who developed neutron diffraction techniques for the study of condensed matter and nuclear physics.\", \"works\": \"Canadian physicist who developed neutron diffraction techniques\"}', '```']['', \"title = soup.find('h1', {'id': 'firstHeading'}).text\", \"summary = soup.find('p', {'id': 'bodyContent'}).find_next('p')\", \"table = soup.find('table', {'class': 'wikitable'})\", \"row = table.find('tr')\", \"works = row.find_all('th')[1\"]['', 'This code will output:', '', '```', '{\"Title\": \"Carl David Anderson\", \"Summary\": \"Carl David Anderson was an American physicist, who shared the Nobel Prize in Physics in 1936 with Vincent Schwarz and Walter Heitler for the discovery of the positron, the antiparticle of the electron.\", \"works\": \"Physicist\"}', '```']['{', '  \"Title\": \"Cornelis Bakker\",', '  \"Summary\": \"Cornelis Bakker (1872–1955) was a Dutch civil engineer who specialized in hydraulic engineering. He is known for his contributions to the design and construction of the Afsluitdijk, a large dam in the Netherlands that closed off the IJsselmeer from the North Sea.\",', '  \"works\": \"Civil Engineer who specialized in hydraulic engineering\"', '}', '```']['', 'This will print:', '', '```', '{\"Title\": \"Charles Glover Barkla\", \"Summary\": \"Charles Glover Barkla was an Irish physicist who was awarded the Nobel Prize in Physics in 1917 for his discovery of the characteristic X-rays of elements.\", \"works\": \"Barkla was a physicist\"}', '```']['When running this code, the output will be:', '', '```json', '{', '  \"Title\": \"Derek Abbott\",', '  \"Summary\": \"Derek Abbott']['This code should give you the desired output in the given format:', '', '```', '{\"Title\": \"David Z. Albert\",', ' \"Summary\": \"David Z. Albert is an American philosopher, physicist, and writer. He is the Frederick E. Woodbridge Professor of Philosophy at Columbia University.\",', ' \"works\": \"David Z. Albert is a philosopher, physicist, and writer\"}']['```', '', 'When you run the code, it will return the following output:', '', '```json', '{\"Title\": \"David Awschalom\", \"Summary\": \"David Awschalom is an American physicist and']['', 'With this code, the output will be:', '', '```json', '{\"Title\": \"Ernst Karl Abbe\", \"Summary\": \"Ernst Karl Abbe was a German optical scientist and industrialist, best known as the founder of the Carl Zeiss company and for his contributions to optical design.\", \"works\": \"Optical scientist and industrialist\"}', '```']['{', '  \"Title\": \"Elephter Andronikashvili\",', '  \"Summary\": \"Elephter Andronikashvili (Georgian: ელეფთერ ანდრონიკაშვილი; 28 December 1884 – 28 May 1969) was a Georgian physician and bacteriologist, who is regarded as the founder of medical bacteriology in Georgia.\",', '  \"works\": \"Elephter Andronikashvili was a physician and bacteriologist\"', '}', '```']['{', '  \"Title\": \"Edward Victor Appleton\",', '  \"Summary\": \"Edward Victor Appleton was a British radio astronomer and physicist who is best known for his work on the ionosphere, the region of the atmosphere that reflects radio waves.\",', '  \"works\": \"Radio astronomer and physicist\"', '}', '```']['```', '', 'This code will produce the following output:', '', '```json', '{\"Title\": \"Franz Aepinus\", \"Summary\": \"Franz Aepinus was a German mathematician and physicist, known for his']['    \"works\": works', '}', 'print(json.dumps(output))', '```', '', 'This script will output the information in the requested JSON format.']['', 'The output will be:', '', '```json', '{\"Title\": \"Fran├žois Arago\", \"Summary\": \"Fran├žois Arago (14 August 1786 – 2 October 1853) was a French physicist, astronomer, and politician.\", \"works\": \"Personal life Education\"}', '```']\n"
          ]
        }
      ]
    },
    {
      "cell_type": "code",
      "source": [
        "finalresab = llm.invoke(\"make a dictionary with feilds title, works and summary of 3 scientist from each letter a,b from wikipedia List_of_physicists\")"
      ],
      "metadata": {
        "id": "yTli3xlQejHj"
      },
      "execution_count": null,
      "outputs": []
    },
    {
      "cell_type": "code",
      "source": [
        "finalrescd = llm.invoke(\"make a dictionary with feilds title, works and summary of 3 scientist from each letter c and d from wikipedia List_of_physicists\")"
      ],
      "metadata": {
        "id": "lJjNFCzTffJo"
      },
      "execution_count": null,
      "outputs": []
    },
    {
      "cell_type": "code",
      "source": [
        "finalresef = llm.invoke(\"make a dictionary with feilds title, works and summary of 3 scientist from each letter e,f from wikipedia List_of_physicists\")"
      ],
      "metadata": {
        "id": "-qs_JtNJffyB"
      },
      "execution_count": null,
      "outputs": []
    },
    {
      "cell_type": "code",
      "source": [
        "print(finalresab + finalrescd + finalresef)"
      ],
      "metadata": {
        "colab": {
          "base_uri": "https://localhost:8080/"
        },
        "id": "v5sFXGOLZMej",
        "outputId": "317e76c6-c129-45d4-bb56-49a2accce0fe"
      },
      "execution_count": null,
      "outputs": [
        {
          "output_type": "stream",
          "name": "stdout",
          "text": [
            "\n",
            "\n",
            "Here is a sample of the dictionary for three scientists from each letter 'a' and 'b':\n",
            "\n",
            "```python\n",
            "scientists = {\n",
            "    'a': [\n",
            "        {\n",
            "            'title': 'Albert Einstein',\n",
            "            'works': 'Theory of Relativity',\n",
            "            'summary': 'Albert Einstein developed the theory of relativity, one of the two pillars of modern physics (alongside quantum mechanics). His work is also known for its influence on the philosophy of science.'\n",
            "        },\n",
            "        {\n",
            "            'title': 'Andrew Wiles',\n",
            "            'works': 'Proof of Fermat's Last Theorem',\n",
            "            'summary': 'Andrew Wiles is an English mathematician, best known for his proof of Fermat's Last Theorem, a problem that had been unsolved for over 350 years.'\n",
            "        },\n",
            "        {\n",
            "            'title': 'Arno Penzias',\n",
            "            'works': 'Discovery of Cosmic Microwave Background Radiation',\n",
            "            'summary': 'Arno Penzias and Robert Wilson discovered the cosmic microwave background radiation, which provided strong evidence for the Big Bang theory.'\n",
            "        },\n",
            "    ],\n",
            "    'b': [\n",
            "        {\n",
            "            'title': 'Barbara McClintock',\n",
            "            'works': 'Genetic Control of Gene Structure and Function',\n",
            "            'summary': 'Barbara McClintock won the Nobel Prize in Physiology or Medicine for her discovery of transposable elements and their role in genetics.'\n",
            "        },\n",
            "        {\n",
            "            'title': 'Benjamin Franklin',\n",
            "            'works': 'Invention of the Lightning Rod and Bifocals',\n",
            "            'summary': 'Benjamin Franklin was a polymath who made significant contributions to electricity, politics, and diplomacy. He is best known for inventing the lightning rod and bifocals.'\n",
            "        },\n",
            "        {\n",
            "            'title': 'Bohr, Niels',\n",
            "            'works': 'Development of the Bohr Model',\n",
            "            'summary': 'Niels Bohr developed the Bohr model of the atom, which helped to explain the structure and behavior of atoms and laid the groundwork for quantum mechanics.'\n",
            "        },\n",
            "    ]\n",
            "}\n",
            "``` page\n",
            "\n",
            "Here is a dictionary with the requested information for three physicists from each of the letters C and D, gathered from the List_of_physicists page on Wikipedia:\n",
            "\n",
            "C:\n",
            "1. Charles Darwin (1809-1882)\n",
            "   - Title: On the Origin of Species\n",
            "   - Work: Darwin proposed the theory of evolution by natural selection, which revolutionized the understanding of biology and the history of life on Earth.\n",
            "   - Summary: Darwin was an English naturalist, geologist, and biologist. His most famous work, On the Origin of Species, presented the scientific theory that populations evolve over generations through a process of natural selection.\n",
            "\n",
            "2. Carl Friedrich Gauss (1777-1855)\n",
            "   - Title: The Disquisitiones Arithmeticae\n",
            "   - Work: Gauss made significant contributions to many fields, including number theory, algebra, analysis, differential geometry, geodesy, geophysics, mechanics, electrostatics, astronomy, matrix theory, and optics.\n",
            "   - Summary: Gauss was a German mathematician and physicist who is often referred to as the \"Prince of Mathematicians\" and the \"Greatest Mathematician since Antiquity.\" He made groundbreaking contributions to many areas of mathematics and is considered one of the most influential mathematicians in history.\n",
            "\n",
            "3. Marie Curie (1867-1934)\n",
            "   - Title: Radioactivity\n",
            "   - Work: Curie discovered two new elements, polonium and radium, and conducted pioneering research on radioactivity.\n",
            "   - Summary: Curie was a Polish and naturalized-French physicist and chemist who conducted groundbreaking research on radioactivity. She was the first woman to win a Nobel Prize, the first person to win the Nobel Prize twice, and the only person to win the Nobel Prize in two different scientific fields (Physics and Chemistry).\n",
            "\n",
            "D:\n",
            "1. Albert Einstein (1879-1955)\n",
            "   - Title: The Special and General Theory of Relativity\n",
            "   - Work: Einstein developed the theory of relativity, which fundamentally changed our understanding of space, time, and gravity.\n",
            "   - Summary: Einstein was a German-born physicist who is\n",
            "\n",
            "Here is a Python code that creates a dictionary with the requested fields for three physicists from each of the letters 'e' and 'f' from the List_of_physicists Wikipedia page:\n",
            "\n",
            "```python\n",
            "import requests\n",
            "from bs4 import BeautifulSoup\n",
            "\n",
            "# Wikipedia page URL\n",
            "url = 'https://en.wikipedia.org/wiki/List_of_physicists'\n",
            "\n",
            "# Fetch the webpage\n",
            "response = requests.get(url)\n",
            "\n",
            "# Parse the webpage with BeautifulSoup\n",
            "soup = BeautifulSoup(response.text, 'html.parser')\n",
            "\n",
            "# Find the table containing the list of physicists\n",
            "table = soup.find('table', {'class': 'wikitable sortable'})\n",
            "\n",
            "# Initialize an empty list to store the scientists\n",
            "scientists = []\n",
            "\n",
            "# Iterate through the table rows\n",
            "for row in table.find_all('tr')[1:]:\n",
            "    # Skip rows that don't have three columns\n",
            "    if len(row.find_all('td')) != 3:\n",
            "        continue\n",
            "\n",
            "    # Extract the first letter of the first name and last name\n",
            "    first_letter_first_name = row.find_all('td')[0].text[0]\n",
            "    first_letter_last_name = row.find_all('td')[1].text[0]\n",
            "\n",
            "    # If the first letters match 'e' or 'f', add the scientist to the list\n",
            "    if first_letter_first_name.lower() == 'e' or first_letter_last_name.lower() == 'e':\n",
            "        scientist = {\n",
            "            'title': row.find_all('td')[0].text.strip(),\n",
            "            'works': row.find_all('td')[2].text.strip(),\n",
            "            'summary': ''\n",
            "        }\n",
            "        scientists.append(scientist)\n",
            "\n",
            "    elif first_letter_first_name.lower() == 'f' or first_letter_last_name.lower() == 'f':\n",
            "        scientist = {\n",
            "            'title': row.find_all('td')[0].text.strip(),\n",
            "            'works': row.find_all('td')[2].text.strip(),\n",
            "            'summary': ''\n",
            "        }\n",
            "\n"
          ]
        }
      ]
    },
    {
      "cell_type": "code",
      "source": [
        "import re\n",
        "import json"
      ],
      "metadata": {
        "id": "3bNy5MJ5GiRm"
      },
      "execution_count": null,
      "outputs": []
    },
    {
      "cell_type": "code",
      "source": [
        "pattern = r'(?P<Title>Title\\W*:\\W*[\\'\"](?P<title>[^\\'\"]+)[\\'\"])|(?P<Summary>Summary\\W*:\\W*[\\'\"](?P<summary>[^\\'\"]+)[\\'\"])|(?P<Works>works\\W*:\\W*[\\'\"](?P<works>[^\\'\"]+)[\\'\"])'\n",
        "\n",
        "results = []\n",
        "temp = {}\n",
        "\n",
        "# Extract the required fields from the data\n",
        "for block in fres:\n",
        "    block_str = ' '.join(block)\n",
        "    matches = re.finditer(pattern, block_str)\n",
        "\n",
        "    for match in matches:\n",
        "        if match.group('title'):\n",
        "            temp['Title'] = match.group('title')\n",
        "        elif match.group('summary'):\n",
        "            temp['Summary'] = match.group('summary')\n",
        "        elif match.group('works'):\n",
        "            temp['Works'] = match.group('works')\n",
        "\n",
        "    # If all fields are found, add to results and reset temp\n",
        "    if 'Title' in temp and 'Summary' in temp and 'Works' in temp:\n",
        "        results.append(temp)\n",
        "        temp = {}\n",
        "\n",
        "# Display the result\n",
        "results"
      ],
      "metadata": {
        "colab": {
          "base_uri": "https://localhost:8080/"
        },
        "id": "J4WXTTCUGTWW",
        "outputId": "8e0b0caf-ac71-4676-d142-dd96539fe67e"
      },
      "execution_count": null,
      "outputs": [
        {
          "output_type": "execute_result",
          "data": {
            "text/plain": [
              "[{'Title': 'Alexei Alexeyevich Abrikosov',\n",
              "  'Summary': 'Alexei Alexeyevich Abrikosov was a Soviet and American theoretical physicist who made major contributions to the theory of superconductivity.',\n",
              "  'Works': 'Abrikosov was a theoretical physicist'},\n",
              " {'Title': 'Artem Alikhanian',\n",
              "  'Summary': 'Artem Alikhanian (Armenian: Արտեմ Ալիխանյան, born 1974) is an Armenian physicist who has worked on dark matter, dark energy, and neutrino physics.',\n",
              "  'Works': 'Physicist'},\n",
              " {'Title': 'Boyd Bartlett',\n",
              "  'Summary': 'Boyd Bartlett (born July 24, 1949) is an American actor.',\n",
              "  'Works': 'Boyd Bartlett is an actor'},\n",
              " {'Title': 'Bertram Brockhouse',\n",
              "  'Summary': 'Bertram Brockhouse was a Canadian physicist who developed neutron diffraction techniques for the study of condensed matter and nuclear physics.',\n",
              "  'Works': 'Canadian physicist who developed neutron diffraction techniques'},\n",
              " {'Title': 'Carl David Anderson',\n",
              "  'Summary': 'Carl David Anderson was an American physicist, who shared the Nobel Prize in Physics in 1936 with Vincent Schwarz and Walter Heitler for the discovery of the positron, the antiparticle of the electron.',\n",
              "  'Works': 'Physicist'},\n",
              " {'Title': 'Cornelis Bakker',\n",
              "  'Summary': 'Cornelis Bakker (1872–1955) was a Dutch civil engineer who specialized in hydraulic engineering. He is known for his contributions to the design and construction of the Afsluitdijk, a large dam in the Netherlands that closed off the IJsselmeer from the North Sea.',\n",
              "  'Works': 'Civil Engineer who specialized in hydraulic engineering'},\n",
              " {'Title': 'Charles Glover Barkla',\n",
              "  'Summary': 'Charles Glover Barkla was an Irish physicist who was awarded the Nobel Prize in Physics in 1917 for his discovery of the characteristic X-rays of elements.',\n",
              "  'Works': 'Barkla was a physicist'},\n",
              " {'Title': 'David Z. Albert',\n",
              "  'Summary': 'David Z. Albert is an American philosopher, physicist, and writer. He is the Frederick E. Woodbridge Professor of Philosophy at Columbia University.',\n",
              "  'Works': 'David Z. Albert is a philosopher, physicist, and writer'},\n",
              " {'Title': 'Ernst Karl Abbe',\n",
              "  'Summary': 'Ernst Karl Abbe was a German optical scientist and industrialist, best known as the founder of the Carl Zeiss company and for his contributions to optical design.',\n",
              "  'Works': 'Optical scientist and industrialist'},\n",
              " {'Title': 'Elephter Andronikashvili',\n",
              "  'Summary': 'Elephter Andronikashvili (Georgian: ელეფთერ ანდრონიკაშვილი; 28 December 1884 – 28 May 1969) was a Georgian physician and bacteriologist, who is regarded as the founder of medical bacteriology in Georgia.',\n",
              "  'Works': 'Elephter Andronikashvili was a physician and bacteriologist'},\n",
              " {'Title': 'Edward Victor Appleton',\n",
              "  'Summary': 'Edward Victor Appleton was a British radio astronomer and physicist who is best known for his work on the ionosphere, the region of the atmosphere that reflects radio waves.',\n",
              "  'Works': 'Radio astronomer and physicist'},\n",
              " {'Title': 'Fran├žois Arago',\n",
              "  'Summary': 'Fran├žois Arago (14 August 1786 – 2 October 1853) was a French physicist, astronomer, and politician.',\n",
              "  'Works': 'Personal life Education'}]"
            ]
          },
          "metadata": {},
          "execution_count": 21
        }
      ]
    },
    {
      "cell_type": "code",
      "source": [],
      "metadata": {
        "id": "9Vx1swE5Dulh"
      },
      "execution_count": null,
      "outputs": []
    },
    {
      "cell_type": "code",
      "source": [
        "text = result['text']\n",
        "print(text)"
      ],
      "metadata": {
        "colab": {
          "base_uri": "https://localhost:8080/"
        },
        "id": "i4nDYaWI7A0n",
        "outputId": "896437ec-bbc1-4616-8f99-c46f7ee9c426"
      },
      "execution_count": null,
      "outputs": [
        {
          "output_type": "stream",
          "name": "stdout",
          "text": [
            "\n",
            "\n",
            "First, we'll use BeautifulSoup to parse the HTML of the page. Then, we'll find the title, summary, and works from the parsed HTML.\n",
            "\n",
            "```python\n",
            "from bs4 import BeautifulSoup\n",
            "import requests\n",
            "import json\n",
            "\n",
            "url = \"https://en.wikipedia.org/wiki/Aryabhata\"\n",
            "\n",
            "response = requests.get(url)\n",
            "soup = BeautifulSoup(response.text, \"html.parser\")\n",
            "\n",
            "title = soup.find(\"h1\", {\"id\": \"firstHeading\"}).text.strip()\n",
            "summary = soup.find(\"p\", {\"class\": \"lead\"}).text.strip()\n",
            "works = soup.find(\"span\", {\"id\": \"ca_occupation\"}).text.strip()\n",
            "\n",
            "data = {\n",
            "    \"Title\": title,\n",
            "    \"Summary\": summary,\n",
            "    \"works\": works\n",
            "}\n",
            "\n",
            "print(json.dumps(data, indent=2))\n",
            "```\n",
            "\n",
            "When you run this script, it will output the following:\n",
            "\n",
            "```\n",
            "{\n",
            "  \"Title\": \"Aryabhata\",\n",
            "  \"Summary\": \"Aryabhata (c. 476 – c. 550 CE) was an Indian mathematician, astronomer, and philosopher who is a key figure in the history of both Hindu mathematics and Indian astronomy.\",\n",
            "  \"works\": \"Aryabhata was a mathematician, astronomer, and philosopher\"\n",
            "}\n",
            "```\n"
          ]
        }
      ]
    },
    {
      "cell_type": "code",
      "source": [
        "lines = text.split('\\n')\n",
        "print(lines[-6:-1])"
      ],
      "metadata": {
        "colab": {
          "base_uri": "https://localhost:8080/"
        },
        "id": "ZSyOMwHT4Z4V",
        "outputId": "0becff88-d33d-43d8-cdae-d5d11a329369"
      },
      "execution_count": null,
      "outputs": [
        {
          "output_type": "stream",
          "name": "stdout",
          "text": [
            "['{', '  \"Title\": \"Aryabhata\",', '  \"Summary\": \"Aryabhata (c. 476 – c. 550 CE) was an Indian mathematician, astronomer, and philosopher who is a key figure in the history of both Hindu mathematics and Indian astronomy.\",', '  \"works\": \"Aryabhata was a mathematician, astronomer, and philosopher\"', '}']\n"
          ]
        }
      ]
    },
    {
      "cell_type": "code",
      "source": [],
      "metadata": {
        "id": "rt65C9_16WZ7"
      },
      "execution_count": null,
      "outputs": []
    }
  ]
}