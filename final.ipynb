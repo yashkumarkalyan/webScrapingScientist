{
  "nbformat": 4,
  "nbformat_minor": 0,
  "metadata": {
    "colab": {
      "provenance": [],
      "include_colab_link": true
    },
    "kernelspec": {
      "name": "python3",
      "display_name": "Python 3"
    },
    "language_info": {
      "name": "python"
    }
  },
  "cells": [
    {
      "cell_type": "markdown",
      "metadata": {
        "id": "view-in-github",
        "colab_type": "text"
      },
      "source": [
        "<a href=\"https://colab.research.google.com/github/yashkumarkalyan/webScrapingScientist/blob/v2/final.ipynb\" target=\"_parent\"><img src=\"https://colab.research.google.com/assets/colab-badge.svg\" alt=\"Open In Colab\"/></a>"
      ]
    },
    {
      "cell_type": "code",
      "source": [
        "!pip install requests"
      ],
      "metadata": {
        "colab": {
          "base_uri": "https://localhost:8080/"
        },
        "id": "VDOEEw1QxFma",
        "outputId": "2253899d-0363-4a61-a8bc-3424b60f0ca9"
      },
      "execution_count": 1,
      "outputs": [
        {
          "output_type": "stream",
          "name": "stdout",
          "text": [
            "Requirement already satisfied: requests in /usr/local/lib/python3.10/dist-packages (2.32.3)\n",
            "Requirement already satisfied: charset-normalizer<4,>=2 in /usr/local/lib/python3.10/dist-packages (from requests) (3.3.2)\n",
            "Requirement already satisfied: idna<4,>=2.5 in /usr/local/lib/python3.10/dist-packages (from requests) (3.8)\n",
            "Requirement already satisfied: urllib3<3,>=1.21.1 in /usr/local/lib/python3.10/dist-packages (from requests) (2.0.7)\n",
            "Requirement already satisfied: certifi>=2017.4.17 in /usr/local/lib/python3.10/dist-packages (from requests) (2024.8.30)\n"
          ]
        }
      ]
    },
    {
      "cell_type": "code",
      "source": [
        "import requests\n",
        "from bs4 import BeautifulSoup\n",
        "\n",
        "# URL to scrape\n",
        "url = \"https://en.wikipedia.org/wiki/List_of_physicists\"\n",
        "\n",
        "# Send a GET request to the URL\n",
        "response = requests.get(url)\n",
        "\n",
        "# Parse the HTML content\n",
        "soup = BeautifulSoup(response.content, 'html.parser')\n",
        "\n",
        "# Find the section containing the list of physicists\n",
        "content = soup.find('div', {'class': 'mw-parser-output'})"
      ],
      "metadata": {
        "id": "tyJY_MuH8QcW"
      },
      "execution_count": 9,
      "outputs": []
    },
    {
      "cell_type": "code",
      "source": [
        "# Initialize a dictionary to store the links\n",
        "links = {letter: [] for letter in ['A', 'B', 'C', 'D', 'E', 'F']}\n",
        "\n",
        "# Extract and save the links of physicists whose names start with A, B, C, D, E, F\n",
        "for li in content.find_all('li'):\n",
        "    a_tag = li.find('a')\n",
        "    if a_tag:\n",
        "        name = a_tag.get_text()\n",
        "        link = \"https://en.wikipedia.org\" + a_tag['href']\n",
        "        first_letter = name[0]\n",
        "        if first_letter in links and len(links[first_letter]) < 3:\n",
        "            links[first_letter].append(link)\n",
        "\n",
        "# Remove the first link with the letter 'A'\n",
        "if links['A']:\n",
        "    links['A'].pop(0)\n",
        "\n",
        "# Ensure there are 3 names from each letter\n",
        "for li in content.find_all('li'):\n",
        "    a_tag = li.find('a')\n",
        "    if a_tag:\n",
        "        name = a_tag.get_text()\n",
        "        link = \"https://en.wikipedia.org\" + a_tag['href']\n",
        "        first_letter = name[0]\n",
        "        if first_letter in links and len(links[first_letter]) < 3:\n",
        "            links[first_letter].append(link)\n",
        "\n",
        "list12=[]\n",
        "for letter, link_list in links.items():\n",
        "    list12.append(link_list[0])\n",
        "    list12.append(link_list[1])\n",
        "    list12.append(link_list[2])\n",
        "for i in list12:\n",
        "  print(i)"
      ],
      "metadata": {
        "colab": {
          "base_uri": "https://localhost:8080/"
        },
        "id": "SwZXNe_o8c7C",
        "outputId": "a95c47cd-a226-41c6-b09b-58889e3d85e7"
      },
      "execution_count": 10,
      "outputs": [
        {
          "output_type": "stream",
          "name": "stdout",
          "text": [
            "https://en.wikipedia.org/wiki/Aryabhatta\n",
            "https://en.wikipedia.org/wiki/Alexei_Alexeyevich_Abrikosov\n",
            "https://en.wikipedia.org#A\n",
            "https://en.wikipedia.org/wiki/Boyd_Bartlett\n",
            "https://en.wikipedia.org/wiki/Bertram_Brockhouse\n",
            "https://en.wikipedia.org/wiki/Bimla_Buti\n",
            "https://en.wikipedia.org/wiki/Carl_David_Anderson\n",
            "https://en.wikipedia.org/wiki/Cornelis_Bakker\n",
            "https://en.wikipedia.org/wiki/Charles_Glover_Barkla\n",
            "https://en.wikipedia.org/wiki/Derek_Abbott\n",
            "https://en.wikipedia.org/wiki/David_Z_Albert\n",
            "https://en.wikipedia.org/wiki/David_Awschalom\n",
            "https://en.wikipedia.org/wiki/Ernst_Karl_Abbe\n",
            "https://en.wikipedia.org/wiki/Elephter_Andronikashvili\n",
            "https://en.wikipedia.org/wiki/Edward_Victor_Appleton\n",
            "https://en.wikipedia.org/wiki/Franz_Aepinus\n",
            "https://en.wikipedia.org/wiki/Felicie_Albert\n",
            "https://en.wikipedia.org/wiki/Fran%C3%A7ois_Arago\n"
          ]
        }
      ]
    },
    {
      "cell_type": "code",
      "source": [
        "!pip install langchain-huggingface\n",
        "!pip install huggingface_hub"
      ],
      "metadata": {
        "id": "9F7jNkPqy5ec",
        "colab": {
          "base_uri": "https://localhost:8080/"
        },
        "outputId": "a4abc8c9-cb21-4c1c-fb4f-f271f2c10657"
      },
      "execution_count": 2,
      "outputs": [
        {
          "output_type": "stream",
          "name": "stdout",
          "text": [
            "Requirement already satisfied: langchain-huggingface in /usr/local/lib/python3.10/dist-packages (0.1.0)\n",
            "Requirement already satisfied: huggingface-hub>=0.23.0 in /usr/local/lib/python3.10/dist-packages (from langchain-huggingface) (0.24.6)\n",
            "Requirement already satisfied: langchain-core<0.4,>=0.3.0 in /usr/local/lib/python3.10/dist-packages (from langchain-huggingface) (0.3.0)\n",
            "Requirement already satisfied: sentence-transformers>=2.6.0 in /usr/local/lib/python3.10/dist-packages (from langchain-huggingface) (3.1.0)\n",
            "Requirement already satisfied: tokenizers>=0.19.1 in /usr/local/lib/python3.10/dist-packages (from langchain-huggingface) (0.19.1)\n",
            "Requirement already satisfied: transformers>=4.39.0 in /usr/local/lib/python3.10/dist-packages (from langchain-huggingface) (4.44.2)\n",
            "Requirement already satisfied: filelock in /usr/local/lib/python3.10/dist-packages (from huggingface-hub>=0.23.0->langchain-huggingface) (3.16.0)\n",
            "Requirement already satisfied: fsspec>=2023.5.0 in /usr/local/lib/python3.10/dist-packages (from huggingface-hub>=0.23.0->langchain-huggingface) (2024.6.1)\n",
            "Requirement already satisfied: packaging>=20.9 in /usr/local/lib/python3.10/dist-packages (from huggingface-hub>=0.23.0->langchain-huggingface) (24.1)\n",
            "Requirement already satisfied: pyyaml>=5.1 in /usr/local/lib/python3.10/dist-packages (from huggingface-hub>=0.23.0->langchain-huggingface) (6.0.2)\n",
            "Requirement already satisfied: requests in /usr/local/lib/python3.10/dist-packages (from huggingface-hub>=0.23.0->langchain-huggingface) (2.32.3)\n",
            "Requirement already satisfied: tqdm>=4.42.1 in /usr/local/lib/python3.10/dist-packages (from huggingface-hub>=0.23.0->langchain-huggingface) (4.66.5)\n",
            "Requirement already satisfied: typing-extensions>=3.7.4.3 in /usr/local/lib/python3.10/dist-packages (from huggingface-hub>=0.23.0->langchain-huggingface) (4.12.2)\n",
            "Requirement already satisfied: jsonpatch<2.0,>=1.33 in /usr/local/lib/python3.10/dist-packages (from langchain-core<0.4,>=0.3.0->langchain-huggingface) (1.33)\n",
            "Requirement already satisfied: langsmith<0.2.0,>=0.1.117 in /usr/local/lib/python3.10/dist-packages (from langchain-core<0.4,>=0.3.0->langchain-huggingface) (0.1.120)\n",
            "Requirement already satisfied: pydantic<3.0.0,>=2.5.2 in /usr/local/lib/python3.10/dist-packages (from langchain-core<0.4,>=0.3.0->langchain-huggingface) (2.9.1)\n",
            "Requirement already satisfied: tenacity!=8.4.0,<9.0.0,>=8.1.0 in /usr/local/lib/python3.10/dist-packages (from langchain-core<0.4,>=0.3.0->langchain-huggingface) (8.5.0)\n",
            "Requirement already satisfied: torch>=1.11.0 in /usr/local/lib/python3.10/dist-packages (from sentence-transformers>=2.6.0->langchain-huggingface) (2.4.0+cu121)\n",
            "Requirement already satisfied: numpy<2.0.0 in /usr/local/lib/python3.10/dist-packages (from sentence-transformers>=2.6.0->langchain-huggingface) (1.26.4)\n",
            "Requirement already satisfied: scikit-learn in /usr/local/lib/python3.10/dist-packages (from sentence-transformers>=2.6.0->langchain-huggingface) (1.3.2)\n",
            "Requirement already satisfied: scipy in /usr/local/lib/python3.10/dist-packages (from sentence-transformers>=2.6.0->langchain-huggingface) (1.13.1)\n",
            "Requirement already satisfied: Pillow in /usr/local/lib/python3.10/dist-packages (from sentence-transformers>=2.6.0->langchain-huggingface) (9.4.0)\n",
            "Requirement already satisfied: regex!=2019.12.17 in /usr/local/lib/python3.10/dist-packages (from transformers>=4.39.0->langchain-huggingface) (2024.5.15)\n",
            "Requirement already satisfied: safetensors>=0.4.1 in /usr/local/lib/python3.10/dist-packages (from transformers>=4.39.0->langchain-huggingface) (0.4.5)\n",
            "Requirement already satisfied: jsonpointer>=1.9 in /usr/local/lib/python3.10/dist-packages (from jsonpatch<2.0,>=1.33->langchain-core<0.4,>=0.3.0->langchain-huggingface) (3.0.0)\n",
            "Requirement already satisfied: httpx<1,>=0.23.0 in /usr/local/lib/python3.10/dist-packages (from langsmith<0.2.0,>=0.1.117->langchain-core<0.4,>=0.3.0->langchain-huggingface) (0.27.2)\n",
            "Requirement already satisfied: orjson<4.0.0,>=3.9.14 in /usr/local/lib/python3.10/dist-packages (from langsmith<0.2.0,>=0.1.117->langchain-core<0.4,>=0.3.0->langchain-huggingface) (3.10.7)\n",
            "Requirement already satisfied: annotated-types>=0.6.0 in /usr/local/lib/python3.10/dist-packages (from pydantic<3.0.0,>=2.5.2->langchain-core<0.4,>=0.3.0->langchain-huggingface) (0.7.0)\n",
            "Requirement already satisfied: pydantic-core==2.23.3 in /usr/local/lib/python3.10/dist-packages (from pydantic<3.0.0,>=2.5.2->langchain-core<0.4,>=0.3.0->langchain-huggingface) (2.23.3)\n",
            "Requirement already satisfied: charset-normalizer<4,>=2 in /usr/local/lib/python3.10/dist-packages (from requests->huggingface-hub>=0.23.0->langchain-huggingface) (3.3.2)\n",
            "Requirement already satisfied: idna<4,>=2.5 in /usr/local/lib/python3.10/dist-packages (from requests->huggingface-hub>=0.23.0->langchain-huggingface) (3.8)\n",
            "Requirement already satisfied: urllib3<3,>=1.21.1 in /usr/local/lib/python3.10/dist-packages (from requests->huggingface-hub>=0.23.0->langchain-huggingface) (2.0.7)\n",
            "Requirement already satisfied: certifi>=2017.4.17 in /usr/local/lib/python3.10/dist-packages (from requests->huggingface-hub>=0.23.0->langchain-huggingface) (2024.8.30)\n",
            "Requirement already satisfied: sympy in /usr/local/lib/python3.10/dist-packages (from torch>=1.11.0->sentence-transformers>=2.6.0->langchain-huggingface) (1.13.2)\n",
            "Requirement already satisfied: networkx in /usr/local/lib/python3.10/dist-packages (from torch>=1.11.0->sentence-transformers>=2.6.0->langchain-huggingface) (3.3)\n",
            "Requirement already satisfied: jinja2 in /usr/local/lib/python3.10/dist-packages (from torch>=1.11.0->sentence-transformers>=2.6.0->langchain-huggingface) (3.1.4)\n",
            "Requirement already satisfied: joblib>=1.1.1 in /usr/local/lib/python3.10/dist-packages (from scikit-learn->sentence-transformers>=2.6.0->langchain-huggingface) (1.4.2)\n",
            "Requirement already satisfied: threadpoolctl>=2.0.0 in /usr/local/lib/python3.10/dist-packages (from scikit-learn->sentence-transformers>=2.6.0->langchain-huggingface) (3.5.0)\n",
            "Requirement already satisfied: anyio in /usr/local/lib/python3.10/dist-packages (from httpx<1,>=0.23.0->langsmith<0.2.0,>=0.1.117->langchain-core<0.4,>=0.3.0->langchain-huggingface) (3.7.1)\n",
            "Requirement already satisfied: httpcore==1.* in /usr/local/lib/python3.10/dist-packages (from httpx<1,>=0.23.0->langsmith<0.2.0,>=0.1.117->langchain-core<0.4,>=0.3.0->langchain-huggingface) (1.0.5)\n",
            "Requirement already satisfied: sniffio in /usr/local/lib/python3.10/dist-packages (from httpx<1,>=0.23.0->langsmith<0.2.0,>=0.1.117->langchain-core<0.4,>=0.3.0->langchain-huggingface) (1.3.1)\n",
            "Requirement already satisfied: h11<0.15,>=0.13 in /usr/local/lib/python3.10/dist-packages (from httpcore==1.*->httpx<1,>=0.23.0->langsmith<0.2.0,>=0.1.117->langchain-core<0.4,>=0.3.0->langchain-huggingface) (0.14.0)\n",
            "Requirement already satisfied: MarkupSafe>=2.0 in /usr/local/lib/python3.10/dist-packages (from jinja2->torch>=1.11.0->sentence-transformers>=2.6.0->langchain-huggingface) (2.1.5)\n",
            "Requirement already satisfied: mpmath<1.4,>=1.1.0 in /usr/local/lib/python3.10/dist-packages (from sympy->torch>=1.11.0->sentence-transformers>=2.6.0->langchain-huggingface) (1.3.0)\n",
            "Requirement already satisfied: exceptiongroup in /usr/local/lib/python3.10/dist-packages (from anyio->httpx<1,>=0.23.0->langsmith<0.2.0,>=0.1.117->langchain-core<0.4,>=0.3.0->langchain-huggingface) (1.2.2)\n",
            "Requirement already satisfied: huggingface_hub in /usr/local/lib/python3.10/dist-packages (0.24.6)\n",
            "Requirement already satisfied: filelock in /usr/local/lib/python3.10/dist-packages (from huggingface_hub) (3.16.0)\n",
            "Requirement already satisfied: fsspec>=2023.5.0 in /usr/local/lib/python3.10/dist-packages (from huggingface_hub) (2024.6.1)\n",
            "Requirement already satisfied: packaging>=20.9 in /usr/local/lib/python3.10/dist-packages (from huggingface_hub) (24.1)\n",
            "Requirement already satisfied: pyyaml>=5.1 in /usr/local/lib/python3.10/dist-packages (from huggingface_hub) (6.0.2)\n",
            "Requirement already satisfied: requests in /usr/local/lib/python3.10/dist-packages (from huggingface_hub) (2.32.3)\n",
            "Requirement already satisfied: tqdm>=4.42.1 in /usr/local/lib/python3.10/dist-packages (from huggingface_hub) (4.66.5)\n",
            "Requirement already satisfied: typing-extensions>=3.7.4.3 in /usr/local/lib/python3.10/dist-packages (from huggingface_hub) (4.12.2)\n",
            "Requirement already satisfied: charset-normalizer<4,>=2 in /usr/local/lib/python3.10/dist-packages (from requests->huggingface_hub) (3.3.2)\n",
            "Requirement already satisfied: idna<4,>=2.5 in /usr/local/lib/python3.10/dist-packages (from requests->huggingface_hub) (3.8)\n",
            "Requirement already satisfied: urllib3<3,>=1.21.1 in /usr/local/lib/python3.10/dist-packages (from requests->huggingface_hub) (2.0.7)\n",
            "Requirement already satisfied: certifi>=2017.4.17 in /usr/local/lib/python3.10/dist-packages (from requests->huggingface_hub) (2024.8.30)\n"
          ]
        }
      ]
    },
    {
      "cell_type": "code",
      "source": [
        "## Environment secret keys\n",
        "from google.colab import userdata\n",
        "sec_key=userdata.get(\"HF_TOKEN\")\n",
        "print(sec_key)\n",
        "\n",
        "from langchain_huggingface import HuggingFaceEndpoint\n",
        "\n",
        "import os\n",
        "os.environ[\"HUGGING_FACE\"]=sec_key"
      ],
      "metadata": {
        "colab": {
          "base_uri": "https://localhost:8080/"
        },
        "id": "j-t5PizBzq7i",
        "outputId": "3fd3cbec-9fbd-4a57-edf7-8cd88d269817"
      },
      "execution_count": 3,
      "outputs": [
        {
          "output_type": "stream",
          "name": "stdout",
          "text": [
            ""
          ]
        }
      ]
    },
    {
      "cell_type": "code",
      "source": [
        "repo_id=\"mistralai/Mistral-7B-Instruct-v0.3\"\n",
        "llm=HuggingFaceEndpoint(repo_id=repo_id,max_length=10,temperature=0.7,token=sec_key,timeout=300)"
      ],
      "metadata": {
        "colab": {
          "base_uri": "https://localhost:8080/"
        },
        "id": "rvqPTvcq0Cgx",
        "outputId": "66b7ad6d-6406-44f6-dd2f-f82e5d239f96"
      },
      "execution_count": 4,
      "outputs": [
        {
          "output_type": "stream",
          "name": "stderr",
          "text": [
            "WARNING:langchain_huggingface.llms.huggingface_endpoint:WARNING! max_length is not default parameter.\n",
            "                    max_length was transferred to model_kwargs.\n",
            "                    Please make sure that max_length is what you intended.\n",
            "WARNING:langchain_huggingface.llms.huggingface_endpoint:WARNING! token is not default parameter.\n",
            "                    token was transferred to model_kwargs.\n",
            "                    Please make sure that token is what you intended.\n"
          ]
        }
      ]
    },
    {
      "cell_type": "code",
      "source": [
        "!pip install langchain langchain_community"
      ],
      "metadata": {
        "colab": {
          "base_uri": "https://localhost:8080/"
        },
        "id": "vCOHYQC73xT3",
        "outputId": "7175f240-f85a-430e-b323-70fd07fea6ff"
      },
      "execution_count": 5,
      "outputs": [
        {
          "output_type": "stream",
          "name": "stdout",
          "text": [
            "Requirement already satisfied: langchain in /usr/local/lib/python3.10/dist-packages (0.3.0)\n",
            "Requirement already satisfied: langchain_community in /usr/local/lib/python3.10/dist-packages (0.3.0)\n",
            "Requirement already satisfied: PyYAML>=5.3 in /usr/local/lib/python3.10/dist-packages (from langchain) (6.0.2)\n",
            "Requirement already satisfied: SQLAlchemy<3,>=1.4 in /usr/local/lib/python3.10/dist-packages (from langchain) (2.0.34)\n",
            "Requirement already satisfied: aiohttp<4.0.0,>=3.8.3 in /usr/local/lib/python3.10/dist-packages (from langchain) (3.10.5)\n",
            "Requirement already satisfied: async-timeout<5.0.0,>=4.0.0 in /usr/local/lib/python3.10/dist-packages (from langchain) (4.0.3)\n",
            "Requirement already satisfied: langchain-core<0.4.0,>=0.3.0 in /usr/local/lib/python3.10/dist-packages (from langchain) (0.3.0)\n",
            "Requirement already satisfied: langchain-text-splitters<0.4.0,>=0.3.0 in /usr/local/lib/python3.10/dist-packages (from langchain) (0.3.0)\n",
            "Requirement already satisfied: langsmith<0.2.0,>=0.1.17 in /usr/local/lib/python3.10/dist-packages (from langchain) (0.1.120)\n",
            "Requirement already satisfied: numpy<2,>=1 in /usr/local/lib/python3.10/dist-packages (from langchain) (1.26.4)\n",
            "Requirement already satisfied: pydantic<3.0.0,>=2.7.4 in /usr/local/lib/python3.10/dist-packages (from langchain) (2.9.1)\n",
            "Requirement already satisfied: requests<3,>=2 in /usr/local/lib/python3.10/dist-packages (from langchain) (2.32.3)\n",
            "Requirement already satisfied: tenacity!=8.4.0,<9.0.0,>=8.1.0 in /usr/local/lib/python3.10/dist-packages (from langchain) (8.5.0)\n",
            "Requirement already satisfied: dataclasses-json<0.7,>=0.5.7 in /usr/local/lib/python3.10/dist-packages (from langchain_community) (0.6.7)\n",
            "Requirement already satisfied: pydantic-settings<3.0.0,>=2.4.0 in /usr/local/lib/python3.10/dist-packages (from langchain_community) (2.5.2)\n",
            "Requirement already satisfied: aiohappyeyeballs>=2.3.0 in /usr/local/lib/python3.10/dist-packages (from aiohttp<4.0.0,>=3.8.3->langchain) (2.4.0)\n",
            "Requirement already satisfied: aiosignal>=1.1.2 in /usr/local/lib/python3.10/dist-packages (from aiohttp<4.0.0,>=3.8.3->langchain) (1.3.1)\n",
            "Requirement already satisfied: attrs>=17.3.0 in /usr/local/lib/python3.10/dist-packages (from aiohttp<4.0.0,>=3.8.3->langchain) (24.2.0)\n",
            "Requirement already satisfied: frozenlist>=1.1.1 in /usr/local/lib/python3.10/dist-packages (from aiohttp<4.0.0,>=3.8.3->langchain) (1.4.1)\n",
            "Requirement already satisfied: multidict<7.0,>=4.5 in /usr/local/lib/python3.10/dist-packages (from aiohttp<4.0.0,>=3.8.3->langchain) (6.1.0)\n",
            "Requirement already satisfied: yarl<2.0,>=1.0 in /usr/local/lib/python3.10/dist-packages (from aiohttp<4.0.0,>=3.8.3->langchain) (1.11.1)\n",
            "Requirement already satisfied: marshmallow<4.0.0,>=3.18.0 in /usr/local/lib/python3.10/dist-packages (from dataclasses-json<0.7,>=0.5.7->langchain_community) (3.22.0)\n",
            "Requirement already satisfied: typing-inspect<1,>=0.4.0 in /usr/local/lib/python3.10/dist-packages (from dataclasses-json<0.7,>=0.5.7->langchain_community) (0.9.0)\n",
            "Requirement already satisfied: jsonpatch<2.0,>=1.33 in /usr/local/lib/python3.10/dist-packages (from langchain-core<0.4.0,>=0.3.0->langchain) (1.33)\n",
            "Requirement already satisfied: packaging<25,>=23.2 in /usr/local/lib/python3.10/dist-packages (from langchain-core<0.4.0,>=0.3.0->langchain) (24.1)\n",
            "Requirement already satisfied: typing-extensions>=4.7 in /usr/local/lib/python3.10/dist-packages (from langchain-core<0.4.0,>=0.3.0->langchain) (4.12.2)\n",
            "Requirement already satisfied: httpx<1,>=0.23.0 in /usr/local/lib/python3.10/dist-packages (from langsmith<0.2.0,>=0.1.17->langchain) (0.27.2)\n",
            "Requirement already satisfied: orjson<4.0.0,>=3.9.14 in /usr/local/lib/python3.10/dist-packages (from langsmith<0.2.0,>=0.1.17->langchain) (3.10.7)\n",
            "Requirement already satisfied: annotated-types>=0.6.0 in /usr/local/lib/python3.10/dist-packages (from pydantic<3.0.0,>=2.7.4->langchain) (0.7.0)\n",
            "Requirement already satisfied: pydantic-core==2.23.3 in /usr/local/lib/python3.10/dist-packages (from pydantic<3.0.0,>=2.7.4->langchain) (2.23.3)\n",
            "Requirement already satisfied: python-dotenv>=0.21.0 in /usr/local/lib/python3.10/dist-packages (from pydantic-settings<3.0.0,>=2.4.0->langchain_community) (1.0.1)\n",
            "Requirement already satisfied: charset-normalizer<4,>=2 in /usr/local/lib/python3.10/dist-packages (from requests<3,>=2->langchain) (3.3.2)\n",
            "Requirement already satisfied: idna<4,>=2.5 in /usr/local/lib/python3.10/dist-packages (from requests<3,>=2->langchain) (3.8)\n",
            "Requirement already satisfied: urllib3<3,>=1.21.1 in /usr/local/lib/python3.10/dist-packages (from requests<3,>=2->langchain) (2.0.7)\n",
            "Requirement already satisfied: certifi>=2017.4.17 in /usr/local/lib/python3.10/dist-packages (from requests<3,>=2->langchain) (2024.8.30)\n",
            "Requirement already satisfied: greenlet!=0.4.17 in /usr/local/lib/python3.10/dist-packages (from SQLAlchemy<3,>=1.4->langchain) (3.1.0)\n",
            "Requirement already satisfied: anyio in /usr/local/lib/python3.10/dist-packages (from httpx<1,>=0.23.0->langsmith<0.2.0,>=0.1.17->langchain) (3.7.1)\n",
            "Requirement already satisfied: httpcore==1.* in /usr/local/lib/python3.10/dist-packages (from httpx<1,>=0.23.0->langsmith<0.2.0,>=0.1.17->langchain) (1.0.5)\n",
            "Requirement already satisfied: sniffio in /usr/local/lib/python3.10/dist-packages (from httpx<1,>=0.23.0->langsmith<0.2.0,>=0.1.17->langchain) (1.3.1)\n",
            "Requirement already satisfied: h11<0.15,>=0.13 in /usr/local/lib/python3.10/dist-packages (from httpcore==1.*->httpx<1,>=0.23.0->langsmith<0.2.0,>=0.1.17->langchain) (0.14.0)\n",
            "Requirement already satisfied: jsonpointer>=1.9 in /usr/local/lib/python3.10/dist-packages (from jsonpatch<2.0,>=1.33->langchain-core<0.4.0,>=0.3.0->langchain) (3.0.0)\n",
            "Requirement already satisfied: mypy-extensions>=0.3.0 in /usr/local/lib/python3.10/dist-packages (from typing-inspect<1,>=0.4.0->dataclasses-json<0.7,>=0.5.7->langchain_community) (1.0.0)\n",
            "Requirement already satisfied: exceptiongroup in /usr/local/lib/python3.10/dist-packages (from anyio->httpx<1,>=0.23.0->langsmith<0.2.0,>=0.1.17->langchain) (1.2.2)\n"
          ]
        }
      ]
    },
    {
      "cell_type": "code",
      "source": [
        "from langchain import PromptTemplate, LLMChain"
      ],
      "metadata": {
        "id": "pbVsUV8U-ktm"
      },
      "execution_count": 6,
      "outputs": []
    },
    {
      "cell_type": "code",
      "source": [
        "question=\"\"\"You are tasked with scraping data from a Wikipedia page. Given the URL of the Wikipedia page, extract and return the following information in a structured format:\n",
        "\n",
        "Title: The title of the Wikipedia page.\n",
        "Summary: A brief summary or introduction section of the Wikipedia page.\n",
        "works: Scientific field in which that scientist worked.\n",
        "\n",
        "Example Input:\n",
        "URL: https://en.wikipedia.org/wiki/Albert_Einstein\n",
        "Expected Output:\n",
        "{\n",
        "  \"Title\": \"Albert Einstein\",\n",
        "  \"Summary\": \"Albert Einstein was a German-born theoretical physicist who developed the theory of relativity, one of the two pillars of modern physics. His work is also known for its influence on the philosophy of science.\",\n",
        "  \"works\": \"Einstein was a theoretical physicist\"\n",
        "}\n",
        "Only give the output in JSON format.\n",
        "\"\"\"\n",
        "template = \"\"\"Question: {question}\n",
        "url={url}\n",
        "Answer: Let's think step by step.\"\"\"\n",
        "prompt = PromptTemplate(template=template, input_variables=[\"question\",\"url\"])\n",
        "print(prompt)"
      ],
      "metadata": {
        "colab": {
          "base_uri": "https://localhost:8080/"
        },
        "id": "j6DxjyRSsmuI",
        "outputId": "440d1431-7696-446b-c205-ef816ae867d7"
      },
      "execution_count": 7,
      "outputs": [
        {
          "output_type": "stream",
          "name": "stdout",
          "text": [
            "input_variables=['question', 'url'] input_types={} partial_variables={} template=\"Question: {question}\\nurl={url}\\nAnswer: Let's think step by step.\"\n"
          ]
        }
      ]
    },
    {
      "cell_type": "code",
      "source": [
        "llm_chain=LLMChain(llm=llm,prompt=prompt)\n",
        "fres=[]\n",
        "for i in list12:\n",
        "  result = llm_chain.invoke({\"question\": question, \"url\": f\"{i}\"})\n",
        "  text = result['text']\n",
        "  lines = text.split('\\n')\n",
        "  fres.append(lines[-6:-1])\n",
        "\n"
      ],
      "metadata": {
        "id": "CMEbjCt5CGQw"
      },
      "execution_count": 27,
      "outputs": []
    },
    {
      "cell_type": "code",
      "source": [
        "llm_chain=LLMChain(llm=llm,prompt=prompt)\n",
        "result = llm_chain.invoke({\"question\": question, \"url\": \"https://en.wikipedia.org/wiki/Aryabhata\"})\n",
        "text = result['text']\n",
        "print(result)\n",
        "print(type(result))\n",
        "print(result.keys())\n"
      ],
      "metadata": {
        "colab": {
          "base_uri": "https://localhost:8080/"
        },
        "id": "XTNfFBtawV3C",
        "outputId": "06c42185-50aa-4398-98e0-fc1245801fff"
      },
      "execution_count": 16,
      "outputs": [
        {
          "output_type": "stream",
          "name": "stdout",
          "text": [
            "{'question': 'You are tasked with scraping data from a Wikipedia page. Given the URL of the Wikipedia page, extract and return the following information in a structured format:\\n\\nTitle: The title of the Wikipedia page.\\nSummary: A brief summary or introduction section of the Wikipedia page.\\nworks: Scientific field in which that scientist worked.\\n\\nExample Input:\\nURL: https://en.wikipedia.org/wiki/Albert_Einstein\\nExpected Output:\\n{\\n  \"Title\": \"Albert Einstein\",\\n  \"Summary\": \"Albert Einstein was a German-born theoretical physicist who developed the theory of relativity, one of the two pillars of modern physics. His work is also known for its influence on the philosophy of science.\",\\n  \"works\": \"Einstein was a theoretical physicist\"\\n}\\nOnly give the output in JSON format.\\n', 'url': 'https://en.wikipedia.org/wiki/Aryabhata', 'text': '\\n\\nFirst, we\\'ll use BeautifulSoup to parse the HTML of the page. Then, we\\'ll find the title, summary, and works from the parsed HTML.\\n\\n```python\\nfrom bs4 import BeautifulSoup\\nimport requests\\nimport json\\n\\nurl = \"https://en.wikipedia.org/wiki/Aryabhata\"\\n\\nresponse = requests.get(url)\\nsoup = BeautifulSoup(response.text, \"html.parser\")\\n\\ntitle = soup.find(\"h1\", {\"id\": \"firstHeading\"}).text.strip()\\nsummary = soup.find(\"p\", {\"class\": \"lead\"}).text.strip()\\nworks = soup.find(\"span\", {\"id\": \"ca_occupation\"}).text.strip()\\n\\ndata = {\\n    \"Title\": title,\\n    \"Summary\": summary,\\n    \"works\": works\\n}\\n\\nprint(json.dumps(data, indent=2))\\n```\\n\\nWhen you run this script, it will output the following:\\n\\n```\\n{\\n  \"Title\": \"Aryabhata\",\\n  \"Summary\": \"Aryabhata (c. 476 – c. 550 CE) was an Indian mathematician, astronomer, and philosopher who is a key figure in the history of both Hindu mathematics and Indian astronomy.\",\\n  \"works\": \"Aryabhata was a mathematician, astronomer, and philosopher\"\\n}\\n```'}\n",
            "<class 'dict'>\n",
            "dict_keys(['question', 'url', 'text'])\n"
          ]
        }
      ]
    },
    {
      "cell_type": "code",
      "source": [
        "print(fres)"
      ],
      "metadata": {
        "colab": {
          "base_uri": "https://localhost:8080/"
        },
        "id": "h8_VlfuzBHxQ",
        "outputId": "814f452f-b972-4cf1-baf8-940a959b7510"
      },
      "execution_count": 28,
      "outputs": [
        {
          "output_type": "stream",
          "name": "stdout",
          "text": [
            "[['', '```', \"{'Title': 'Aryabhatta', 'Summary': 'Aryabhata I (c. 476 – c. 550 CE) was an Indian mathematician, astronomer, and poet who is a key figure in the history of Indian mathematics and Indian astronomy. He introduced the concept of zero as a digit, and devised a place-value notation for writing numbers.', 'works': 'mathematician, astronomer'}\", '```', ''], ['', 'Output:', '', '```json', '{\"Title\": \"Alexei Alexeyevich Abrikosov\", \"Summary\": \"Abrikosov was a Russian physicist who made groundbreaking contributions to superconductivity and cosmology. He was awarded the Nobel Prize in Physics in 2003 for his discovery of \\'Abrikosov vortices\\' in superconductors.\", \"works\": \"superconductivity and cosmology\"}'], ['  \"Summary\": \"Albert Einstein was a German-born theoretical physicist who developed the theory of relativity, one of the two pillars of modern physics. His work is also known for its influence on the philosophy of science.\",', '  \"works\": \"Einstein was a theoretical physicist\"', '}', '```', ''], ['', '```python', 'works = soup.find(\"h2\", {\"id\": \"Works\"}).find_next_sibling(\"p\").text', '```', ''], ['', 'This will give the following output:', '', '```json', '{\"Title\": \"Bertram Brockhouse\", \"Summary\": \"Bertram Brockhouse was a Canadian physicist who received the Nobel Prize in Physics in 1994 for his development of neutron spectroscopy.\", \"works\": \"Canadian physicist\"}'], ['', 'This script will give you the following output:', '', '```json', '{\"Title\": \"Bimla Buti\", \"Summary\": \"Bimla Buti is an Indian economist and a former professor of economics at the Delhi School of Economics. She is known for her work in the area of international trade, particularly in the field of the theory of the Heckscher–Ohlin model, and the general equilibrium theory.\", \"works\": \"Economist\"}'], ['{', '  \"Title\": \"Carl David Anderson\",', '  \"Summary\": \"Carl David Anderson was an American physicist, who shared the 1936 Nobel Prize in Physics with Victor Hess for the discovery of the positron.\",', '  \"works\": \"a physicist\"', '}'], ['```', '', 'The output will be:', '', '```json'], ['', 'This will output the required information in JSON format:', '', '```', '{\"Title\": \"Charles Glover Barkla\", \"Summary\": \"Charles Glover Barkla was a British physicist who made significant contributions to the understanding of X-rays, for which he was awarded the Nobel Prize in Physics in 1917.\", \"works\": \"Barkla was a physicist\"}'], ['', 'The output will be:', '', '```json', '{\"Title\": \"Derek Abbott\", \"Summary\": \"Derek Abbott (born 1952) is a South African-born academic, author, and lecturer in the field of business management, leadership, and ethics.\", \"works\": \"Business management, leadership, and ethics\"}'], ['', '```python', 'print(json.dumps(output))', '```', ''], ['', '```json', '{\"Title\": \"David Awschalom\",', ' \"Summary\": \"David Awschalom is an American theoretical physicist, who is the Liew Family Professor of Molecular Engineering at the University of Chicago, and a Senior Scientist at Argonne National Laboratory.\",', ' \"works\": \"Theoretical Physicist\"}'], ['  \"Summary\": \"Ernst Karl Abbe was a German scientist, physicist, and mathematician who made significant contributions to the fields of optics and microscopy.\",', '  \"works\": \"Optics and microscopy\"', '}', '```', ''], ['{', '  \"Title\": \"Elephter Andronikashvili\",', '  \"Summary\": \"Elephter Andronikashvili (Georgian: ელეფთერ ანდრონიკაშვილი; 1876 – 1944) was a Georgian painter, graphic artist, and sculptor.\",', '  \"works\": \"Elephter Andronikashvili was a painter, graphic artist, and sculptor\"', '}'], ['```', '{', '  \"Title\": \"Edward Victor Appleton\",', '  \"Summary\": \"Edward Victor Appleton was a British radio astronomer, physicist and meteorologist. He is best known for his work on the ionosphere.\",', '  \"works\": \"radio astronomy, physics, meteorology\"'], ['```json', '{', '  \"Title\": \"Franz Aepinus\",', '  \"Summary\": \"\",', '  \"works\": \"Physicist\"'], ['', '```json', '{\"Title\": \"Felicie Albert\", \"Summary\": \"Félicie Albert (1823–1894) was a French mathematician and engineer. He was a professor at the École Centrale Paris and wrote several textbooks.\", \"works\": \"Félicie Albert was a mathematician\"}', '```', ''], ['    \"Summary\": \"Fran├žois Jean Dominique Arago was a French mathematician, physicist, astronomer, and politician. He is best known for his work on magnetism, the effects of the Earth\\'s magnetic field, and the discovery of the Arago spheres.\",', '    \"works\": \"Mathematician, physicist, astronomer\"', '}', '```', '']]\n"
          ]
        }
      ]
    },
    {
      "cell_type": "code",
      "source": [
        "import re\n",
        "import json"
      ],
      "metadata": {
        "id": "3bNy5MJ5GiRm"
      },
      "execution_count": 30,
      "outputs": []
    },
    {
      "cell_type": "code",
      "source": [
        "pattern = r'(?P<Title>Title\\W*:\\W*[\\'\"](?P<title>[^\\'\"]+)[\\'\"])|(?P<Summary>Summary\\W*:\\W*[\\'\"](?P<summary>[^\\'\"]+)[\\'\"])|(?P<Works>works\\W*:\\W*[\\'\"](?P<works>[^\\'\"]+)[\\'\"])'\n",
        "\n",
        "results = []\n",
        "temp = {}\n",
        "\n",
        "# Extract the required fields from the data\n",
        "for block in fres:\n",
        "    block_str = ' '.join(block)\n",
        "    matches = re.finditer(pattern, block_str)\n",
        "\n",
        "    for match in matches:\n",
        "        if match.group('title'):\n",
        "            temp['Title'] = match.group('title')\n",
        "        elif match.group('summary'):\n",
        "            temp['Summary'] = match.group('summary')\n",
        "        elif match.group('works'):\n",
        "            temp['Works'] = match.group('works')\n",
        "\n",
        "    # If all fields are found, add to results and reset temp\n",
        "    if 'Title' in temp and 'Summary' in temp and 'Works' in temp:\n",
        "        results.append(temp)\n",
        "        temp = {}\n",
        "\n",
        "# Display the result\n",
        "results"
      ],
      "metadata": {
        "colab": {
          "base_uri": "https://localhost:8080/"
        },
        "id": "J4WXTTCUGTWW",
        "outputId": "05010ae3-5bec-4ff9-cb3d-f9418fb1a1f1"
      },
      "execution_count": 31,
      "outputs": [
        {
          "output_type": "execute_result",
          "data": {
            "text/plain": [
              "[{'Title': 'Aryabhatta',\n",
              "  'Summary': 'Aryabhata I (c. 476 – c. 550 CE) was an Indian mathematician, astronomer, and poet who is a key figure in the history of Indian mathematics and Indian astronomy. He introduced the concept of zero as a digit, and devised a place-value notation for writing numbers.',\n",
              "  'Works': 'mathematician, astronomer'},\n",
              " {'Title': 'Alexei Alexeyevich Abrikosov',\n",
              "  'Summary': 'Abrikosov was a Russian physicist who made groundbreaking contributions to superconductivity and cosmology. He was awarded the Nobel Prize in Physics in 2003 for his discovery of ',\n",
              "  'Works': 'superconductivity and cosmology'},\n",
              " {'Summary': 'Bertram Brockhouse was a Canadian physicist who received the Nobel Prize in Physics in 1994 for his development of neutron spectroscopy.',\n",
              "  'Works': 'Canadian physicist',\n",
              "  'Title': 'Bertram Brockhouse'},\n",
              " {'Title': 'Bimla Buti',\n",
              "  'Summary': 'Bimla Buti is an Indian economist and a former professor of economics at the Delhi School of Economics. She is known for her work in the area of international trade, particularly in the field of the theory of the Heckscher–Ohlin model, and the general equilibrium theory.',\n",
              "  'Works': 'Economist'},\n",
              " {'Title': 'Carl David Anderson',\n",
              "  'Summary': 'Carl David Anderson was an American physicist, who shared the 1936 Nobel Prize in Physics with Victor Hess for the discovery of the positron.',\n",
              "  'Works': 'a physicist'},\n",
              " {'Title': 'Charles Glover Barkla',\n",
              "  'Summary': 'Charles Glover Barkla was a British physicist who made significant contributions to the understanding of X-rays, for which he was awarded the Nobel Prize in Physics in 1917.',\n",
              "  'Works': 'Barkla was a physicist'},\n",
              " {'Title': 'Derek Abbott',\n",
              "  'Summary': 'Derek Abbott (born 1952) is a South African-born academic, author, and lecturer in the field of business management, leadership, and ethics.',\n",
              "  'Works': 'Business management, leadership, and ethics'},\n",
              " {'Title': 'David Awschalom',\n",
              "  'Summary': 'David Awschalom is an American theoretical physicist, who is the Liew Family Professor of Molecular Engineering at the University of Chicago, and a Senior Scientist at Argonne National Laboratory.',\n",
              "  'Works': 'Theoretical Physicist'},\n",
              " {'Summary': 'Elephter Andronikashvili (Georgian: ელეფთერ ანდრონიკაშვილი; 1876 – 1944) was a Georgian painter, graphic artist, and sculptor.',\n",
              "  'Works': 'Elephter Andronikashvili was a painter, graphic artist, and sculptor',\n",
              "  'Title': 'Elephter Andronikashvili'},\n",
              " {'Title': 'Edward Victor Appleton',\n",
              "  'Summary': 'Edward Victor Appleton was a British radio astronomer, physicist and meteorologist. He is best known for his work on the ionosphere.',\n",
              "  'Works': 'radio astronomy, physics, meteorology'},\n",
              " {'Title': 'Felicie Albert',\n",
              "  'Summary': 'Félicie Albert (1823–1894) was a French mathematician and engineer. He was a professor at the École Centrale Paris and wrote several textbooks.',\n",
              "  'Works': 'Félicie Albert was a mathematician'}]"
            ]
          },
          "metadata": {},
          "execution_count": 31
        }
      ]
    },
    {
      "cell_type": "code",
      "source": [],
      "metadata": {
        "id": "9Vx1swE5Dulh"
      },
      "execution_count": null,
      "outputs": []
    },
    {
      "cell_type": "code",
      "source": [
        "text = result['text']\n",
        "print(text)"
      ],
      "metadata": {
        "colab": {
          "base_uri": "https://localhost:8080/"
        },
        "id": "i4nDYaWI7A0n",
        "outputId": "896437ec-bbc1-4616-8f99-c46f7ee9c426"
      },
      "execution_count": 17,
      "outputs": [
        {
          "output_type": "stream",
          "name": "stdout",
          "text": [
            "\n",
            "\n",
            "First, we'll use BeautifulSoup to parse the HTML of the page. Then, we'll find the title, summary, and works from the parsed HTML.\n",
            "\n",
            "```python\n",
            "from bs4 import BeautifulSoup\n",
            "import requests\n",
            "import json\n",
            "\n",
            "url = \"https://en.wikipedia.org/wiki/Aryabhata\"\n",
            "\n",
            "response = requests.get(url)\n",
            "soup = BeautifulSoup(response.text, \"html.parser\")\n",
            "\n",
            "title = soup.find(\"h1\", {\"id\": \"firstHeading\"}).text.strip()\n",
            "summary = soup.find(\"p\", {\"class\": \"lead\"}).text.strip()\n",
            "works = soup.find(\"span\", {\"id\": \"ca_occupation\"}).text.strip()\n",
            "\n",
            "data = {\n",
            "    \"Title\": title,\n",
            "    \"Summary\": summary,\n",
            "    \"works\": works\n",
            "}\n",
            "\n",
            "print(json.dumps(data, indent=2))\n",
            "```\n",
            "\n",
            "When you run this script, it will output the following:\n",
            "\n",
            "```\n",
            "{\n",
            "  \"Title\": \"Aryabhata\",\n",
            "  \"Summary\": \"Aryabhata (c. 476 – c. 550 CE) was an Indian mathematician, astronomer, and philosopher who is a key figure in the history of both Hindu mathematics and Indian astronomy.\",\n",
            "  \"works\": \"Aryabhata was a mathematician, astronomer, and philosopher\"\n",
            "}\n",
            "```\n"
          ]
        }
      ]
    },
    {
      "cell_type": "code",
      "source": [
        "lines = text.split('\\n')\n",
        "print(lines[-6:-1])"
      ],
      "metadata": {
        "colab": {
          "base_uri": "https://localhost:8080/"
        },
        "id": "ZSyOMwHT4Z4V",
        "outputId": "0becff88-d33d-43d8-cdae-d5d11a329369"
      },
      "execution_count": 26,
      "outputs": [
        {
          "output_type": "stream",
          "name": "stdout",
          "text": [
            "['{', '  \"Title\": \"Aryabhata\",', '  \"Summary\": \"Aryabhata (c. 476 – c. 550 CE) was an Indian mathematician, astronomer, and philosopher who is a key figure in the history of both Hindu mathematics and Indian astronomy.\",', '  \"works\": \"Aryabhata was a mathematician, astronomer, and philosopher\"', '}']\n"
          ]
        }
      ]
    },
    {
      "cell_type": "code",
      "source": [],
      "metadata": {
        "id": "rt65C9_16WZ7"
      },
      "execution_count": null,
      "outputs": []
    }
  ]
}
