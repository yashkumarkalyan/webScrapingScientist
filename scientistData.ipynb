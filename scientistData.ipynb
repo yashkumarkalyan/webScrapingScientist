{
  "nbformat": 4,
  "nbformat_minor": 0,
  "metadata": {
    "colab": {
      "provenance": [],
      "gpuType": "T4",
      "include_colab_link": true
    },
    "kernelspec": {
      "name": "python3",
      "display_name": "Python 3"
    },
    "language_info": {
      "name": "python"
    },
    "accelerator": "GPU"
  },
  "cells": [
    {
      "cell_type": "markdown",
      "metadata": {
        "id": "view-in-github",
        "colab_type": "text"
      },
      "source": [
        "<a href=\"https://colab.research.google.com/github/yashkumarkalyan/webScrapingScientist/blob/main/scientistData.ipynb\" target=\"_parent\"><img src=\"https://colab.research.google.com/assets/colab-badge.svg\" alt=\"Open In Colab\"/></a>"
      ]
    },
    {
      "cell_type": "code",
      "source": [
        "!pip install requests"
      ],
      "metadata": {
        "colab": {
          "base_uri": "https://localhost:8080/"
        },
        "id": "VDOEEw1QxFma",
        "outputId": "8de73647-2805-4397-8894-04843339986c"
      },
      "execution_count": 1,
      "outputs": [
        {
          "output_type": "stream",
          "name": "stdout",
          "text": [
            "Requirement already satisfied: requests in /usr/local/lib/python3.10/dist-packages (2.32.3)\n",
            "Requirement already satisfied: charset-normalizer<4,>=2 in /usr/local/lib/python3.10/dist-packages (from requests) (3.3.2)\n",
            "Requirement already satisfied: idna<4,>=2.5 in /usr/local/lib/python3.10/dist-packages (from requests) (3.8)\n",
            "Requirement already satisfied: urllib3<3,>=1.21.1 in /usr/local/lib/python3.10/dist-packages (from requests) (2.0.7)\n",
            "Requirement already satisfied: certifi>=2017.4.17 in /usr/local/lib/python3.10/dist-packages (from requests) (2024.8.30)\n"
          ]
        }
      ]
    },
    {
      "cell_type": "code",
      "source": [
        "url = \"https://en.wikipedia.org/wiki/List_of_physicists\""
      ],
      "metadata": {
        "id": "Ui-aLX1WxUY0"
      },
      "execution_count": 2,
      "outputs": []
    },
    {
      "cell_type": "code",
      "execution_count": 3,
      "metadata": {
        "id": "trjCu7TQwOU5"
      },
      "outputs": [],
      "source": [
        "import requests\n",
        "def jinaai_readerapi_web_scrape_url(url):\n",
        "  response = requests.get(\"https://r.jina.ai/\" + url)\n",
        "  return response.text"
      ]
    },
    {
      "cell_type": "code",
      "source": [
        "data = jinaai_readerapi_web_scrape_url(url)\n",
        "print(data)"
      ],
      "metadata": {
        "colab": {
          "base_uri": "https://localhost:8080/"
        },
        "id": "7XyEr9FShSk6",
        "outputId": "98668cf4-2f3e-4ce5-aa1e-0243ea0e761a"
      },
      "execution_count": 4,
      "outputs": [
        {
          "output_type": "stream",
          "name": "stdout",
          "text": [
            "{\"data\":null,\"code\":451,\"name\":\"SecurityCompromiseError\",\"status\":45102,\"message\":\"Domain en.wikipedia.org blocked until Sat Sep 14 2024 18:34:57 GMT+0000 (Coordinated Universal Time) due to previous abuse found on https://en.wikipedia.org/wiki/List_of_political_and_geographic_subdivisions_by_total_area_(all): DDoS attack suspected: Too many requests\",\"readableMessage\":\"SecurityCompromiseError: Domain en.wikipedia.org blocked until Sat Sep 14 2024 18:34:57 GMT+0000 (Coordinated Universal Time) due to previous abuse found on https://en.wikipedia.org/wiki/List_of_political_and_geographic_subdivisions_by_total_area_(all): DDoS attack suspected: Too many requests\"}\n"
          ]
        }
      ]
    },
    {
      "cell_type": "code",
      "source": [
        "d= data"
      ],
      "metadata": {
        "id": "UnU8EsM9T5DP"
      },
      "execution_count": null,
      "outputs": []
    },
    {
      "cell_type": "code",
      "source": [
        "s = d\n",
        "paragraphs = s.split('\\n\\n')\n",
        "\n",
        "print(paragraphs[6])\n",
        "print(s.splitlines()[11])"
      ],
      "metadata": {
        "colab": {
          "base_uri": "https://localhost:8080/"
        },
        "collapsed": true,
        "id": "_iT2YfFyUnxY",
        "outputId": "7e5e7550-14d1-4d8f-cfa2-1d720608f704"
      },
      "execution_count": null,
      "outputs": [
        {
          "output_type": "stream",
          "name": "stdout",
          "text": [
            "[![Image 1](https://upload.wikimedia.org/wikipedia/commons/thumb/e/e7/Al-Biruni_Portrait.jpg/220px-Al-Biruni_Portrait.jpg)](https://en.wikipedia.org/wiki/File:Al-Biruni_Portrait.jpg)\n",
            "*   [Aryabhatta](https://en.wikipedia.org/wiki/Aryabhatta \"Aryabhatta\") – India (476–550 CE)\n"
          ]
        }
      ]
    },
    {
      "cell_type": "code",
      "source": [
        "paragraphs = paragraphs[4:13]"
      ],
      "metadata": {
        "id": "Vmfl1vKhXPzj"
      },
      "execution_count": null,
      "outputs": []
    },
    {
      "cell_type": "code",
      "source": [
        "for paragraph in paragraphs:\n",
        "    print(paragraph)\n",
        "    print()"
      ],
      "metadata": {
        "collapsed": true,
        "id": "7NJtU-HgXkzz",
        "colab": {
          "base_uri": "https://localhost:8080/"
        },
        "outputId": "882a3586-2b18-406a-8a82-aab90fb2f68a"
      },
      "execution_count": null,
      "outputs": [
        {
          "output_type": "stream",
          "name": "stdout",
          "text": [
            "Following is a **list of [physicists](https://en.wikipedia.org/wiki/Physicist \"Physicist\")** who are notable for their achievements.\n",
            "\n",
            "*   [Aryabhatta](https://en.wikipedia.org/wiki/Aryabhatta \"Aryabhatta\") – India (476–550 CE)\n",
            "*   [Jules Aarons](https://en.wikipedia.org/wiki/Jules_Aarons \"Jules Aarons\") – United States (1921–2016)\n",
            "*   [Ernst Karl Abbe](https://en.wikipedia.org/wiki/Ernst_Karl_Abbe \"Ernst Karl Abbe\") – Germany (1840–1905)\n",
            "*   [Derek Abbott](https://en.wikipedia.org/wiki/Derek_Abbott \"Derek Abbott\") – Australia (born 1960)\n",
            "*   [Hasan Abdullayev](https://en.wikipedia.org/wiki/Hasan_Abdullayev \"Hasan Abdullayev\") – Azerbaijan Democratic Republic, Soviet Union, Azerbaijan (1918–1993)\n",
            "*   [Alexei Alexeyevich Abrikosov](https://en.wikipedia.org/wiki/Alexei_Alexeyevich_Abrikosov \"Alexei Alexeyevich Abrikosov\") – Soviet Union, Russia (1928–2017) Nobel laureate\n",
            "*   [Robert Adler](https://en.wikipedia.org/wiki/Robert_Adler \"Robert Adler\") – United States (1913–2007)\n",
            "*   [Stephen L. Adler](https://en.wikipedia.org/wiki/Stephen_L._Adler \"Stephen L. Adler\") – United States (born 1939)\n",
            "*   [Franz Aepinus](https://en.wikipedia.org/wiki/Franz_Aepinus \"Franz Aepinus\") – Rostock (1724–1802)\n",
            "*   [Mina Aganagic](https://en.wikipedia.org/wiki/Mina_Aganagic \"Mina Aganagic\") – Albania, United States\n",
            "*   [David Z Albert](https://en.wikipedia.org/wiki/David_Z_Albert \"David Z Albert\") – United States (born 1954)\n",
            "*   [Felicie Albert](https://en.wikipedia.org/wiki/Felicie_Albert \"Felicie Albert\") – France, United States\n",
            "*   [Miguel Alcubierre](https://en.wikipedia.org/wiki/Miguel_Alcubierre \"Miguel Alcubierre\") – Mexico (born 1964)\n",
            "*   [Zhores Ivanovich Alferov](https://en.wikipedia.org/wiki/Zhores_Ivanovich_Alferov \"Zhores Ivanovich Alferov\") – Russia (1930–2019) Nobel laureate\n",
            "*   [Hannes Olof Gösta Alfvén](https://en.wikipedia.org/wiki/Hannes_Olof_G%C3%B6sta_Alfv%C3%A9n \"Hannes Olof Gösta Alfvén\") – Sweden (1908–1995) Nobel laureate\n",
            "*   [Alhazen](https://en.wikipedia.org/wiki/Alhazen \"Alhazen\") – Basra, Iraq (965–1040)\n",
            "*   [Artem Alikhanian](https://en.wikipedia.org/wiki/Artem_Alikhanian \"Artem Alikhanian\") – Armenia (1908–1978)\n",
            "*   [Abram Alikhanov](https://en.wikipedia.org/wiki/Abram_Alikhanov \"Abram Alikhanov\") – Russia (1904–1970)\n",
            "*   [John E. Allen](https://en.wikipedia.org/wiki/John_E._Allen \"John E. Allen\") – United Kingdom (born 1928)\n",
            "*   [William Allis](https://en.wikipedia.org/wiki/William_Allis \"William Allis\") – United States (1901–1999)\n",
            "*   [Samuel King Allison](https://en.wikipedia.org/wiki/Samuel_King_Allison \"Samuel King Allison\") – United States (1900–1965)\n",
            "*   [Yakov Lvovich Alpert](https://en.wikipedia.org/wiki/Yakov_Lvovich_Alpert \"Yakov Lvovich Alpert\") – Russia, United States (1911–2010)\n",
            "*   [Ralph Asher Alpher](https://en.wikipedia.org/wiki/Ralph_Asher_Alpher \"Ralph Asher Alpher\") – United States (1921–2007)\n",
            "*   [Semen Altshuler](https://en.wikipedia.org/wiki/Semen_Altshuler \"Semen Altshuler\") – Vitebsk (1911–1983)\n",
            "*   [Luis Walter Alvarez](https://en.wikipedia.org/wiki/Luis_Walter_Alvarez \"Luis Walter Alvarez\") – United States (1911–1988) Nobel laureate\n",
            "*   [Viktor Ambartsumian](https://en.wikipedia.org/wiki/Viktor_Ambartsumian \"Viktor Ambartsumian\") – Soviet Union, Armenia (1908–1996)\n",
            "*   [André-Marie Ampère](https://en.wikipedia.org/wiki/Andr%C3%A9-Marie_Amp%C3%A8re \"André-Marie Ampère\") – France (1775–1836)\n",
            "*   [Anja Cetti Andersen](https://en.wikipedia.org/wiki/Anja_Cetti_Andersen \"Anja Cetti Andersen\") – Denmark (born 1965)\n",
            "*   [Hans Henrik Andersen](https://en.wikipedia.org/wiki/Hans_Henrik_Andersen \"Hans Henrik Andersen\") – Denmark (1937–2012)\n",
            "*   [Philip Warren Anderson](https://en.wikipedia.org/wiki/Philip_Warren_Anderson \"Philip Warren Anderson\") – United States (1923–2020) Nobel laureate\n",
            "*   [Carl David Anderson](https://en.wikipedia.org/wiki/Carl_David_Anderson \"Carl David Anderson\") – United States (1905–1991) Nobel laureate\n",
            "*   [Herbert L. Anderson](https://en.wikipedia.org/wiki/Herbert_L._Anderson \"Herbert L. Anderson\") – United States (1914–1988)\n",
            "*   [Elephter Andronikashvili](https://en.wikipedia.org/wiki/Elephter_Andronikashvili \"Elephter Andronikashvili\") – Georgia (1910–1989)\n",
            "*   [Anders Jonas Ångström](https://en.wikipedia.org/wiki/Anders_Jonas_%C3%85ngstr%C3%B6m \"Anders Jonas Ångström\") – Sweden (1814–1874)\n",
            "*   [Alexander Animalu](https://en.wikipedia.org/wiki/Alexander_Animalu \"Alexander Animalu\"), Nigeria (born 1938)\n",
            "*   [Edward Victor Appleton](https://en.wikipedia.org/wiki/Edward_Victor_Appleton \"Edward Victor Appleton\") – United Kingdom (1892–1965) Nobel laureate\n",
            "*   [François Arago](https://en.wikipedia.org/wiki/Fran%C3%A7ois_Arago \"François Arago\") – France (1786–1853)\n",
            "*   [Archimedes](https://en.wikipedia.org/wiki/Archimedes \"Archimedes\") – Syracuse, Greece (ca. 287–212 BC)\n",
            "*   [Manfred von Ardenne](https://en.wikipedia.org/wiki/Manfred_von_Ardenne \"Manfred von Ardenne\") – Germany (1907–1997)\n",
            "*   [Aristarchus of Samos](https://en.wikipedia.org/wiki/Aristarchus_of_Samos \"Aristarchus of Samos\") – Samos, Greece (310–ca. 230 BC)\n",
            "*   [Aristotle](https://en.wikipedia.org/wiki/Aristotle \"Aristotle\") – Athens, Greece (384–322 BC)\n",
            "*   [Nima Arkani-Hamed](https://en.wikipedia.org/wiki/Nima_Arkani-Hamed \"Nima Arkani-Hamed\") – United States (born 1972)\n",
            "*   [Lev Artsimovich](https://en.wikipedia.org/wiki/Lev_Artsimovich \"Lev Artsimovich\") – Moscow (1909–1973)\n",
            "*   [Aryabhata](https://en.wikipedia.org/wiki/Aryabhata \"Aryabhata\") – Pataliputra, India (476–550)\n",
            "*   [Neil Ashby](https://en.wikipedia.org/wiki/Neil_Ashby \"Neil Ashby\") – United States (born 1934)\n",
            "*   [Maha Ashour-Abdalla](https://en.wikipedia.org/wiki/Maha_Ashour-Abdalla \"Maha Ashour-Abdalla\") – Egypt, United States (1943–2016)\n",
            "*   [Gurgen Askaryan](https://en.wikipedia.org/wiki/Gurgen_Askaryan \"Gurgen Askaryan\") – Soviet Union (1928–1997)\n",
            "*   [Alain Aspect](https://en.wikipedia.org/wiki/Alain_Aspect \"Alain Aspect\") – France (born 1947)\n",
            "*   [Marcel Audiffren](https://en.wikipedia.org/wiki/Marcel_Audiffren \"Marcel Audiffren\") – France\n",
            "*   [Avicenna](https://en.wikipedia.org/wiki/Avicenna \"Avicenna\") – Persia (980–1037)\n",
            "*   [Amedeo Avogadro](https://en.wikipedia.org/wiki/Amedeo_Avogadro \"Amedeo Avogadro\") – Italy (1776–1856)\n",
            "*   [David Awschalom](https://en.wikipedia.org/wiki/David_Awschalom \"David Awschalom\") – United States (born 1956)\n",
            "*   [APJ Abdul Kalam](https://en.wikipedia.org/wiki/A._P._J._Abdul_Kalam \"A. P. J. Abdul Kalam\") – India\n",
            "\n",
            "[![Image 1](https://upload.wikimedia.org/wikipedia/commons/thumb/e/e7/Al-Biruni_Portrait.jpg/220px-Al-Biruni_Portrait.jpg)](https://en.wikipedia.org/wiki/File:Al-Biruni_Portrait.jpg)\n",
            "\n",
            "Biruni is one of the best-known early physicists\n",
            "\n",
            "*   [Abu sahl Al-Quhi](https://en.wikipedia.org/wiki/Abu_Sahl_al-Quhi \"Abu Sahl al-Quhi\") – İran (born 940)\n",
            "*   [Xiaoyi Bao](https://en.wikipedia.org/wiki/Xiaoyi_Bao \"Xiaoyi Bao\") – Canada\n",
            "*   [Mani Lal Bhaumik](https://en.wikipedia.org/wiki/Mani_Lal_Bhaumik \"Mani Lal Bhaumik\") – United States (born 1931)\n",
            "*   [Tom Baehr-Jones](https://en.wikipedia.org/wiki/Tom_Baehr-Jones \"Tom Baehr-Jones\") – United States (born 1980)\n",
            "*   [Gilbert Ronald Bainbridge](https://en.wikipedia.org/wiki/Gilbert_Ronald_Bainbridge \"Gilbert Ronald Bainbridge\") – U.K. (1925–2003)\n",
            "*   [Cornelis Bakker](https://en.wikipedia.org/wiki/Cornelis_Bakker \"Cornelis Bakker\") – Netherlands (1904–1960)\n",
            "*   [Aiyalam Parameswaran Balachandran](https://en.wikipedia.org/wiki/Aiyalam_Parameswaran_Balachandran \"Aiyalam Parameswaran Balachandran\") – India (born 1938)\n",
            "*   [V Balakrishnan](https://en.wikipedia.org/wiki/V._Balakrishnan_/(physicist/) \"V. Balakrishnan (physicist)\") – India (born 1943)\n",
            "*   [Milla Baldo-Ceolin](https://en.wikipedia.org/wiki/Milla_Baldo-Ceolin \"Milla Baldo-Ceolin\") – Italy (1924–2011)\n",
            "*   [Johann Jakob Balmer](https://en.wikipedia.org/wiki/Johann_Jakob_Balmer \"Johann Jakob Balmer\") – Switzerland (1825–1898)\n",
            "*   [Tom Banks](https://en.wikipedia.org/wiki/Tom_Banks_/(physicist/) \"Tom Banks (physicist)\") – United States (born 1949)\n",
            "*   [Riccardo Barbieri](https://en.wikipedia.org/wiki/Riccardo_Barbieri \"Riccardo Barbieri\") – Italy (born 1944)\n",
            "*   [Marcia Barbosa](https://en.wikipedia.org/wiki/Marcia_Barbosa \"Marcia Barbosa\") – Brazil (born 1960)\n",
            "*   [John Bardeen](https://en.wikipedia.org/wiki/John_Bardeen \"John Bardeen\") – United States (1908–1991) double Nobel laureate\n",
            "*   [William A. Bardeen](https://en.wikipedia.org/wiki/William_A._Bardeen \"William A. Bardeen\") – United States (born 1941)\n",
            "*   [Ronald Hugh Barker](https://en.wikipedia.org/wiki/Ronald_Hugh_Barker \"Ronald Hugh Barker\") – Ireland (1915–2015)\n",
            "*   [Charles Glover Barkla](https://en.wikipedia.org/wiki/Charles_Glover_Barkla \"Charles Glover Barkla\") – U.K. (1877–1944) Nobel laureate\n",
            "*   [Amanda Barnard](https://en.wikipedia.org/wiki/Amanda_Barnard \"Amanda Barnard\") – Australia (born 1971)\n",
            "*   [Boyd Bartlett](https://en.wikipedia.org/wiki/Boyd_Bartlett \"Boyd Bartlett\") – United States (1897–1965)\n",
            "*   [Asım Orhan Barut](https://en.wikipedia.org/wiki/As%C4%B1m_Orhan_Barut \"Asım Orhan Barut\") – Malatya, Turkey (1926–1994)\n",
            "*   [Heinz Barwich](https://en.wikipedia.org/wiki/Heinz_Barwich \"Heinz Barwich\") – Germany (1911–1966)\n",
            "*   [Nikolay Basov](https://en.wikipedia.org/wiki/Nikolay_Basov \"Nikolay Basov\") – Russia (1922–2001) Nobel laureate\n",
            "*   [Laura Maria Caterina Bassi](https://en.wikipedia.org/wiki/Laura_Maria_Caterina_Bassi \"Laura Maria Caterina Bassi\") – Italy (1711–1778)\n",
            "*   [Zoltán Lajos Bay](https://en.wikipedia.org/wiki/Zolt%C3%A1n_Lajos_Bay \"Zoltán Lajos Bay\") – Hungary (1900–1992)\n",
            "*   [Karl Bechert](https://en.wikipedia.org/wiki/Karl_Bechert \"Karl Bechert\") – Germany (1901–1981)\n",
            "*   [Henri Becquerel](https://en.wikipedia.org/wiki/Henri_Becquerel \"Henri Becquerel\") – France (1852–1908) Nobel laureate\n",
            "*   [Johannes Georg Bednorz](https://en.wikipedia.org/wiki/Johannes_Georg_Bednorz \"Johannes Georg Bednorz\") – Germany (born 1950) Nobel laureate\n",
            "*   [Isaac Beeckman](https://en.wikipedia.org/wiki/Isaac_Beeckman \"Isaac Beeckman\") – Netherlands (1588–1637)\n",
            "*   [Alexander Graham Bell](https://en.wikipedia.org/wiki/Alexander_Graham_Bell \"Alexander Graham Bell\") – Scotland, Canada, U.S.A. (1847–1922)\n",
            "*   [John Stewart Bell](https://en.wikipedia.org/wiki/John_Stewart_Bell \"John Stewart Bell\") – U.K. (1928–1990)\n",
            "*   [Jocelyn Bell Burnell](https://en.wikipedia.org/wiki/Jocelyn_Bell_Burnell \"Jocelyn Bell Burnell\") – Northern Ireland, U.K. (born 1943)\n",
            "*   [Carl M. Bender](https://en.wikipedia.org/wiki/Carl_M._Bender \"Carl M. Bender\") – United States (born 1943)\n",
            "*   [Abraham Bennet](https://en.wikipedia.org/wiki/Abraham_Bennet \"Abraham Bennet\") – England (1749–1799)\n",
            "*   [Daniel Bernoulli](https://en.wikipedia.org/wiki/Daniel_Bernoulli \"Daniel Bernoulli\") – Switzerland (1700–1782)\n",
            "*   [Hans Bethe](https://en.wikipedia.org/wiki/Hans_Bethe \"Hans Bethe\") – Germany, United States (1906–2005) Nobel laureate\n",
            "*   [Homi J. Bhabha](https://en.wikipedia.org/wiki/Homi_J._Bhabha \"Homi J. Bhabha\") – India (1909–1966)\n",
            "*   [Lars Bildsten](https://en.wikipedia.org/wiki/Lars_Bildsten \"Lars Bildsten\") – United States (1964)\n",
            "*   [James Binney](https://en.wikipedia.org/wiki/James_Binney \"James Binney\") – England (born 1950)\n",
            "*   [Gerd Binnig](https://en.wikipedia.org/wiki/Gerd_Binnig \"Gerd Binnig\") – Germany (born 1947) Nobel laureate\n",
            "*   [Jean-Baptiste Biot](https://en.wikipedia.org/wiki/Jean-Baptiste_Biot \"Jean-Baptiste Biot\") – France (1774–1862)\n",
            "*   [Raymond T. Birge](https://en.wikipedia.org/wiki/Raymond_T._Birge \"Raymond T. Birge\") – United States (1887–1980)\n",
            "*   [Abū Rayhān al-Bīrūnī](https://en.wikipedia.org/wiki/Ab%C5%AB_Rayh%C4%81n_al-B%C4%ABr%C5%ABn%C4%AB \"Abū Rayhān al-Bīrūnī\") – Persia (973–1048)\n",
            "*   [Vilhelm Bjerknes](https://en.wikipedia.org/wiki/Vilhelm_Bjerknes \"Vilhelm Bjerknes\") – Norway (1862–1951)\n",
            "*   [James Bjorken](https://en.wikipedia.org/wiki/James_Bjorken \"James Bjorken\") – United States (1934–2024)\n",
            "*   [Patrick Blackett](https://en.wikipedia.org/wiki/Patrick_Blackett \"Patrick Blackett\") – U.K. (1897–1974) Nobel laureate\n",
            "*   [Felix Bloch](https://en.wikipedia.org/wiki/Felix_Bloch \"Felix Bloch\") – Switzerland (1905–1983) Nobel laureate\n",
            "*   [Nicolaas Bloembergen](https://en.wikipedia.org/wiki/Nicolaas_Bloembergen \"Nicolaas Bloembergen\") – Netherlands, United States (1920–2017) Nobel laureate\n",
            "*   [Walter Boas](https://en.wikipedia.org/wiki/Walter_Boas \"Walter Boas\") – Germany, Australia (1904–1982)\n",
            "*   [Céline Bœhm](https://en.wikipedia.org/wiki/C%C3%A9line_B%C5%93hm \"Céline Bœhm\") – France (born 1974)\n",
            "*   [Nikolay Bogolyubov](https://en.wikipedia.org/wiki/Nikolay_Bogolyubov \"Nikolay Bogolyubov\") – Soviet Union, Russia (1909–1992)\n",
            "*   [David Bohm](https://en.wikipedia.org/wiki/David_Bohm \"David Bohm\") – United States (1917–1992)\n",
            "*   [Aage Bohr](https://en.wikipedia.org/wiki/Aage_Bohr \"Aage Bohr\") – Denmark (1922–2009) Nobel laureate\n",
            "*   [Niels Bohr](https://en.wikipedia.org/wiki/Niels_Bohr \"Niels Bohr\") – Denmark (1885–1962) Nobel laureate\n",
            "*   [Martin Bojowald](https://en.wikipedia.org/wiki/Martin_Bojowald \"Martin Bojowald\") – Germany (born 1973)\n",
            "*   [Ludwig Boltzmann](https://en.wikipedia.org/wiki/Ludwig_Boltzmann \"Ludwig Boltzmann\") – Austria (1844–1906)\n",
            "*   [Eugene T. Booth](https://en.wikipedia.org/wiki/Eugene_T._Booth \"Eugene T. Booth\") – United States (1912–2004)\n",
            "*   [Max Born](https://en.wikipedia.org/wiki/Max_Born \"Max Born\") – Germany, U.K. (1882–1970) Nobel laureate\n",
            "*   [Rudjer Josip Boscovich](https://en.wikipedia.org/wiki/Rudjer_Josip_Boscovich \"Rudjer Josip Boscovich\") – Croatia (1711–1787)\n",
            "*   [Jagadish Chandra Bose](https://en.wikipedia.org/wiki/Jagadish_Chandra_Bose \"Jagadish Chandra Bose\") – India (1858–1937)\n",
            "*   [Margrete Heiberg Bose](https://en.wikipedia.org/wiki/Margrete_Heiberg_Bose \"Margrete Heiberg Bose\") – Denmark (1866–1952)\n",
            "*   [Satyendra Nath Bose](https://en.wikipedia.org/wiki/Satyendra_Nath_Bose \"Satyendra Nath Bose\") – India (1894–1974)\n",
            "*   [Johannes Bosscha](https://en.wikipedia.org/wiki/Johannes_Bosscha \"Johannes Bosscha\") – Netherlands (1831–1911)\n",
            "*   [Walther Bothe](https://en.wikipedia.org/wiki/Walther_Bothe \"Walther Bothe\") – Germany (1891–1957) Nobel laureate\n",
            "*   [Edward Bouchet](https://en.wikipedia.org/wiki/Edward_Bouchet \"Edward Bouchet\") – United States (1852–1918)\n",
            "*   [Mustapha Ishak Boushaki](https://en.wikipedia.org/wiki/Mustapha_Ishak_Boushaki \"Mustapha Ishak Boushaki\") – Algeria (1967–)\n",
            "*   [Mark Bowick](https://en.wikipedia.org/wiki/Mark_Bowick \"Mark Bowick\") – United States (born 1957)\n",
            "*   [Robert Boyle](https://en.wikipedia.org/wiki/Robert_Boyle \"Robert Boyle\") – Ireland, England (1627–1691)\n",
            "*   [Willard S. Boyle](https://en.wikipedia.org/wiki/Willard_Boyle \"Willard Boyle\") – Canada, United States (1924–2011) Nobel laureate\n",
            "*   [William Henry Bragg](https://en.wikipedia.org/wiki/William_Henry_Bragg \"William Henry Bragg\") – U.K. (1862–1942) Nobel laureate\n",
            "*   [William Lawrence Bragg](https://en.wikipedia.org/wiki/William_Lawrence_Bragg \"William Lawrence Bragg\") – U.K., Australia (1890–1971) Nobel laureate\n",
            "*   [Tycho Brahe](https://en.wikipedia.org/wiki/Tycho_Brahe \"Tycho Brahe\") – Denmark (1546–1601)\n",
            "*   [Howard Brandt](https://en.wikipedia.org/wiki/Howard_Brandt \"Howard Brandt\") – United States (1939–2014)\n",
            "*   [Walter Houser Brattain](https://en.wikipedia.org/wiki/Walter_Houser_Brattain \"Walter Houser Brattain\") – United States (1902–1987) Nobel laureate\n",
            "*   [Karl Ferdinand Braun](https://en.wikipedia.org/wiki/Karl_Ferdinand_Braun \"Karl Ferdinand Braun\") – Germany (1850–1918) Nobel laureate\n",
            "*   [David Brewster](https://en.wikipedia.org/wiki/David_Brewster \"David Brewster\") – U.K. (1781–1868)\n",
            "*   [Percy Williams Bridgman](https://en.wikipedia.org/wiki/Percy_Williams_Bridgman \"Percy Williams Bridgman\") – United States (1882–1961) Nobel laureate\n",
            "*   [Léon Nicolas Brillouin](https://en.wikipedia.org/wiki/L%C3%A9on_Brillouin \"Léon Brillouin\") – France (1889–1969)\n",
            "*   [Marcel Brillouin](https://en.wikipedia.org/wiki/Marcel_Brillouin \"Marcel Brillouin\") – France (1854–1948)\n",
            "*   [Bertram Brockhouse](https://en.wikipedia.org/wiki/Bertram_Brockhouse \"Bertram Brockhouse\") – Canada (1918–2003) Nobel laureate\n",
            "*   [Louis-Victor de Broglie](https://en.wikipedia.org/wiki/Louis-Victor_de_Broglie \"Louis-Victor de Broglie\") – France (1892–1987) Nobel laureate\n",
            "*   [William Fuller Brown, Jr.](https://en.wikipedia.org/wiki/William_Fuller_Brown,_Jr. \"William Fuller Brown, Jr.\") – United States (1904–1983)\n",
            "*   [Ernst Brüche](https://en.wikipedia.org/wiki/Ernst_Br%C3%BCche \"Ernst Brüche\") – Germany (1900–1985)\n",
            "*   [Hermann Brück](https://en.wikipedia.org/wiki/Hermann_Br%C3%BCck \"Hermann Brück\") – Germany (1905–2000)\n",
            "*   [Ari Brynjolfsson](https://en.wikipedia.org/wiki/Ari_Brynjolfsson \"Ari Brynjolfsson\") – Iceland (1927–2013)\n",
            "*   [Hans Buchdahl](https://en.wikipedia.org/wiki/Hans_Buchdahl \"Hans Buchdahl\") – Germany, Australia (1918–2010)\n",
            "*   [Gersh Budker](https://en.wikipedia.org/wiki/Gersh_Budker \"Gersh Budker\") – Soviet Union (1918–1977)\n",
            "*   [Silke Bühler-Paschen](https://en.wikipedia.org/wiki/Silke_B%C3%BChler-Paschen \"Silke Bühler-Paschen\") – Austria (born 1967)\n",
            "*   [Johannes Martinus Burgers](https://en.wikipedia.org/wiki/Johannes_Martinus_Burgers \"Johannes Martinus Burgers\") – Netherlands (1895–1981)\n",
            "*   [Friedrich Burmeister](https://en.wikipedia.org/wiki/Friedrich_Burmeister \"Friedrich Burmeister\") – Germany (1890–1969)\n",
            "*   [Bimla Buti](https://en.wikipedia.org/wiki/Bimla_Buti \"Bimla Buti\") – India (born 1933)\n",
            "*   [Christophorus Buys Ballot](https://en.wikipedia.org/wiki/C.H.D._Buys_Ballot \"C.H.D. Buys Ballot\") – Netherlands (1817–1890)\n",
            "\n",
            "*   [Nicola Cabibbo](https://en.wikipedia.org/wiki/Nicola_Cabibbo \"Nicola Cabibbo\") – Italy (1935–2010)\n",
            "*   [Nicolás Cabrera](https://en.wikipedia.org/wiki/Nicol%C3%A1s_Cabrera_/(physicist/) \"Nicolás Cabrera (physicist)\") – Spain (1913–1989)\n",
            "*   [Orion Ciftja](https://en.wikipedia.org/wiki/Orion_Ciftja \"Orion Ciftja\") – United States\n",
            "*   [Curtis Callan](https://en.wikipedia.org/wiki/Curtis_Callan \"Curtis Callan\") – United States (born 1942)\n",
            "*   [Annie Jump Cannon](https://en.wikipedia.org/wiki/Annie_Jump_Cannon \"Annie Jump Cannon\") – United States (1863–1941)\n",
            "*   [Fritjof Capra](https://en.wikipedia.org/wiki/Fritjof_Capra \"Fritjof Capra\") – Austria, United States (born 1939)\n",
            "*   [Marcela Carena](https://en.wikipedia.org/wiki/Marcela_Carena \"Marcela Carena\") – Argentina (born 1962)\n",
            "*   [Ricardo Carezani](https://en.wikipedia.org/wiki/Ricardo_Carezani \"Ricardo Carezani\") – Argentina, United States (1921–2016)\n",
            "*   [Nicolas Léonard Sadi Carnot](https://en.wikipedia.org/wiki/Nicolas_L%C3%A9onard_Sadi_Carnot \"Nicolas Léonard Sadi Carnot\") – France (1796–1832)\n",
            "*   [David Carroll](https://en.wikipedia.org/wiki/David_Carroll_/(physicist/) \"David Carroll (physicist)\") – United States (born 1963)\n",
            "*   [Brandon Carter](https://en.wikipedia.org/wiki/Brandon_Carter \"Brandon Carter\") – Australia (born 1942)\n",
            "*   [Hendrik Casimir](https://en.wikipedia.org/wiki/Hendrik_Casimir \"Hendrik Casimir\") – Netherlands (1909–2000)\n",
            "*   [Henry Cavendish](https://en.wikipedia.org/wiki/Henry_Cavendish \"Henry Cavendish\") – U.K. (1731–1810)\n",
            "*   [James Chadwick](https://en.wikipedia.org/wiki/James_Chadwick \"James Chadwick\") – U.K. (1891–1974) Nobel laureate\n",
            "*   [Owen Chamberlain](https://en.wikipedia.org/wiki/Owen_Chamberlain \"Owen Chamberlain\") – United States (1920–2006) Nobel laureate\n",
            "*   [Moses H. W. Chan](https://en.wikipedia.org/wiki/Moses_H._W._Chan \"Moses H. W. Chan\") – Hong Kong (born 1946)\n",
            "*   [Subrahmanyan Chandrasekhar](https://en.wikipedia.org/wiki/Subrahmanyan_Chandrasekhar \"Subrahmanyan Chandrasekhar\") – India, United States (1910–1995) Nobel laureate\n",
            "*   [Tsao Chang](https://en.wikipedia.org/wiki/Tsao_Chang \"Tsao Chang\") - Chinese (born 1942)\n",
            "*   [Georges Charpak](https://en.wikipedia.org/wiki/Georges_Charpak \"Georges Charpak\") – France (1924–2010) Nobel laureate\n",
            "*   [Émilie du Châtelet](https://en.wikipedia.org/wiki/%C3%89milie_du_Ch%C3%A2telet \"Émilie du Châtelet\") – France (1706–1749)\n",
            "*   [Swapan Chattopadhyay](https://en.wikipedia.org/wiki/Swapan_Chattopadhyay \"Swapan Chattopadhyay\") – India (born 1951)\n",
            "*   [Pavel Alekseyevich Cherenkov](https://en.wikipedia.org/wiki/Pavel_Alekseyevich_Cherenkov \"Pavel Alekseyevich Cherenkov\") – Imperial Russia, Soviet Union (1904–1990) Nobel laureate\n",
            "*   [Maxim Chernodub](https://en.wikipedia.org/wiki/Maxim_Chernodub \"Maxim Chernodub\") – Russia, France (born 1973)\n",
            "*   [Geoffrey Chew](https://en.wikipedia.org/wiki/Geoffrey_Chew \"Geoffrey Chew\") – United States (1924–2019)\n",
            "*   [Boris Chirikov](https://en.wikipedia.org/wiki/Boris_Chirikov \"Boris Chirikov\") – Soviet Union, Russia (1928–2008)\n",
            "*   [Juansher Chkareuli](https://en.wikipedia.org/wiki/Juansher_Chkareuli \"Juansher Chkareuli\") – Georgia (born 1940)\n",
            "*   [Ernst Chladni](https://en.wikipedia.org/wiki/Ernst_Chladni \"Ernst Chladni\") – Germany (1756–1827)\n",
            "*   [Nicholas Christofilos](https://en.wikipedia.org/wiki/Nicholas_Christofilos \"Nicholas Christofilos\") – Greece (1916–1972)\n",
            "*   [Steven Chu](https://en.wikipedia.org/wiki/Steven_Chu \"Steven Chu\") – United States (born 1948) Nobel laureate\n",
            "*   [Giovanni Ciccotti](https://en.wikipedia.org/wiki/Giovanni_Ciccotti \"Giovanni Ciccotti\") – Italy (born 1943)\n",
            "*   [Benoît Clapeyron](https://en.wikipedia.org/wiki/Beno%C3%AEt_Paul_%C3%89mile_Clapeyron \"Benoît Paul Émile Clapeyron\") – France (1799–1864)\n",
            "*   [George W. Clark](https://en.wikipedia.org/wiki/George_W._Clark \"George W. Clark\") – United States\n",
            "*   [John Clauser](https://en.wikipedia.org/wiki/John_Clauser \"John Clauser\") – United States (born 1942) Nobel laureate\n",
            "*   [Rudolf Clausius](https://en.wikipedia.org/wiki/Rudolf_Clausius \"Rudolf Clausius\") – Germany (1822–1888)\n",
            "*   [Richard Clegg](https://en.wikipedia.org/wiki/Richard_Clegg \"Richard Clegg\") – U.K.\n",
            "*   [Gari Clifford](https://en.wikipedia.org/wiki/Gari_Clifford \"Gari Clifford\") – British-American physicist, biomedical engineer, academic, researcher\n",
            "*   [John Cockcroft](https://en.wikipedia.org/wiki/John_Cockcroft \"John Cockcroft\") – U.K. (1897–1967) Nobel laureate\n",
            "*   [Claude Cohen-Tannoudji](https://en.wikipedia.org/wiki/Claude_Cohen-Tannoudji \"Claude Cohen-Tannoudji\") – France (born 1933) Nobel laureate\n",
            "*   [Arthur Compton](https://en.wikipedia.org/wiki/Arthur_Compton \"Arthur Compton\") – United States (1892–1962) Nobel laureate\n",
            "*   [Karl Compton](https://en.wikipedia.org/wiki/Karl_Compton \"Karl Compton\") – United States (1887–1954)\n",
            "*   [Edward Condon](https://en.wikipedia.org/wiki/Edward_Condon \"Edward Condon\") – United States (1902–1974)\n",
            "*   [Leon Cooper](https://en.wikipedia.org/wiki/Leon_Cooper \"Leon Cooper\") – United States (born 1930) Nobel laureate\n",
            "*   [Alejandro Corichi](https://en.wikipedia.org/wiki/Alejandro_Corichi \"Alejandro Corichi\") – Mexico (born 1967)\n",
            "*   [Gaspard-Gustave Coriolis](https://en.wikipedia.org/wiki/Gaspard-Gustave_Coriolis \"Gaspard-Gustave Coriolis\") – France (1792–1843)\n",
            "*   [Allan McLeod Cormack](https://en.wikipedia.org/wiki/Allan_McLeod_Cormack \"Allan McLeod Cormack\") – South Africa, United States (1924–1998)\n",
            "*   [Eric Allin Cornell](https://en.wikipedia.org/wiki/Eric_Allin_Cornell \"Eric Allin Cornell\") – United States (born 1961) Nobel laureate\n",
            "*   [Marie Alfred Cornu](https://en.wikipedia.org/wiki/Marie_Alfred_Cornu \"Marie Alfred Cornu\") – France (1841–1902)\n",
            "*   [Charles-Augustin de Coulomb](https://en.wikipedia.org/wiki/Charles-Augustin_de_Coulomb \"Charles-Augustin de Coulomb\") – France (1736–1806)\n",
            "*   [Ernest Courant](https://en.wikipedia.org/wiki/Ernest_Courant \"Ernest Courant\") – United States (1920–2020)\n",
            "*   [Brian Cox](https://en.wikipedia.org/wiki/Brian_Cox_/(physicist/) \"Brian Cox (physicist)\") – U.K. (born 1968)\n",
            "*   [Charles Critchfield](https://en.wikipedia.org/wiki/Charles_Critchfield \"Charles Critchfield\") – United States (1910–1994)\n",
            "*   [James Cronin](https://en.wikipedia.org/wiki/James_Cronin \"James Cronin\") – United States (1931–2016) Nobel laureate\n",
            "*   [Sir William Crookes](https://en.wikipedia.org/wiki/Sir_William_Crookes \"Sir William Crookes\") – U.K. (1832–1919)\n",
            "*   [Paul Crowell](https://en.wikipedia.org/wiki/Paul_Crowell \"Paul Crowell\") – United States\n",
            "*   [Marie Curie](https://en.wikipedia.org/wiki/Marie_Curie \"Marie Curie\") – Poland, France (1867–1934) twice Nobel laureate\n",
            "*   [Pierre Curie](https://en.wikipedia.org/wiki/Pierre_Curie \"Pierre Curie\") – France (1859–1906) Nobel laureate\n",
            "*   [Predrag Cvitanović](https://en.wikipedia.org/wiki/Predrag_Cvitanovi%C4%87 \"Predrag Cvitanović\") – Croatia (born 1946)\n",
            "\n",
            "*   [Jean le Rond d'Alembert](https://en.wikipedia.org/wiki/Jean_le_Rond_d%27Alembert \"Jean le Rond d'Alembert\") – France (1717–1783)\n",
            "*   [Gustaf Dalén](https://en.wikipedia.org/wiki/Gustaf_Dal%C3%A9n \"Gustaf Dalén\") – Sweden (1869–1937) Nobel laureate\n",
            "*   [Jean Dalibard](https://en.wikipedia.org/wiki/Jean_Dalibard \"Jean Dalibard\") – France (born 1958)\n",
            "*   [Richard Dalitz](https://en.wikipedia.org/wiki/Richard_Dalitz \"Richard Dalitz\") – U.K., United States (1925–2006)\n",
            "*   [John Dalton](https://en.wikipedia.org/wiki/John_Dalton \"John Dalton\") – U.K. (1766–1844)\n",
            "*   [Sanja Damjanović](https://en.wikipedia.org/wiki/Sanja_Damjanovi%C4%87 \"Sanja Damjanović\") – Montenegro (born 1972)\n",
            "*   [Ranjan Roy Daniel](https://en.wikipedia.org/wiki/Ranjan_Roy_Daniel \"Ranjan Roy Daniel\") – India (1923–2005)\n",
            "*   [Charles Galton Darwin](https://en.wikipedia.org/wiki/Charles_Galton_Darwin \"Charles Galton Darwin\") – U.K. (1887–1962)\n",
            "*   [Ashok Das](https://en.wikipedia.org/wiki/Ashok_Das \"Ashok Das\") – India, United States (born 1953)\n",
            "*   [James C. Davenport](https://en.wikipedia.org/wiki/James_C._Davenport \"James C. Davenport\") – United States (born 1938)\n",
            "*   [Paul Davies](https://en.wikipedia.org/wiki/Paul_Davies \"Paul Davies\") – Australia (born 1946)\n",
            "*   [Raymond Davis, Jr.](https://en.wikipedia.org/wiki/Raymond_Davis,_Jr. \"Raymond Davis, Jr.\") – United States (1914–2006) Nobel laureate\n",
            "*   [Clinton Davisson](https://en.wikipedia.org/wiki/Clinton_Davisson \"Clinton Davisson\") – United States (1881–1958) Nobel laureate\n",
            "*   [Peter Debije](https://en.wikipedia.org/wiki/Peter_Debye \"Peter Debye\") – Netherlands (1884–1966)\n",
            "*   [Hans Georg Dehmelt](https://en.wikipedia.org/wiki/Hans_Georg_Dehmelt \"Hans Georg Dehmelt\") – Germany, United States (1922–2017) Nobel laureate\n",
            "*   [Max Delbrück](https://en.wikipedia.org/wiki/Max_Delbr%C3%BCck \"Max Delbrück\") – Germany, United States (1906–1981)\n",
            "*   [Democritus](https://en.wikipedia.org/wiki/Democritus \"Democritus\") – Abdera (ca. 460–360 BC)\n",
            "*   [David M. Dennison](https://en.wikipedia.org/wiki/David_M._Dennison \"David M. Dennison\") – United States (1900–1976)\n",
            "*   [Beryl May Dent](https://en.wikipedia.org/wiki/Beryl_May_Dent \"Beryl May Dent\") – U.K. (1900–1977)\n",
            "*   [David Deutsch](https://en.wikipedia.org/wiki/David_Deutsch \"David Deutsch\") – Israel, U.K. (born 1953)\n",
            "*   [René Descartes](https://en.wikipedia.org/wiki/Ren%C3%A9_Descartes \"René Descartes\") – France (1596–1650)\n",
            "*   [James Dewar](https://en.wikipedia.org/wiki/James_Dewar \"James Dewar\") – U.K. (1842–1923)\n",
            "*   [Scott Diddams](https://en.wikipedia.org/wiki/Scott_Diddams \"Scott Diddams\") – United States\n",
            "*   [Ulrike Diebold](https://en.wikipedia.org/wiki/Ulrike_Diebold \"Ulrike Diebold\") – Austria (born 1961)\n",
            "*   [Robbert Dijkgraaf](https://en.wikipedia.org/wiki/Robbert_Dijkgraaf \"Robbert Dijkgraaf\") – Netherlands (born 1960)\n",
            "*   [Viktor Dilman](https://en.wikipedia.org/wiki/Viktor_Dilman \"Viktor Dilman\") – Russia (born 1926)\n",
            "*   [Savas Dimopoulos](https://en.wikipedia.org/wiki/Savas_Dimopoulos \"Savas Dimopoulos\") – United States (born 1952)\n",
            "*   [Paul Dirac](https://en.wikipedia.org/wiki/Paul_Dirac \"Paul Dirac\") – Switzerland, U.K. (1902–1984) Nobel laureate\n",
            "*   [Revaz Dogonadze](https://en.wikipedia.org/wiki/Revaz_Dogonadze \"Revaz Dogonadze\") – Soviet Union, Georgia (1931–1985)\n",
            "*   [Louise Dolan](https://en.wikipedia.org/wiki/Louise_Dolan \"Louise Dolan\") – United States (born 1950)\n",
            "*   [Amos Dolbear](https://en.wikipedia.org/wiki/Amos_Dolbear \"Amos Dolbear\") – United States (1837–1910)\n",
            "*   [Robert Döpel](https://en.wikipedia.org/wiki/Robert_D%C3%B6pel \"Robert Döpel\") – Germany (1895–1982)\n",
            "*   [Christian Doppler](https://en.wikipedia.org/wiki/Christian_Doppler \"Christian Doppler\") – Austria (1803–1853)\n",
            "*   [Henk Dorgelo](https://en.wikipedia.org/wiki/Henk_Dorgelo \"Henk Dorgelo\") – Netherlands (1894–1961)\n",
            "*   [Friedrich Ernst Dorn](https://en.wikipedia.org/wiki/Friedrich_Ernst_Dorn \"Friedrich Ernst Dorn\") – Germany (1848–1916)\n",
            "*   [Geneva Smith Douglas](https://en.wikipedia.org/wiki/Geneva_Smith_Douglas \"Geneva Smith Douglas\") – United States (1932–1993)\n",
            "*   [Michael R. Douglas](https://en.wikipedia.org/wiki/Michael_R._Douglas \"Michael R. Douglas\") – United States (born 1961)\n",
            "*   [Jonathan Dowling](https://en.wikipedia.org/wiki/Jonathan_Dowling \"Jonathan Dowling\") – United States (1955–2020)\n",
            "*   [Claudia Draxl](https://en.wikipedia.org/wiki/Claudia_Draxl \"Claudia Draxl\") – Germany (born 1959)\n",
            "*   [Sidney Drell](https://en.wikipedia.org/wiki/Sidney_Drell \"Sidney Drell\") – United States (1926–2016)\n",
            "*   [Mildred Dresselhaus](https://en.wikipedia.org/wiki/Mildred_Dresselhaus \"Mildred Dresselhaus\") – United States (1930–2017)\n",
            "*   [Paul Drude](https://en.wikipedia.org/wiki/Paul_Drude \"Paul Drude\") – Germany (1863–1906)\n",
            "*   [F. J. Duarte](https://en.wikipedia.org/wiki/F._J._Duarte \"F. J. Duarte\") – United States (born 1954)\n",
            "*   [Émilie du Châtelet](https://en.wikipedia.org/wiki/%C3%89milie_du_Ch%C3%A2telet \"Émilie du Châtelet\") – France (1706–1749)\n",
            "*   [Pierre Louis Dulong](https://en.wikipedia.org/wiki/Pierre_Louis_Dulong \"Pierre Louis Dulong\") – France (1785–1838)\n",
            "*   [Janette Dunlop](https://en.wikipedia.org/wiki/Janette_Dunlop \"Janette Dunlop\") – Scotland (1891–1971)\n",
            "*   [Samuel T. Durrance](https://en.wikipedia.org/wiki/Samuel_T._Durrance \"Samuel T. Durrance\") – United States (born 1943)\n",
            "*   [Freeman Dyson](https://en.wikipedia.org/wiki/Freeman_Dyson \"Freeman Dyson\") – U.K., United States (1923–2020) Wolf laureate\n",
            "*   [Arthur Jeffrey Dempster](https://en.wikipedia.org/wiki/Arthur_Jeffrey_Dempster \"Arthur Jeffrey Dempster\") – Canada (1886–1950)\n",
            "\n",
            "*   [Joseph H. Eberly](https://en.wikipedia.org/wiki/Joseph_H._Eberly \"Joseph H. Eberly\") – United States (born 1935)\n",
            "*   [William Eccles](https://en.wikipedia.org/wiki/William_Eccles_/(physicist/) \"William Eccles (physicist)\") – U.K. (1875–1966)\n",
            "*   [Carl Eckart](https://en.wikipedia.org/wiki/Carl_Eckart \"Carl Eckart\") – United States (1902–1973)\n",
            "*   [Arthur Stanley Eddington](https://en.wikipedia.org/wiki/Arthur_Stanley_Eddington \"Arthur Stanley Eddington\") – U.K. (1882–1944)\n",
            "*   [Thomas Edison](https://en.wikipedia.org/wiki/Thomas_Edison \"Thomas Edison\") – U.S. Invented the lightbulb.\n",
            "*   [Paul Ehrenfest](https://en.wikipedia.org/wiki/Paul_Ehrenfest \"Paul Ehrenfest\") – Austria-Hungary, Netherlands (1880–1933)\n",
            "*   [Felix Ehrenhaft](https://en.wikipedia.org/wiki/Felix_Ehrenhaft \"Felix Ehrenhaft\") – Austria-Hungary, United States (1879–1952)\n",
            "*   [Manfred Eigen](https://en.wikipedia.org/wiki/Manfred_Eigen \"Manfred Eigen\") – Germany (1927–2019)\n",
            "*   [Albert Einstein](https://en.wikipedia.org/wiki/Albert_Einstein \"Albert Einstein\") – Germany, Italy, Switzerland, United States (1879–1955) Nobel laureate\n",
            "*   [Laura Eisenstein](https://en.wikipedia.org/wiki/Laura_Eisenstein \"Laura Eisenstein\") – (1942–1985) professor of physics at University of Illinois\n",
            "*   [Terence James Elkins](https://en.wikipedia.org/wiki/Terence_James_Elkins \"Terence James Elkins\") – Australia, United States (born 1936)\n",
            "*   [John Ellis](https://en.wikipedia.org/wiki/John_Ellis_/(physicist,_born_1946/) \"John Ellis (physicist, born 1946)\") – U.K. (born 1946)\n",
            "*   [Paul John Ellis](https://en.wikipedia.org/wiki/Paul_John_Ellis \"Paul John Ellis\") – U.K., United States (1941–2005)\n",
            "*   [Richard Keith Ellis](https://en.wikipedia.org/wiki/Richard_Keith_Ellis \"Richard Keith Ellis\") – U.K., United States (born 1949)\n",
            "*   [Arpad Elo](https://en.wikipedia.org/wiki/Arpad_Elo \"Arpad Elo\") – Hungary (1903–1992)\n",
            "*   [François Englert](https://en.wikipedia.org/wiki/Fran%C3%A7ois_Englert \"François Englert\") – Belgium (born 1932) Nobel laureate\n",
            "*   [David Enskog](https://en.wikipedia.org/wiki/David_Enskog \"David Enskog\") – Sweden (1884–1947)\n",
            "*   [Loránd Eötvös](https://en.wikipedia.org/wiki/Lor%C3%A1nd_E%C3%B6tv%C3%B6s \"Loránd Eötvös\") – Austria-Hungary (1848–1919)\n",
            "*   [Frederick J. Ernst](https://en.wikipedia.org/wiki/Ernst_equation \"Ernst equation\") – United States (born 1933)\n",
            "*   [Leo Esaki](https://en.wikipedia.org/wiki/Leo_Esaki \"Leo Esaki\") – Japan (born 1925) Nobel laureate\n",
            "*   [Ernest Esclangon](https://en.wikipedia.org/wiki/Ernest_Esclangon \"Ernest Esclangon\") – France (1876–1954)\n",
            "*   [Louis Essen](https://en.wikipedia.org/wiki/Louis_Essen \"Louis Essen\") – U.K. (1908–1997)\n",
            "*   [Leonhard Euler](https://en.wikipedia.org/wiki/Leonhard_Euler \"Leonhard Euler\") – Switzerland (1707–1783)\n",
            "*   [Denis Evans](https://en.wikipedia.org/wiki/Denis_Evans \"Denis Evans\") – Australia (born 1951)\n",
            "*   [Paul Peter Ewald](https://en.wikipedia.org/wiki/Paul_Peter_Ewald \"Paul Peter Ewald\") – Germany, United States (1888–1985)\n",
            "*   [James Alfred Ewing](https://en.wikipedia.org/wiki/James_Alfred_Ewing \"James Alfred Ewing\") – U.K. (1855–1935)\n",
            "*   [Franz S. Exner](https://en.wikipedia.org/wiki/Franz_S._Exner \"Franz S. Exner\") – Austria (1849–1926)\n",
            "\n",
            "*   [Ludvig Faddeev](https://en.wikipedia.org/wiki/Ludvig_Faddeev \"Ludvig Faddeev\") – Russia (1934–2017)\n",
            "*   [Daniel Gabriel Fahrenheit](https://en.wikipedia.org/wiki/Daniel_Gabriel_Fahrenheit \"Daniel Gabriel Fahrenheit\") – [Prussia](https://en.wikipedia.org/wiki/Royal_Prussia \"Royal Prussia\") (1686–1736)\n",
            "*   [Kazimierz Fajans](https://en.wikipedia.org/wiki/Kazimierz_Fajans \"Kazimierz Fajans\") – Poland, United States (1887–1975)\n",
            "*   [James E. Faller](https://en.wikipedia.org/wiki/James_E._Faller \"James E. Faller\") – United States\n",
            "*   [Michael Faraday](https://en.wikipedia.org/wiki/Michael_Faraday \"Michael Faraday\") – U.K. (1791–1867)\n",
            "*   [Eugene Feenberg](https://en.wikipedia.org/wiki/Eugene_Feenberg \"Eugene Feenberg\") – United States (1906–1977)\n",
            "*   [Mitchell Feigenbaum](https://en.wikipedia.org/wiki/Mitchell_Feigenbaum \"Mitchell Feigenbaum\") – United States (1944–2019)\n",
            "*   [Gerald Feinberg](https://en.wikipedia.org/wiki/Gerald_Feinberg \"Gerald Feinberg\") – United States (1933–1992)\n",
            "*   [Enrico Fermi](https://en.wikipedia.org/wiki/Enrico_Fermi \"Enrico Fermi\") – Italy (1901–1954) Nobel laureate\n",
            "*   [Albert Fert](https://en.wikipedia.org/wiki/Albert_Fert \"Albert Fert\") – France (born 1938) Nobel laureate\n",
            "*   [Herman Feshbach](https://en.wikipedia.org/wiki/Herman_Feshbach \"Herman Feshbach\") – United States (1917–2000)\n",
            "*   [Richard Feynman](https://en.wikipedia.org/wiki/Richard_Feynman \"Richard Feynman\") – United States (1918–1988) Nobel laureate\n",
            "*   [Wolfgang Finkelnburg](https://en.wikipedia.org/wiki/Wolfgang_Finkelnburg \"Wolfgang Finkelnburg\") – Germany (1905–1967)\n",
            "*   [David Finkelstein](https://en.wikipedia.org/wiki/David_Finkelstein \"David Finkelstein\") – United States (1929–2016)\n",
            "*   [Johannes Fischer](https://en.wikipedia.org/wiki/Johannes_Fischer \"Johannes Fischer\") – Germany (born 1887)\n",
            "*   [Willy Fischler](https://en.wikipedia.org/wiki/Willy_Fischler \"Willy Fischler\") – Belgium (born 1949)\n",
            "*   [Val Logsdon Fitch](https://en.wikipedia.org/wiki/Val_Logsdon_Fitch \"Val Logsdon Fitch\") – United States (1923–2015) Nobel laureate\n",
            "*   [George Francis FitzGerald](https://en.wikipedia.org/wiki/George_Francis_FitzGerald \"George Francis FitzGerald\") – Ireland (1851–1901)\n",
            "*   [Hippolyte Fizeau](https://en.wikipedia.org/wiki/Hippolyte_Fizeau \"Hippolyte Fizeau\") – France (1819–1896)\n",
            "*   [Georgy Flyorov](https://en.wikipedia.org/wiki/Georgy_Flyorov \"Georgy Flyorov\") – Rostov-on-Don (1913–1990)\n",
            "*   [Vladimir Fock](https://en.wikipedia.org/wiki/Vladimir_Fock \"Vladimir Fock\") – Imperial Russia, Soviet Union (1898–1974)\n",
            "*   [Adriaan Fokker](https://en.wikipedia.org/wiki/Adriaan_Fokker \"Adriaan Fokker\") – Netherlands (1887–1972)\n",
            "*   [Arthur Foley](https://en.wikipedia.org/wiki/Arthur_Foley \"Arthur Foley\") – America (1867–1945)\n",
            "*   [James David Forbes](https://en.wikipedia.org/wiki/James_David_Forbes \"James David Forbes\") – U.K. (1809–1868)\n",
            "*   [Jeff Forshaw](https://en.wikipedia.org/wiki/Jeff_Forshaw \"Jeff Forshaw\") – U.K. (born 1968)\n",
            "*   [Léon Foucault](https://en.wikipedia.org/wiki/L%C3%A9on_Foucault \"Léon Foucault\") – France (1819–1868)\n",
            "*   [Joseph Fourier](https://en.wikipedia.org/wiki/Joseph_Fourier \"Joseph Fourier\") – France (1768–1830)\n",
            "*   [Ralph H. Fowler](https://en.wikipedia.org/wiki/Ralph_H._Fowler \"Ralph H. Fowler\") – U.K. (1889–1944)\n",
            "*   [William Alfred Fowler](https://en.wikipedia.org/wiki/William_Alfred_Fowler \"William Alfred Fowler\") – United States (1911–1995) Nobel laureate\n",
            "*   [James Franck](https://en.wikipedia.org/wiki/James_Franck \"James Franck\") – Germany, United States (1882–1964) Nobel laureate\n",
            "*   [Ilya Frank](https://en.wikipedia.org/wiki/Ilya_Frank \"Ilya Frank\") – Soviet Union (1908–1990) Nobel laureate\n",
            "*   [Benjamin Franklin](https://en.wikipedia.org/wiki/Benjamin_Franklin \"Benjamin Franklin\") – British America, United States (1706–1790)\n",
            "*   [Rosalind Franklin](https://en.wikipedia.org/wiki/Rosalind_Franklin \"Rosalind Franklin\") – U.K. (1920–1958)\n",
            "*   [Walter Franz](https://en.wikipedia.org/wiki/Walter_Franz \"Walter Franz\") – Germany (1911–1992)\n",
            "*   [Joseph von Fraunhofer](https://en.wikipedia.org/wiki/Joseph_von_Fraunhofer \"Joseph von Fraunhofer\") – Germany (1787–1826)\n",
            "*   [Steven Frautschi](https://en.wikipedia.org/wiki/Steven_Frautschi \"Steven Frautschi\") – United States (born 1933)\n",
            "*   [Joan Maie Freeman](https://en.wikipedia.org/wiki/Joan_Maie_Freeman \"Joan Maie Freeman\") – Australia (1918–1998)\n",
            "*   [Phyllis S. Freier](https://en.wikipedia.org/wiki/Phyllis_S._Freier \"Phyllis S. Freier\") – United States (1921–1992))\n",
            "*   [Yakov Frenkel](https://en.wikipedia.org/wiki/Yakov_Frenkel \"Yakov Frenkel\") – Imperial Russia, Soviet Union (1894–1952)\n",
            "*   [Augustin-Jean Fresnel](https://en.wikipedia.org/wiki/Augustin-Jean_Fresnel \"Augustin-Jean Fresnel\") – France (1788–1827)\n",
            "*   [Peter Freund](https://en.wikipedia.org/wiki/Peter_Freund \"Peter Freund\") – United States (1936–2018)\n",
            "*   [Daniel Friedan](https://en.wikipedia.org/wiki/Daniel_Friedan \"Daniel Friedan\") – United States (born 1948)\n",
            "*   [B. Roy Frieden](https://en.wikipedia.org/wiki/B._Roy_Frieden \"B. Roy Frieden\") – United States (born 1936)\n",
            "*   [Alexander Friedman](https://en.wikipedia.org/wiki/Alexander_Friedman \"Alexander Friedman\") – Imperial Russia, Soviet Union (1888–1925)\n",
            "*   [Jerome Isaac Friedman](https://en.wikipedia.org/wiki/Jerome_Isaac_Friedman \"Jerome Isaac Friedman\") – United States (born 1930) Nobel laureate\n",
            "*   [Otto Frisch](https://en.wikipedia.org/wiki/Otto_Frisch \"Otto Frisch\") – Austria, U.K. (1904–1979)\n",
            "*   [Erwin Fues](https://en.wikipedia.org/wiki/Erwin_Fues \"Erwin Fues\") – Germany (1893–1970)\n",
            "*   [Harald Fuchs](https://en.wikipedia.org/wiki/Harald_Fuchs \"Harald Fuchs\") – Germany (born 1951)\n",
            "\n"
          ]
        }
      ]
    },
    {
      "cell_type": "code",
      "source": [
        "new_paragraphs = []\n",
        "for paragraph in paragraphs:\n",
        "    lines = paragraph.split('\\n')\n",
        "    # Remove the first line\n",
        "    lines = lines[1:4]\n",
        "    # Join the remaining lines back into a paragraph\n",
        "    new_paragraph = '\\n'.join(lines)\n",
        "    new_paragraphs.append(new_paragraph)\n",
        "\n",
        "# Join the paragraphs back into a single string\n",
        "new_text = '\\n\\n'.join(new_paragraphs)\n",
        "\n",
        "print(new_text)\n",
        "\n"
      ],
      "metadata": {
        "collapsed": true,
        "id": "AEPn3NLlW6TR",
        "colab": {
          "base_uri": "https://localhost:8080/"
        },
        "outputId": "c9386765-a568-4fd8-929f-40b6cdc93103"
      },
      "execution_count": null,
      "outputs": [
        {
          "output_type": "stream",
          "name": "stdout",
          "text": [
            "\n",
            "\n",
            "*   [Jules Aarons](https://en.wikipedia.org/wiki/Jules_Aarons \"Jules Aarons\") – United States (1921–2016)\n",
            "*   [Ernst Karl Abbe](https://en.wikipedia.org/wiki/Ernst_Karl_Abbe \"Ernst Karl Abbe\") – Germany (1840–1905)\n",
            "*   [Derek Abbott](https://en.wikipedia.org/wiki/Derek_Abbott \"Derek Abbott\") – Australia (born 1960)\n",
            "\n",
            "\n",
            "\n",
            "\n",
            "\n",
            "*   [Xiaoyi Bao](https://en.wikipedia.org/wiki/Xiaoyi_Bao \"Xiaoyi Bao\") – Canada\n",
            "*   [Mani Lal Bhaumik](https://en.wikipedia.org/wiki/Mani_Lal_Bhaumik \"Mani Lal Bhaumik\") – United States (born 1931)\n",
            "*   [Tom Baehr-Jones](https://en.wikipedia.org/wiki/Tom_Baehr-Jones \"Tom Baehr-Jones\") – United States (born 1980)\n",
            "\n",
            "*   [Nicolás Cabrera](https://en.wikipedia.org/wiki/Nicol%C3%A1s_Cabrera_/(physicist/) \"Nicolás Cabrera (physicist)\") – Spain (1913–1989)\n",
            "*   [Orion Ciftja](https://en.wikipedia.org/wiki/Orion_Ciftja \"Orion Ciftja\") – United States\n",
            "*   [Curtis Callan](https://en.wikipedia.org/wiki/Curtis_Callan \"Curtis Callan\") – United States (born 1942)\n",
            "\n",
            "*   [Gustaf Dalén](https://en.wikipedia.org/wiki/Gustaf_Dal%C3%A9n \"Gustaf Dalén\") – Sweden (1869–1937) Nobel laureate\n",
            "*   [Jean Dalibard](https://en.wikipedia.org/wiki/Jean_Dalibard \"Jean Dalibard\") – France (born 1958)\n",
            "*   [Richard Dalitz](https://en.wikipedia.org/wiki/Richard_Dalitz \"Richard Dalitz\") – U.K., United States (1925–2006)\n",
            "\n",
            "*   [William Eccles](https://en.wikipedia.org/wiki/William_Eccles_/(physicist/) \"William Eccles (physicist)\") – U.K. (1875–1966)\n",
            "*   [Carl Eckart](https://en.wikipedia.org/wiki/Carl_Eckart \"Carl Eckart\") – United States (1902–1973)\n",
            "*   [Arthur Stanley Eddington](https://en.wikipedia.org/wiki/Arthur_Stanley_Eddington \"Arthur Stanley Eddington\") – U.K. (1882–1944)\n",
            "\n",
            "*   [Daniel Gabriel Fahrenheit](https://en.wikipedia.org/wiki/Daniel_Gabriel_Fahrenheit \"Daniel Gabriel Fahrenheit\") – [Prussia](https://en.wikipedia.org/wiki/Royal_Prussia \"Royal Prussia\") (1686–1736)\n",
            "*   [Kazimierz Fajans](https://en.wikipedia.org/wiki/Kazimierz_Fajans \"Kazimierz Fajans\") – Poland, United States (1887–1975)\n",
            "*   [James E. Faller](https://en.wikipedia.org/wiki/James_E._Faller \"James E. Faller\") – United States\n"
          ]
        }
      ]
    },
    {
      "cell_type": "code",
      "source": [
        "print(type(new_text))"
      ],
      "metadata": {
        "id": "wFZHBTdR02np",
        "colab": {
          "base_uri": "https://localhost:8080/"
        },
        "outputId": "1e704ecf-c7fc-4e24-a92d-e31b98944eb6"
      },
      "execution_count": null,
      "outputs": [
        {
          "output_type": "stream",
          "name": "stdout",
          "text": [
            "<class 'str'>\n"
          ]
        }
      ]
    },
    {
      "cell_type": "code",
      "source": [
        "!pip install langchain-huggingface\n",
        "!pip install huggingface_hub"
      ],
      "metadata": {
        "id": "9F7jNkPqy5ec",
        "collapsed": true,
        "colab": {
          "base_uri": "https://localhost:8080/"
        },
        "outputId": "fac4fed8-e1c1-4d7f-db7e-1b21796c121f"
      },
      "execution_count": null,
      "outputs": [
        {
          "output_type": "stream",
          "name": "stdout",
          "text": [
            "Collecting langchain-huggingface\n",
            "  Downloading langchain_huggingface-0.1.0-py3-none-any.whl.metadata (1.3 kB)\n",
            "Requirement already satisfied: huggingface-hub>=0.23.0 in /usr/local/lib/python3.10/dist-packages (from langchain-huggingface) (0.24.6)\n",
            "Collecting langchain-core<0.4,>=0.3.0 (from langchain-huggingface)\n",
            "  Downloading langchain_core-0.3.0-py3-none-any.whl.metadata (6.2 kB)\n",
            "Collecting sentence-transformers>=2.6.0 (from langchain-huggingface)\n",
            "  Downloading sentence_transformers-3.1.0-py3-none-any.whl.metadata (23 kB)\n",
            "Requirement already satisfied: tokenizers>=0.19.1 in /usr/local/lib/python3.10/dist-packages (from langchain-huggingface) (0.19.1)\n",
            "Requirement already satisfied: transformers>=4.39.0 in /usr/local/lib/python3.10/dist-packages (from langchain-huggingface) (4.44.2)\n",
            "Requirement already satisfied: filelock in /usr/local/lib/python3.10/dist-packages (from huggingface-hub>=0.23.0->langchain-huggingface) (3.16.0)\n",
            "Requirement already satisfied: fsspec>=2023.5.0 in /usr/local/lib/python3.10/dist-packages (from huggingface-hub>=0.23.0->langchain-huggingface) (2024.6.1)\n",
            "Requirement already satisfied: packaging>=20.9 in /usr/local/lib/python3.10/dist-packages (from huggingface-hub>=0.23.0->langchain-huggingface) (24.1)\n",
            "Requirement already satisfied: pyyaml>=5.1 in /usr/local/lib/python3.10/dist-packages (from huggingface-hub>=0.23.0->langchain-huggingface) (6.0.2)\n",
            "Requirement already satisfied: requests in /usr/local/lib/python3.10/dist-packages (from huggingface-hub>=0.23.0->langchain-huggingface) (2.32.3)\n",
            "Requirement already satisfied: tqdm>=4.42.1 in /usr/local/lib/python3.10/dist-packages (from huggingface-hub>=0.23.0->langchain-huggingface) (4.66.5)\n",
            "Requirement already satisfied: typing-extensions>=3.7.4.3 in /usr/local/lib/python3.10/dist-packages (from huggingface-hub>=0.23.0->langchain-huggingface) (4.12.2)\n",
            "Collecting jsonpatch<2.0,>=1.33 (from langchain-core<0.4,>=0.3.0->langchain-huggingface)\n",
            "  Downloading jsonpatch-1.33-py2.py3-none-any.whl.metadata (3.0 kB)\n",
            "Collecting langsmith<0.2.0,>=0.1.117 (from langchain-core<0.4,>=0.3.0->langchain-huggingface)\n",
            "  Downloading langsmith-0.1.120-py3-none-any.whl.metadata (13 kB)\n",
            "Requirement already satisfied: pydantic<3.0.0,>=2.5.2 in /usr/local/lib/python3.10/dist-packages (from langchain-core<0.4,>=0.3.0->langchain-huggingface) (2.9.1)\n",
            "Collecting tenacity!=8.4.0,<9.0.0,>=8.1.0 (from langchain-core<0.4,>=0.3.0->langchain-huggingface)\n",
            "  Downloading tenacity-8.5.0-py3-none-any.whl.metadata (1.2 kB)\n",
            "Requirement already satisfied: torch>=1.11.0 in /usr/local/lib/python3.10/dist-packages (from sentence-transformers>=2.6.0->langchain-huggingface) (2.4.0+cu121)\n",
            "Requirement already satisfied: numpy<2.0.0 in /usr/local/lib/python3.10/dist-packages (from sentence-transformers>=2.6.0->langchain-huggingface) (1.26.4)\n",
            "Requirement already satisfied: scikit-learn in /usr/local/lib/python3.10/dist-packages (from sentence-transformers>=2.6.0->langchain-huggingface) (1.3.2)\n",
            "Requirement already satisfied: scipy in /usr/local/lib/python3.10/dist-packages (from sentence-transformers>=2.6.0->langchain-huggingface) (1.13.1)\n",
            "Requirement already satisfied: Pillow in /usr/local/lib/python3.10/dist-packages (from sentence-transformers>=2.6.0->langchain-huggingface) (9.4.0)\n",
            "Requirement already satisfied: regex!=2019.12.17 in /usr/local/lib/python3.10/dist-packages (from transformers>=4.39.0->langchain-huggingface) (2024.5.15)\n",
            "Requirement already satisfied: safetensors>=0.4.1 in /usr/local/lib/python3.10/dist-packages (from transformers>=4.39.0->langchain-huggingface) (0.4.5)\n",
            "Collecting jsonpointer>=1.9 (from jsonpatch<2.0,>=1.33->langchain-core<0.4,>=0.3.0->langchain-huggingface)\n",
            "  Downloading jsonpointer-3.0.0-py2.py3-none-any.whl.metadata (2.3 kB)\n",
            "Collecting httpx<1,>=0.23.0 (from langsmith<0.2.0,>=0.1.117->langchain-core<0.4,>=0.3.0->langchain-huggingface)\n",
            "  Downloading httpx-0.27.2-py3-none-any.whl.metadata (7.1 kB)\n",
            "Collecting orjson<4.0.0,>=3.9.14 (from langsmith<0.2.0,>=0.1.117->langchain-core<0.4,>=0.3.0->langchain-huggingface)\n",
            "  Downloading orjson-3.10.7-cp310-cp310-manylinux_2_17_x86_64.manylinux2014_x86_64.whl.metadata (50 kB)\n",
            "\u001b[2K     \u001b[90m━━━━━━━━━━━━━━━━━━━━━━━━━━━━━━━━━━━━━━━━\u001b[0m \u001b[32m50.4/50.4 kB\u001b[0m \u001b[31m3.6 MB/s\u001b[0m eta \u001b[36m0:00:00\u001b[0m\n",
            "\u001b[?25hRequirement already satisfied: annotated-types>=0.6.0 in /usr/local/lib/python3.10/dist-packages (from pydantic<3.0.0,>=2.5.2->langchain-core<0.4,>=0.3.0->langchain-huggingface) (0.7.0)\n",
            "Requirement already satisfied: pydantic-core==2.23.3 in /usr/local/lib/python3.10/dist-packages (from pydantic<3.0.0,>=2.5.2->langchain-core<0.4,>=0.3.0->langchain-huggingface) (2.23.3)\n",
            "Requirement already satisfied: charset-normalizer<4,>=2 in /usr/local/lib/python3.10/dist-packages (from requests->huggingface-hub>=0.23.0->langchain-huggingface) (3.3.2)\n",
            "Requirement already satisfied: idna<4,>=2.5 in /usr/local/lib/python3.10/dist-packages (from requests->huggingface-hub>=0.23.0->langchain-huggingface) (3.8)\n",
            "Requirement already satisfied: urllib3<3,>=1.21.1 in /usr/local/lib/python3.10/dist-packages (from requests->huggingface-hub>=0.23.0->langchain-huggingface) (2.0.7)\n",
            "Requirement already satisfied: certifi>=2017.4.17 in /usr/local/lib/python3.10/dist-packages (from requests->huggingface-hub>=0.23.0->langchain-huggingface) (2024.8.30)\n",
            "Requirement already satisfied: sympy in /usr/local/lib/python3.10/dist-packages (from torch>=1.11.0->sentence-transformers>=2.6.0->langchain-huggingface) (1.13.2)\n",
            "Requirement already satisfied: networkx in /usr/local/lib/python3.10/dist-packages (from torch>=1.11.0->sentence-transformers>=2.6.0->langchain-huggingface) (3.3)\n",
            "Requirement already satisfied: jinja2 in /usr/local/lib/python3.10/dist-packages (from torch>=1.11.0->sentence-transformers>=2.6.0->langchain-huggingface) (3.1.4)\n",
            "Requirement already satisfied: joblib>=1.1.1 in /usr/local/lib/python3.10/dist-packages (from scikit-learn->sentence-transformers>=2.6.0->langchain-huggingface) (1.4.2)\n",
            "Requirement already satisfied: threadpoolctl>=2.0.0 in /usr/local/lib/python3.10/dist-packages (from scikit-learn->sentence-transformers>=2.6.0->langchain-huggingface) (3.5.0)\n",
            "Requirement already satisfied: anyio in /usr/local/lib/python3.10/dist-packages (from httpx<1,>=0.23.0->langsmith<0.2.0,>=0.1.117->langchain-core<0.4,>=0.3.0->langchain-huggingface) (3.7.1)\n",
            "Collecting httpcore==1.* (from httpx<1,>=0.23.0->langsmith<0.2.0,>=0.1.117->langchain-core<0.4,>=0.3.0->langchain-huggingface)\n",
            "  Downloading httpcore-1.0.5-py3-none-any.whl.metadata (20 kB)\n",
            "Requirement already satisfied: sniffio in /usr/local/lib/python3.10/dist-packages (from httpx<1,>=0.23.0->langsmith<0.2.0,>=0.1.117->langchain-core<0.4,>=0.3.0->langchain-huggingface) (1.3.1)\n",
            "Collecting h11<0.15,>=0.13 (from httpcore==1.*->httpx<1,>=0.23.0->langsmith<0.2.0,>=0.1.117->langchain-core<0.4,>=0.3.0->langchain-huggingface)\n",
            "  Downloading h11-0.14.0-py3-none-any.whl.metadata (8.2 kB)\n",
            "Requirement already satisfied: MarkupSafe>=2.0 in /usr/local/lib/python3.10/dist-packages (from jinja2->torch>=1.11.0->sentence-transformers>=2.6.0->langchain-huggingface) (2.1.5)\n",
            "Requirement already satisfied: mpmath<1.4,>=1.1.0 in /usr/local/lib/python3.10/dist-packages (from sympy->torch>=1.11.0->sentence-transformers>=2.6.0->langchain-huggingface) (1.3.0)\n",
            "Requirement already satisfied: exceptiongroup in /usr/local/lib/python3.10/dist-packages (from anyio->httpx<1,>=0.23.0->langsmith<0.2.0,>=0.1.117->langchain-core<0.4,>=0.3.0->langchain-huggingface) (1.2.2)\n",
            "Downloading langchain_huggingface-0.1.0-py3-none-any.whl (20 kB)\n",
            "Downloading langchain_core-0.3.0-py3-none-any.whl (405 kB)\n",
            "\u001b[2K   \u001b[90m━━━━━━━━━━━━━━━━━━━━━━━━━━━━━━━━━━━━━━━━\u001b[0m \u001b[32m405.1/405.1 kB\u001b[0m \u001b[31m33.3 MB/s\u001b[0m eta \u001b[36m0:00:00\u001b[0m\n",
            "\u001b[?25hDownloading sentence_transformers-3.1.0-py3-none-any.whl (249 kB)\n",
            "\u001b[2K   \u001b[90m━━━━━━━━━━━━━━━━━━━━━━━━━━━━━━━━━━━━━━━━\u001b[0m \u001b[32m249.1/249.1 kB\u001b[0m \u001b[31m19.1 MB/s\u001b[0m eta \u001b[36m0:00:00\u001b[0m\n",
            "\u001b[?25hDownloading jsonpatch-1.33-py2.py3-none-any.whl (12 kB)\n",
            "Downloading langsmith-0.1.120-py3-none-any.whl (289 kB)\n",
            "\u001b[2K   \u001b[90m━━━━━━━━━━━━━━━━━━━━━━━━━━━━━━━━━━━━━━━━\u001b[0m \u001b[32m289.8/289.8 kB\u001b[0m \u001b[31m24.0 MB/s\u001b[0m eta \u001b[36m0:00:00\u001b[0m\n",
            "\u001b[?25hDownloading tenacity-8.5.0-py3-none-any.whl (28 kB)\n",
            "Downloading httpx-0.27.2-py3-none-any.whl (76 kB)\n",
            "\u001b[2K   \u001b[90m━━━━━━━━━━━━━━━━━━━━━━━━━━━━━━━━━━━━━━━━\u001b[0m \u001b[32m76.4/76.4 kB\u001b[0m \u001b[31m8.1 MB/s\u001b[0m eta \u001b[36m0:00:00\u001b[0m\n",
            "\u001b[?25hDownloading httpcore-1.0.5-py3-none-any.whl (77 kB)\n",
            "\u001b[2K   \u001b[90m━━━━━━━━━━━━━━━━━━━━━━━━━━━━━━━━━━━━━━━━\u001b[0m \u001b[32m77.9/77.9 kB\u001b[0m \u001b[31m7.3 MB/s\u001b[0m eta \u001b[36m0:00:00\u001b[0m\n",
            "\u001b[?25hDownloading jsonpointer-3.0.0-py2.py3-none-any.whl (7.6 kB)\n",
            "Downloading orjson-3.10.7-cp310-cp310-manylinux_2_17_x86_64.manylinux2014_x86_64.whl (141 kB)\n",
            "\u001b[2K   \u001b[90m━━━━━━━━━━━━━━━━━━━━━━━━━━━━━━━━━━━━━━━━\u001b[0m \u001b[32m141.9/141.9 kB\u001b[0m \u001b[31m12.7 MB/s\u001b[0m eta \u001b[36m0:00:00\u001b[0m\n",
            "\u001b[?25hDownloading h11-0.14.0-py3-none-any.whl (58 kB)\n",
            "\u001b[2K   \u001b[90m━━━━━━━━━━━━━━━━━━━━━━━━━━━━━━━━━━━━━━━━\u001b[0m \u001b[32m58.3/58.3 kB\u001b[0m \u001b[31m5.2 MB/s\u001b[0m eta \u001b[36m0:00:00\u001b[0m\n",
            "\u001b[?25hInstalling collected packages: tenacity, orjson, jsonpointer, h11, jsonpatch, httpcore, httpx, langsmith, sentence-transformers, langchain-core, langchain-huggingface\n",
            "  Attempting uninstall: tenacity\n",
            "    Found existing installation: tenacity 9.0.0\n",
            "    Uninstalling tenacity-9.0.0:\n",
            "      Successfully uninstalled tenacity-9.0.0\n",
            "Successfully installed h11-0.14.0 httpcore-1.0.5 httpx-0.27.2 jsonpatch-1.33 jsonpointer-3.0.0 langchain-core-0.3.0 langchain-huggingface-0.1.0 langsmith-0.1.120 orjson-3.10.7 sentence-transformers-3.1.0 tenacity-8.5.0\n",
            "Requirement already satisfied: huggingface_hub in /usr/local/lib/python3.10/dist-packages (0.24.6)\n",
            "Requirement already satisfied: filelock in /usr/local/lib/python3.10/dist-packages (from huggingface_hub) (3.16.0)\n",
            "Requirement already satisfied: fsspec>=2023.5.0 in /usr/local/lib/python3.10/dist-packages (from huggingface_hub) (2024.6.1)\n",
            "Requirement already satisfied: packaging>=20.9 in /usr/local/lib/python3.10/dist-packages (from huggingface_hub) (24.1)\n",
            "Requirement already satisfied: pyyaml>=5.1 in /usr/local/lib/python3.10/dist-packages (from huggingface_hub) (6.0.2)\n",
            "Requirement already satisfied: requests in /usr/local/lib/python3.10/dist-packages (from huggingface_hub) (2.32.3)\n",
            "Requirement already satisfied: tqdm>=4.42.1 in /usr/local/lib/python3.10/dist-packages (from huggingface_hub) (4.66.5)\n",
            "Requirement already satisfied: typing-extensions>=3.7.4.3 in /usr/local/lib/python3.10/dist-packages (from huggingface_hub) (4.12.2)\n",
            "Requirement already satisfied: charset-normalizer<4,>=2 in /usr/local/lib/python3.10/dist-packages (from requests->huggingface_hub) (3.3.2)\n",
            "Requirement already satisfied: idna<4,>=2.5 in /usr/local/lib/python3.10/dist-packages (from requests->huggingface_hub) (3.8)\n",
            "Requirement already satisfied: urllib3<3,>=1.21.1 in /usr/local/lib/python3.10/dist-packages (from requests->huggingface_hub) (2.0.7)\n",
            "Requirement already satisfied: certifi>=2017.4.17 in /usr/local/lib/python3.10/dist-packages (from requests->huggingface_hub) (2024.8.30)\n"
          ]
        }
      ]
    },
    {
      "cell_type": "code",
      "source": [
        "## Environment secret keys\n",
        "from google.colab import userdata\n",
        "sec_key=userdata.get(\"HF_TOKEN\")\n",
        "print(sec_key)\n",
        "\n",
        "from langchain_huggingface import HuggingFaceEndpoint\n",
        "\n",
        "import os\n",
        "os.environ[\"HUGGING_FACE\"]=sec_key"
      ],
      "metadata": {
        "id": "j-t5PizBzq7i",
        "colab": {
          "base_uri": "https://localhost:8080/",
          "height": 394
        },
        "outputId": "817aa138-7cbb-4aec-ae5c-0e6d420e185a"
      },
      "execution_count": null,
      "outputs": [
        {
          "output_type": "error",
          "ename": "SecretNotFoundError",
          "evalue": "Secret HF_TOKEN does not exist.",
          "traceback": [
            "\u001b[0;31m---------------------------------------------------------------------------\u001b[0m",
            "\u001b[0;31mSecretNotFoundError\u001b[0m                       Traceback (most recent call last)",
            "\u001b[0;32m<ipython-input-14-7f60bfdcbf3a>\u001b[0m in \u001b[0;36m<cell line: 3>\u001b[0;34m()\u001b[0m\n\u001b[1;32m      1\u001b[0m \u001b[0;31m## Environment secret keys\u001b[0m\u001b[0;34m\u001b[0m\u001b[0;34m\u001b[0m\u001b[0m\n\u001b[1;32m      2\u001b[0m \u001b[0;32mfrom\u001b[0m \u001b[0mgoogle\u001b[0m\u001b[0;34m.\u001b[0m\u001b[0mcolab\u001b[0m \u001b[0;32mimport\u001b[0m \u001b[0muserdata\u001b[0m\u001b[0;34m\u001b[0m\u001b[0;34m\u001b[0m\u001b[0m\n\u001b[0;32m----> 3\u001b[0;31m \u001b[0msec_key\u001b[0m\u001b[0;34m=\u001b[0m\u001b[0muserdata\u001b[0m\u001b[0;34m.\u001b[0m\u001b[0mget\u001b[0m\u001b[0;34m(\u001b[0m\u001b[0;34m\"HF_TOKEN\"\u001b[0m\u001b[0;34m)\u001b[0m\u001b[0;34m\u001b[0m\u001b[0;34m\u001b[0m\u001b[0m\n\u001b[0m\u001b[1;32m      4\u001b[0m \u001b[0mprint\u001b[0m\u001b[0;34m(\u001b[0m\u001b[0msec_key\u001b[0m\u001b[0;34m)\u001b[0m\u001b[0;34m\u001b[0m\u001b[0;34m\u001b[0m\u001b[0m\n\u001b[1;32m      5\u001b[0m \u001b[0;34m\u001b[0m\u001b[0m\n",
            "\u001b[0;32m/usr/local/lib/python3.10/dist-packages/google/colab/userdata.py\u001b[0m in \u001b[0;36mget\u001b[0;34m(key)\u001b[0m\n\u001b[1;32m     66\u001b[0m     \u001b[0;32mraise\u001b[0m \u001b[0mTimeoutException\u001b[0m\u001b[0;34m(\u001b[0m\u001b[0mkey\u001b[0m\u001b[0;34m)\u001b[0m\u001b[0;34m\u001b[0m\u001b[0;34m\u001b[0m\u001b[0m\n\u001b[1;32m     67\u001b[0m   \u001b[0;32mif\u001b[0m \u001b[0;32mnot\u001b[0m \u001b[0mresp\u001b[0m\u001b[0;34m.\u001b[0m\u001b[0mget\u001b[0m\u001b[0;34m(\u001b[0m\u001b[0;34m'exists'\u001b[0m\u001b[0;34m,\u001b[0m \u001b[0;32mFalse\u001b[0m\u001b[0;34m)\u001b[0m\u001b[0;34m:\u001b[0m\u001b[0;34m\u001b[0m\u001b[0;34m\u001b[0m\u001b[0m\n\u001b[0;32m---> 68\u001b[0;31m     \u001b[0;32mraise\u001b[0m \u001b[0mSecretNotFoundError\u001b[0m\u001b[0;34m(\u001b[0m\u001b[0mkey\u001b[0m\u001b[0;34m)\u001b[0m\u001b[0;34m\u001b[0m\u001b[0;34m\u001b[0m\u001b[0m\n\u001b[0m\u001b[1;32m     69\u001b[0m   \u001b[0;32mif\u001b[0m \u001b[0;32mnot\u001b[0m \u001b[0mresp\u001b[0m\u001b[0;34m.\u001b[0m\u001b[0mget\u001b[0m\u001b[0;34m(\u001b[0m\u001b[0;34m'access'\u001b[0m\u001b[0;34m,\u001b[0m \u001b[0;32mFalse\u001b[0m\u001b[0;34m)\u001b[0m\u001b[0;34m:\u001b[0m\u001b[0;34m\u001b[0m\u001b[0;34m\u001b[0m\u001b[0m\n\u001b[1;32m     70\u001b[0m     \u001b[0;32mraise\u001b[0m \u001b[0mNotebookAccessError\u001b[0m\u001b[0;34m(\u001b[0m\u001b[0mkey\u001b[0m\u001b[0;34m)\u001b[0m\u001b[0;34m\u001b[0m\u001b[0;34m\u001b[0m\u001b[0m\n",
            "\u001b[0;31mSecretNotFoundError\u001b[0m: Secret HF_TOKEN does not exist."
          ]
        }
      ]
    },
    {
      "cell_type": "code",
      "source": [
        "repo_id=\"mistralai/Mistral-7B-Instruct-v0.3\"\n",
        "llm=HuggingFaceEndpoint(repo_id=repo_id,max_length=10,temperature=0.7,token=sec_key,timeout=300)"
      ],
      "metadata": {
        "id": "rvqPTvcq0Cgx",
        "colab": {
          "base_uri": "https://localhost:8080/",
          "height": 236
        },
        "outputId": "5e1f1d18-8a60-47d6-bbc2-057823f88cac"
      },
      "execution_count": null,
      "outputs": [
        {
          "output_type": "error",
          "ename": "NameError",
          "evalue": "name 'HuggingFaceEndpoint' is not defined",
          "traceback": [
            "\u001b[0;31m---------------------------------------------------------------------------\u001b[0m",
            "\u001b[0;31mNameError\u001b[0m                                 Traceback (most recent call last)",
            "\u001b[0;32m<ipython-input-15-4265602628f5>\u001b[0m in \u001b[0;36m<cell line: 2>\u001b[0;34m()\u001b[0m\n\u001b[1;32m      1\u001b[0m \u001b[0mrepo_id\u001b[0m\u001b[0;34m=\u001b[0m\u001b[0;34m\"mistralai/Mistral-7B-Instruct-v0.3\"\u001b[0m\u001b[0;34m\u001b[0m\u001b[0;34m\u001b[0m\u001b[0m\n\u001b[0;32m----> 2\u001b[0;31m \u001b[0mllm\u001b[0m\u001b[0;34m=\u001b[0m\u001b[0mHuggingFaceEndpoint\u001b[0m\u001b[0;34m(\u001b[0m\u001b[0mrepo_id\u001b[0m\u001b[0;34m=\u001b[0m\u001b[0mrepo_id\u001b[0m\u001b[0;34m,\u001b[0m\u001b[0mmax_length\u001b[0m\u001b[0;34m=\u001b[0m\u001b[0;36m10\u001b[0m\u001b[0;34m,\u001b[0m\u001b[0mtemperature\u001b[0m\u001b[0;34m=\u001b[0m\u001b[0;36m0.7\u001b[0m\u001b[0;34m,\u001b[0m\u001b[0mtoken\u001b[0m\u001b[0;34m=\u001b[0m\u001b[0msec_key\u001b[0m\u001b[0;34m,\u001b[0m\u001b[0mtimeout\u001b[0m\u001b[0;34m=\u001b[0m\u001b[0;36m300\u001b[0m\u001b[0;34m)\u001b[0m\u001b[0;34m\u001b[0m\u001b[0;34m\u001b[0m\u001b[0m\n\u001b[0m",
            "\u001b[0;31mNameError\u001b[0m: name 'HuggingFaceEndpoint' is not defined"
          ]
        }
      ]
    },
    {
      "cell_type": "code",
      "source": [
        "!pip install langchain langchain_community"
      ],
      "metadata": {
        "id": "vCOHYQC73xT3",
        "collapsed": true
      },
      "execution_count": null,
      "outputs": []
    },
    {
      "cell_type": "code",
      "source": [
        "da = new_text"
      ],
      "metadata": {
        "id": "5-72jNk1cS4C"
      },
      "execution_count": null,
      "outputs": []
    },
    {
      "cell_type": "code",
      "source": [
        "print(da)"
      ],
      "metadata": {
        "id": "wjBtxmuucZQq"
      },
      "execution_count": null,
      "outputs": []
    },
    {
      "cell_type": "code",
      "source": [
        "import re\n",
        "\n",
        "text = da\n",
        "\n",
        "# Regular expression to find names and URLs\n",
        "pattern = re.compile(r'\\[(.*?)\\]\\((.*?)\\)')\n",
        "\n",
        "# Find all matches\n",
        "matches = pattern.findall(text)\n",
        "\n",
        "# Create a 2D list with name and URL\n",
        "result = [[match[0], match[1]] for match in matches]\n",
        "\n",
        "# Print the result\n",
        "for item in result:\n",
        "    print(item)\n"
      ],
      "metadata": {
        "id": "VQRSbWrrjYT-"
      },
      "execution_count": null,
      "outputs": []
    },
    {
      "cell_type": "code",
      "source": [
        "# Original list\n",
        "data = result\n",
        "\n",
        "# Function to remove names from the second element\n",
        "def remove_names(data):\n",
        "    for item in data:\n",
        "        # Split the URL and keep only the first part\n",
        "        item[1] = item[1].split(' ')[0]\n",
        "    return data\n",
        "\n",
        "# Update the list\n",
        "updated_data = remove_names(data)\n",
        "\n",
        "# Print the updated list\n",
        "print(updated_data)\n"
      ],
      "metadata": {
        "id": "enVxoqQbl_tV"
      },
      "execution_count": null,
      "outputs": []
    },
    {
      "cell_type": "code",
      "source": [
        "aaron = jinaai_readerapi_web_scrape_url(\"https://en.wikipedia.org/wiki/Ernst_Karl_Abbe'\")\n",
        "print(aaron)"
      ],
      "metadata": {
        "id": "4U57CBswnVqo"
      },
      "execution_count": null,
      "outputs": []
    },
    {
      "cell_type": "code",
      "source": [],
      "metadata": {
        "id": "RhQW36hFnlS5"
      },
      "execution_count": null,
      "outputs": []
    }
  ]
}